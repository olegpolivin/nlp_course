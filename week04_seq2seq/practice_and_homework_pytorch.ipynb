{
 "cells": [
  {
   "cell_type": "markdown",
   "metadata": {
    "colab_type": "text",
    "id": "HmsFABwClrsS"
   },
   "source": [
    "## Seminar and homework (10 points total)\n",
    "\n",
    "Today we shall compose encoder-decoder neural networks and apply them to the task of machine translation.\n",
    "\n",
    "![img](https://esciencegroup.files.wordpress.com/2016/03/seq2seq.jpg)\n",
    "_(img: esciencegroup.files.wordpress.com)_\n",
    "\n",
    "\n",
    "Encoder-decoder architectures are about converting anything to anything, including\n",
    " * Machine translation and spoken dialogue systems\n",
    " * [Image captioning](http://mscoco.org/dataset/#captions-challenge2015) and [image2latex](https://openai.com/requests-for-research/#im2latex) (convolutional encoder, recurrent decoder)\n",
    " * Generating [images by captions](https://arxiv.org/abs/1511.02793) (recurrent encoder, convolutional decoder)\n",
    " * Grapheme2phoneme - convert words to transcripts"
   ]
  },
  {
   "cell_type": "markdown",
   "metadata": {
    "colab_type": "text",
    "id": "R4N9AD2dlrsU"
   },
   "source": [
    "## Our task: machine translation\n",
    "\n",
    "We gonna try our encoder-decoder models on russian to english machine translation problem. More specifically, we'll translate hotel and hostel descriptions. This task shows the scale of machine translation while not requiring you to train your model for weeks if you don't use GPU.\n",
    "\n",
    "Before we get to the architecture, there's some preprocessing to be done. ~~Go tokenize~~ Alright, this time we've done preprocessing for you. As usual, the data will be tokenized with WordPunctTokenizer.\n",
    "\n",
    "However, there's one more thing to do. Our data lines contain unique rare words. If we operate on a word level, we will have to deal with large vocabulary size. If instead we use character-level models, it would take lots of iterations to process a sequence. This time we're gonna pick something inbetween.\n",
    "\n",
    "One popular approach is called [Byte Pair Encoding](https://github.com/rsennrich/subword-nmt) aka __BPE__. The algorithm starts with a character-level tokenization and then iteratively merges most frequent pairs for N iterations. This results in frequent words being merged into a single token and rare words split into syllables or even characters.\n",
    "\n"
   ]
  },
  {
   "cell_type": "code",
   "execution_count": 1,
   "metadata": {
    "colab": {},
    "colab_type": "code",
    "id": "CfvojjHQlrsU"
   },
   "outputs": [],
   "source": [
    "# !pip3 install torch>=1.3.0\n",
    "# !pip3 install subword-nmt &> log\n",
    "# !wget https://www.dropbox.com/s/yy2zqh34dyhv07i/data.txt?dl=1 -O data.txt\n",
    "# !wget https://raw.githubusercontent.com/yandexdataschool/nlp_course/2020/week04_seq2seq/vocab.py -O vocab.py\n",
    "# thanks to tilda and deephack teams for the data, Dmitry Emelyanenko for the code :)"
   ]
  },
  {
   "cell_type": "code",
   "execution_count": 2,
   "metadata": {
    "colab": {},
    "colab_type": "code",
    "id": "g9kP0SdxlrsY"
   },
   "outputs": [],
   "source": [
    "from nltk.tokenize import WordPunctTokenizer\n",
    "from subword_nmt.learn_bpe import learn_bpe\n",
    "from subword_nmt.apply_bpe import BPE\n",
    "tokenizer = WordPunctTokenizer()\n",
    "def tokenize(x):\n",
    "    return ' '.join(tokenizer.tokenize(x.lower()))\n",
    "\n",
    "# split and tokenize the data\n",
    "with open('train.en', 'w') as f_src,  open('train.ru', 'w') as f_dst:\n",
    "    for line in open('data.txt'):\n",
    "        src_line, dst_line = line.strip().split('\\t')\n",
    "        f_src.write(tokenize(src_line) + '\\n')\n",
    "        f_dst.write(tokenize(dst_line) + '\\n')\n",
    "\n",
    "# build and apply bpe vocs\n",
    "bpe = {}\n",
    "for lang in ['en', 'ru']:\n",
    "    learn_bpe(open('./train.' + lang), open('bpe_rules.' + lang, 'w'), num_symbols=8000)\n",
    "    bpe[lang] = BPE(open('./bpe_rules.' + lang))\n",
    "    \n",
    "    with open('train.bpe.' + lang, 'w') as f_out:\n",
    "        for line in open('train.' + lang):\n",
    "            f_out.write(bpe[lang].process_line(line.strip()) + '\\n')"
   ]
  },
  {
   "cell_type": "markdown",
   "metadata": {
    "colab_type": "text",
    "id": "0UPW3sV8lrsb"
   },
   "source": [
    "### Building vocabularies\n",
    "\n",
    "We now need to build vocabularies that map strings to token ids and vice versa. We're gonna need these fellas when we feed training data into model or convert output matrices into words."
   ]
  },
  {
   "cell_type": "code",
   "execution_count": 3,
   "metadata": {
    "colab": {},
    "colab_type": "code",
    "id": "CmTy_m_olrsb"
   },
   "outputs": [],
   "source": [
    "import numpy as np\n",
    "import matplotlib.pyplot as plt\n",
    "%matplotlib inline!pip3 install subword-nmt &> log\n",
    "# !wget https://www.dropbox.com/s/yy2zqh34dyhv07i/data.txt?dl=1 -O data.txt\n",
    "# !wget https://raw.githubusercontent.com/yandexdataschool/nlp_course/2020/week04_seq2seq/vocab.py -O vocab.py"
   ]
  },
  {
   "cell_type": "code",
   "execution_count": 4,
   "metadata": {
    "colab": {},
    "colab_type": "code",
    "id": "8PskgBSxlrsd"
   },
   "outputs": [
    {
     "name": "stdout",
     "output_type": "stream",
     "text": [
      "inp: на территории обустроена бесплатная частная парковка .\n",
      "out: free private parking is available on site .\n",
      "\n",
      "inp: кроме того , в 5 минутах ходьбы работают многочисленные бары и рестораны .\n",
      "out: guests can find many bars and restaurants within a 5 - minute walk .\n",
      "\n",
      "inp: отель san mi@@ gu@@ el расположен в центре мор@@ ели@@ и , в 750 метрах от главной площади города и кафедрального собора .\n",
      "out: hotel san miguel is located in central more@@ lia , 750 metres from the city ’ s main square and cathedral .\n",
      "\n"
     ]
    }
   ],
   "source": [
    "data_inp = np.array(open('./train.bpe.ru').read().split('\\n'))\n",
    "data_out = np.array(open('./train.bpe.en').read().split('\\n'))\n",
    "\n",
    "from sklearn.model_selection import train_test_split\n",
    "train_inp, dev_inp, train_out, dev_out = train_test_split(data_inp, data_out, test_size=3000,\n",
    "                                                          random_state=42)\n",
    "for i in range(3):\n",
    "    print('inp:', train_inp[i])\n",
    "    print('out:', train_out[i], end='\\n\\n')"
   ]
  },
  {
   "cell_type": "code",
   "execution_count": 5,
   "metadata": {
    "colab": {},
    "colab_type": "code",
    "id": "vipg4O61lrsg"
   },
   "outputs": [],
   "source": [
    "from vocab import Vocab\n",
    "inp_voc = Vocab.from_lines(train_inp)\n",
    "out_voc = Vocab.from_lines(train_out)"
   ]
  },
  {
   "cell_type": "code",
   "execution_count": 6,
   "metadata": {
    "colab": {},
    "colab_type": "code",
    "id": "cwOoHfuhlrsi"
   },
   "outputs": [
    {
     "name": "stdout",
     "output_type": "stream",
     "text": [
      "lines\n",
      "['гостевой дом r .', 'до афин — 20 км .', 'работает боулинг .', 'оборудован балкон .', 'подключен wi - fi .']\n",
      "\n",
      "words to ids (0 = bos, 1 = eos):\n",
      "tensor([[   0, 2688, 2943, 1108,   29,    1,    1,    1],\n",
      "        [   0, 2922, 1834, 8035,   59, 3800,   29,    1],\n",
      "        [   0, 6030, 2083,   29,    1,    1,    1,    1],\n",
      "        [   0, 4927, 1870,   29,    1,    1,    1,    1],\n",
      "        [   0, 5549, 1453,   27,  592,   29,    1,    1]])\n",
      "\n",
      "back to words\n",
      "['гостевой дом r .', 'до афин — 20 км .', 'работает боулинг .', 'оборудован балкон .', 'подключен wi - fi .']\n"
     ]
    }
   ],
   "source": [
    "# Here's how you cast lines into ids and backwards.\n",
    "batch_lines = sorted(train_inp, key=len)[5:10]\n",
    "batch_ids = inp_voc.to_matrix(batch_lines)\n",
    "batch_lines_restored = inp_voc.to_lines(batch_ids)\n",
    "\n",
    "print(\"lines\")\n",
    "print(batch_lines)\n",
    "print(\"\\nwords to ids (0 = bos, 1 = eos):\")\n",
    "print(batch_ids)\n",
    "print(\"\\nback to words\")\n",
    "print(batch_lines_restored)"
   ]
  },
  {
   "cell_type": "markdown",
   "metadata": {
    "colab_type": "text",
    "id": "gSYu-MkElrsk"
   },
   "source": [
    "Draw source and translation length distributions to estimate the scope of the task."
   ]
  },
  {
   "cell_type": "code",
   "execution_count": 7,
   "metadata": {
    "colab": {},
    "colab_type": "code",
    "id": "TLLl9cSNlrsl"
   },
   "outputs": [
    {
     "data": {
      "image/png": "[encoded data removed]",
      "text/plain": [
       "<Figure size 576x288 with 2 Axes>"
      ]
     },
     "metadata": {
      "needs_background": "light"
     },
     "output_type": "display_data"
    }
   ],
   "source": [
    "plt.figure(figsize=[8, 4])\n",
    "plt.subplot(1, 2, 1)\n",
    "plt.title(\"source length\")\n",
    "plt.hist(list(map(len, map(str.split, train_inp))), bins=20);\n",
    "\n",
    "plt.subplot(1, 2, 2)\n",
    "plt.title(\"translation length\")\n",
    "plt.hist(list(map(len, map(str.split, train_out))), bins=20);"
   ]
  },
  {
   "cell_type": "markdown",
   "metadata": {
    "colab_type": "text",
    "id": "BHWgx34flrsn"
   },
   "source": [
    "### Encoder-decoder model\n",
    "\n",
    "The code below contains a template for a simple encoder-decoder model: single GRU encoder/decoder, no attention or anything. This model is implemented for you as a reference and a baseline for your homework assignment."
   ]
  },
  {
   "cell_type": "code",
   "execution_count": 8,
   "metadata": {
    "colab": {},
    "colab_type": "code",
    "id": "pd_rDRm9lrso"
   },
   "outputs": [],
   "source": [
    "import torch\n",
    "import torch.nn as nn\n",
    "import torch.nn.functional as F\n",
    "device = 'cuda' if torch.cuda.is_available() else 'cpu'"
   ]
  },
  {
   "cell_type": "code",
   "execution_count": 9,
   "metadata": {
    "colab": {},
    "colab_type": "code",
    "id": "wgfN5-F7lrst"
   },
   "outputs": [],
   "source": [
    "class BasicModel(nn.Module):\n",
    "    def __init__(self, inp_voc, out_voc, emb_size=64, hid_size=128):\n",
    "        \"\"\"\n",
    "        A simple encoder-decoder seq2seq model\n",
    "        \"\"\"\n",
    "        super().__init__() # initialize base class to track sub-layers, parameters, etc.\n",
    "\n",
    "        self.inp_voc, self.out_voc = inp_voc, out_voc\n",
    "        self.hid_size = hid_size\n",
    "        \n",
    "        self.emb_inp = nn.Embedding(len(inp_voc), emb_size)\n",
    "        self.emb_out = nn.Embedding(len(out_voc), emb_size)\n",
    "        self.enc0 = nn.GRU(emb_size, hid_size, batch_first=True)\n",
    "\n",
    "        self.dec_start = nn.Linear(hid_size, hid_size)\n",
    "        self.dec0 = nn.GRUCell(emb_size, hid_size)\n",
    "        self.logits = nn.Linear(hid_size, len(out_voc))\n",
    "        \n",
    "    def forward(self, inp, out):\n",
    "        \"\"\" Apply model in training mode \"\"\"\n",
    "        initial_state = self.encode(inp)\n",
    "        return self.decode(initial_state, out)\n",
    "\n",
    "\n",
    "    def encode(self, inp, **flags):\n",
    "        \"\"\"\n",
    "        Takes symbolic input sequence, computes initial state\n",
    "        :param inp: matrix of input tokens [batch, time]\n",
    "        :returns: initial decoder state tensors, one or many\n",
    "        \"\"\"\n",
    "        inp_emb = self.emb_inp(inp)\n",
    "        batch_size = inp.shape[0]\n",
    "        \n",
    "        enc_seq, [last_state_but_not_really] = self.enc0(inp_emb)\n",
    "        # enc_seq: [batch, time, hid_size], last_state: [batch, hid_size]\n",
    "        \n",
    "        # note: last_state is not _actually_ last because of padding, let's find the real last_state\n",
    "        lengths = (inp != self.inp_voc.eos_ix).to(torch.int64).sum(dim=1).clamp_max(inp.shape[1] - 1)\n",
    "        last_state = enc_seq[torch.arange(len(enc_seq)), lengths]\n",
    "        # ^-- shape: [batch_size, hid_size]\n",
    "        \n",
    "        dec_start = self.dec_start(last_state)\n",
    "        return [dec_start]\n",
    "\n",
    "    def decode_step(self, prev_state, prev_tokens, **flags):\n",
    "        \"\"\"\n",
    "        Takes previous decoder state and tokens, returns new state and logits for next tokens\n",
    "        :param prev_state: a list of previous decoder state tensors, same as returned by encode(...)\n",
    "        :param prev_tokens: previous output tokens, an int vector of [batch_size]\n",
    "        :return: a list of next decoder state tensors, a tensor of logits [batch, len(out_voc)]\n",
    "        \"\"\"\n",
    "        prev_gru0_state = prev_state[0]\n",
    "        out_emb = self.emb_out(prev_tokens)\n",
    "        new_dec_state = self.dec0(out_emb, prev_gru0_state)\n",
    "        output_logits = self.logits(new_dec_state)\n",
    "        return [new_dec_state], output_logits\n",
    "\n",
    "    def decode(self, initial_state, out_tokens, **flags):\n",
    "        \"\"\" Iterate over reference tokens (out_tokens) with decode_step \"\"\"\n",
    "        batch_size = out_tokens.shape[0]\n",
    "        state = initial_state\n",
    "        \n",
    "        # initial logits: always predict BOS\n",
    "        onehot_bos = F.one_hot(torch.full([batch_size], self.out_voc.bos_ix, dtype=torch.int64),\n",
    "                               num_classes=len(self.out_voc)).to(device=out_tokens.device)\n",
    "        first_logits = torch.log(onehot_bos.to(torch.float32) + 1e-9)\n",
    "        \n",
    "        logits_sequence = [first_logits]\n",
    "        for i in range(out_tokens.shape[1] - 1):\n",
    "            state, logits = self.decode_step(state, out_tokens[:, i])\n",
    "            logits_sequence.append(logits)\n",
    "        return torch.stack(logits_sequence, dim=1)\n",
    "\n",
    "    def decode_inference(self, initial_state, max_len=100, **flags):\n",
    "        \"\"\" Generate translations from model (greedy version) \"\"\"\n",
    "        batch_size, device = len(initial_state[0]), initial_state[0].device\n",
    "        state = initial_state\n",
    "        outputs = [torch.full([batch_size], self.out_voc.bos_ix, dtype=torch.int64, \n",
    "                              device=device)]\n",
    "        all_states = [initial_state]\n",
    "\n",
    "        for i in range(max_len):\n",
    "            state, logits = self.decode_step(state, outputs[-1])\n",
    "            outputs.append(logits.argmax(dim=-1))\n",
    "            all_states.append(state)\n",
    "        \n",
    "        return torch.stack(outputs, dim=1), all_states\n",
    "\n",
    "    def translate_lines(self, inp_lines, **kwargs):\n",
    "        inp = inp_voc.to_matrix(inp_lines).to(device)\n",
    "        initial_state = self.encode(inp)\n",
    "        out_ids, states = self.decode_inference(initial_state, **kwargs)\n",
    "        return out_voc.to_lines(out_ids.cpu().numpy()), states\n"
   ]
  },
  {
   "cell_type": "code",
   "execution_count": 10,
   "metadata": {},
   "outputs": [],
   "source": [
    "# debugging area\n",
    "model = BasicModel(inp_voc, out_voc).to(device)\n",
    "\n",
    "dummy_inp_tokens = inp_voc.to_matrix(sorted(train_inp, key=len)[5:10]).to(device)\n",
    "dummy_out_tokens = out_voc.to_matrix(sorted(train_out, key=len)[5:10]).to(device)\n",
    "\n",
    "h0 = model.encode(dummy_inp_tokens)\n",
    "h1, logits1 = model.decode_step(h0, torch.arange(len(dummy_inp_tokens), device=device))\n",
    "\n",
    "assert isinstance(h1, list) and len(h1) == len(h0)\n",
    "assert h1[0].shape == h0[0].shape and not torch.allclose(h1[0], h0[0])\n",
    "assert logits1.shape == (len(dummy_inp_tokens), len(out_voc))\n",
    "\n",
    "logits_seq = model.decode(h0, dummy_out_tokens)\n",
    "assert logits_seq.shape == (dummy_out_tokens.shape[0], dummy_out_tokens.shape[1], len(out_voc))\n",
    "\n",
    "# full forward\n",
    "logits_seq2 = model(dummy_inp_tokens, dummy_out_tokens)\n",
    "assert logits_seq2.shape == logits_seq.shape"
   ]
  },
  {
   "cell_type": "code",
   "execution_count": 11,
   "metadata": {},
   "outputs": [
    {
     "name": "stdout",
     "output_type": "stream",
     "text": [
      "Translations without training:\n",
      "path dover event sdorf sales maris maris cola fjord sonnen@@ end@@ tained gare burning yside sax@@ third exercise khi@@ dorms starts recreation huge xen@@ fjord\n",
      "yard pin net pen@@ mansion their san@@ otdy@@ still ka@@ price pal@@ seasonal michelin 49 dition@@ ace minibars ang ænget umbrellas shenzhen degli veneto braga\n",
      "yard pin net pen@@ mansion their san@@ otdy@@ still ka@@ price pal@@ seasonal michelin 49 dition@@ ace minibars ang ænget umbrellas shenzhen degli veneto braga\n"
     ]
    }
   ],
   "source": [
    "dummy_translations, dummy_states = model.translate_lines(train_inp[:3], max_len=25)\n",
    "print(\"Translations without training:\")\n",
    "print('\\n'.join([line for line in dummy_translations]))"
   ]
  },
  {
   "cell_type": "markdown",
   "metadata": {
    "colab_type": "text",
    "id": "_wuv1-aVlrs0"
   },
   "source": [
    "### Training loss (2 points)\n",
    "\n",
    "Our training objective is almost the same as it was for neural language models:\n",
    "$$ L = {\\frac1{|D|}} \\sum_{X, Y \\in D} \\sum_{y_t \\in Y} - \\log p(y_t \\mid y_1, \\dots, y_{t-1}, X, \\theta) $$\n",
    "\n",
    "where $|D|$ is the __total length of all sequences__, including BOS and first EOS, but excluding PAD."
   ]
  },
  {
   "cell_type": "code",
   "execution_count": 12,
   "metadata": {
    "colab": {},
    "colab_type": "code",
    "id": "c8XPV8sWlrs5",
    "scrolled": true
   },
   "outputs": [],
   "source": [
    "\n",
    "def compute_loss(model, inp, out, **flags):\n",
    "    \"\"\"\n",
    "    Compute loss (float32 scalar) as in the formula above\n",
    "    :param inp: input tokens matrix, int32[batch, time]\n",
    "    :param out: reference tokens matrix, int32[batch, time]\n",
    "    \n",
    "    In order to pass the tests, your function should\n",
    "    * include loss at first EOS but not the subsequent ones\n",
    "    * divide sum of losses by a sum of input lengths (use voc.compute_mask)\n",
    "    \"\"\"\n",
    "    mask = model.out_voc.compute_mask(out) # [batch_size, out_len]\n",
    "    targets_1hot = F.one_hot(out, len(model.out_voc)).to(torch.float32)\n",
    "    \n",
    "    # outputs of the model, [batch_size, out_len, num_tokens]\n",
    "    logits_seq =  model(inp, out)\n",
    "\n",
    "    # log-probabilities of all tokens at all steps, [batch_size, out_len, num_tokens]\n",
    "    softmax = F.softmax(logits_seq, dim=2)\n",
    "    logprobs_seq = torch.log(softmax)\n",
    "   \n",
    "    # log-probabilities of correct outputs, [batch_size, out_len]\n",
    "    logp_out = (logprobs_seq * targets_1hot).sum(dim=-1)*mask\n",
    "    # ^-- this will select the probability of the actual next token.\n",
    "    # Note: you can compute loss more efficiently using using F.cross_entropy\n",
    "\n",
    "    # average cross-entropy over tokens where mask == True\n",
    "    return -torch.sum(logp_out)/torch.sum(mask) # average loss, scalar"
   ]
  },
  {
   "cell_type": "code",
   "execution_count": 13,
   "metadata": {
    "colab": {},
    "colab_type": "code",
    "id": "ME_LWUeklrs7"
   },
   "outputs": [
    {
     "name": "stdout",
     "output_type": "stream",
     "text": [
      "Loss: tensor(7.5559, device='cuda:0', grad_fn=<DivBackward0>)\n"
     ]
    }
   ],
   "source": [
    "dummy_loss = compute_loss(model, dummy_inp_tokens, dummy_out_tokens)\n",
    "print(\"Loss:\", dummy_loss)\n",
    "assert np.allclose(dummy_loss.item(), 7.5, rtol=0.1, atol=0.1), \"We're sorry for your loss\"\n",
    "\n",
    "# test autograd\n",
    "dummy_loss.backward()\n",
    "for name, param in model.named_parameters():\n",
    "    assert param.grad is not None and abs(param.grad.max()) != 0, f\"Param {name} received no gradients\""
   ]
  },
  {
   "cell_type": "markdown",
   "metadata": {
    "colab_type": "text",
    "id": "HpbaBpW7lrs-"
   },
   "source": [
    "### Evaluation: BLEU\n",
    "\n",
    "Machine translation is commonly evaluated with [BLEU](https://en.wikipedia.org/wiki/BLEU) score. This metric simply computes which fraction of predicted n-grams is actually present in the reference translation. It does so for n=1,2,3 and 4 and computes the geometric average with penalty if translation is shorter than reference.\n",
    "\n",
    "While BLEU [has many drawbacks](http://www.cs.jhu.edu/~ccb/publications/re-evaluating-the-role-of-bleu-in-mt-research.pdf), it still remains the most commonly used metric and one of the simplest to compute."
   ]
  },
  {
   "cell_type": "code",
   "execution_count": 14,
   "metadata": {
    "colab": {},
    "colab_type": "code",
    "id": "Gb1-PhKIlrs-"
   },
   "outputs": [],
   "source": [
    "from nltk.translate.bleu_score import corpus_bleu\n",
    "def compute_bleu(model, inp_lines, out_lines, bpe_sep='@@ ', **flags):\n",
    "    \"\"\"\n",
    "    Estimates corpora-level BLEU score of model's translations given inp and reference out\n",
    "    Note: if you're serious about reporting your results, use https://pypi.org/project/sacrebleu\n",
    "    \"\"\"\n",
    "    with torch.no_grad():\n",
    "        translations, _ = model.translate_lines(inp_lines, **flags)\n",
    "        translations = [line.replace(bpe_sep, '') for line in translations] \n",
    "        return corpus_bleu(\n",
    "            [[ref.split()] for ref in out_lines],\n",
    "            [trans.split() for trans in translations],\n",
    "            smoothing_function=lambda precisions, **kw: [p + 1.0 / p.denominator for p in precisions]\n",
    "            ) * 100"
   ]
  },
  {
   "cell_type": "code",
   "execution_count": 15,
   "metadata": {
    "colab": {},
    "colab_type": "code",
    "id": "gZvfid1RlrtA"
   },
   "outputs": [
    {
     "data": {
      "text/plain": [
       "0.0018061101072080852"
      ]
     },
     "execution_count": 15,
     "metadata": {},
     "output_type": "execute_result"
    }
   ],
   "source": [
    "compute_bleu(model, dev_inp, dev_out)"
   ]
  },
  {
   "cell_type": "markdown",
   "metadata": {
    "colab_type": "text",
    "id": "nQDhGwg4lrtC"
   },
   "source": [
    "### Training loop\n",
    "\n",
    "Training encoder-decoder models isn't that different from any other models: sample batches, compute loss, backprop and update"
   ]
  },
  {
   "cell_type": "code",
   "execution_count": 16,
   "metadata": {
    "colab": {},
    "colab_type": "code",
    "id": "yfwIaixHlrtI",
    "scrolled": false
   },
   "outputs": [],
   "source": [
    "from IPython.display import clear_output\n",
    "from tqdm import tqdm, trange\n",
    "metrics = {'train_loss': [], 'dev_bleu': [] }\n",
    "\n",
    "model = BasicModel(inp_voc, out_voc).to(device)\n",
    "opt = torch.optim.Adam(model.parameters(), lr=1e-3)\n",
    "batch_size = 32"
   ]
  },
  {
   "cell_type": "code",
   "execution_count": 17,
   "metadata": {
    "colab": {},
    "colab_type": "code",
    "id": "LlDT6eDUlrtL",
    "scrolled": true
   },
   "outputs": [
    {
     "data": {
      "image/png": "[encoded data removed]",
      "text/plain": [
       "<Figure size 864x288 with 2 Axes>"
      ]
     },
     "metadata": {
      "needs_background": "light"
     },
     "output_type": "display_data"
    },
    {
     "name": "stdout",
     "output_type": "stream",
     "text": [
      "Mean loss=1.846\n"
     ]
    },
    {
     "name": "stderr",
     "output_type": "stream",
     "text": [
      "100%|██████████| 25000/25000 [19:42<00:00, 21.15it/s]\n"
     ]
    }
   ],
   "source": [
    "for _ in trange(25000):\n",
    "    step = len(metrics['train_loss']) + 1\n",
    "    batch_ix = np.random.randint(len(train_inp), size=batch_size)\n",
    "    batch_inp = inp_voc.to_matrix(train_inp[batch_ix]).to(device)\n",
    "    batch_out = out_voc.to_matrix(train_out[batch_ix]).to(device)\n",
    "    \n",
    "#     <YOUR CODE: training step using batch_inp and batch_out>\n",
    "    opt.zero_grad()\n",
    "    loss_t = compute_loss(model, batch_inp, batch_out)\n",
    "    \n",
    "    metrics['train_loss'].append((step, loss_t.item()))\n",
    "    \n",
    "    loss_t.backward()\n",
    "    opt.step()\n",
    " \n",
    "    \n",
    "    if step % 100 == 0:\n",
    "        metrics['dev_bleu'].append((step, compute_bleu(model, dev_inp, dev_out)))\n",
    "        \n",
    "        clear_output(True)\n",
    "        plt.figure(figsize=(12,4))\n",
    "        for i, (name, history) in enumerate(sorted(metrics.items())):\n",
    "            plt.subplot(1, len(metrics), i + 1)\n",
    "            plt.title(name)\n",
    "            plt.plot(*zip(*history))\n",
    "            plt.grid()\n",
    "        plt.show()\n",
    "        print(\"Mean loss=%.3f\" % np.mean(metrics['train_loss'][-10:], axis=0)[1], flush=True)\n",
    "        \n",
    "# Note: it's okay if bleu oscillates up and down as long as it gets better on average over long term (e.g. 5k batches)"
   ]
  },
  {
   "cell_type": "code",
   "execution_count": 18,
   "metadata": {
    "colab": {},
    "colab_type": "code",
    "id": "2ahuhKVhlrtP"
   },
   "outputs": [],
   "source": [
    "assert np.mean(metrics['dev_bleu'][-10:], axis=0)[1] > 15, \"We kind of need a higher bleu BLEU from you. Kind of right now.\""
   ]
  },
  {
   "cell_type": "code",
   "execution_count": 19,
   "metadata": {
    "colab": {},
    "colab_type": "code",
    "id": "KyaHOpealrtS"
   },
   "outputs": [
    {
     "name": "stdout",
     "output_type": "stream",
     "text": [
      "в распоряжении гостей общая кухня и общая гостиная .\n",
      "there is a shared kitchen and a shared kitchen at the property .\n",
      "\n",
      "кроме того , предоставляется прокат велосипедов , услуги трансфера и бесплатная парковка .\n",
      "a shuttle service and free parking are available at a surcharge .\n",
      "\n",
      "расстояние до города ки@@ сси@@ м@@ ми составляет 26 км .\n",
      "latina city is 26 km from the property .\n",
      "\n",
      "апартаменты в пент@@ хаусе с общим открытым бассейном , садом , кондиционером и террасой для загара расположены в 5 минутах ходьбы от пляжа на курорте ка@@ бо - рой .\n",
      "located 5 minutes ’ walk from the beach , residencial mirador del carmen offers a restaurant , a terrace and a garden with bbq facilities .\n",
      "\n",
      "апартаменты mo@@ s@@ co@@ w point - loft red square находятся в москве , в 200 метрах от большого театра .\n",
      "central piazza is 700 metres from the centre of warsaw .\n",
      "\n",
      "в вашем распоряжении собственная ванная комната с душем и полотенцами .\n",
      "featuring a shower , private bathrooms also come with towels .\n",
      "\n"
     ]
    }
   ],
   "source": [
    "for inp_line, trans_line in zip(dev_inp[::500], model.translate_lines(dev_inp[::500])[0]):\n",
    "    print(inp_line)\n",
    "    print(trans_line)\n",
    "    print()"
   ]
  },
  {
   "cell_type": "markdown",
   "metadata": {
    "colab_type": "text",
    "id": "Tv0s8qxOXp5y"
   },
   "source": [
    "# Homework code templates will appear here soon!"
   ]
  },
  {
   "cell_type": "markdown",
   "metadata": {
    "colab_type": "text",
    "id": "edk_oVg0lrtW"
   },
   "source": [
    "### Your Attention Required\n",
    "\n",
    "In this section we want you to improve over the basic model by implementing a simple attention mechanism.\n",
    "\n",
    "This is gonna be a two-parter: building the __attention layer__ and using it for an __attentive seq2seq model__."
   ]
  },
  {
   "cell_type": "markdown",
   "metadata": {
    "colab_type": "text",
    "id": "Qz9aROAIlrtX"
   },
   "source": [
    "### Attention layer (3 points)\n",
    "\n",
    "Here you will have to implement a layer that computes a simple additive attention:\n",
    "\n",
    "Given encoder sequence $ h^e_0, h^e_1, h^e_2, ..., h^e_T$ and a single decoder state $h^d$,\n",
    "\n",
    "* Compute logits with a 2-layer neural network\n",
    "$$a_t = linear_{out}(tanh(linear_{e}(h^e_t) + linear_{d}(h_d)))$$\n",
    "* Get probabilities from logits, \n",
    "$$ p_t = {{e ^ {a_t}} \\over { \\sum_\\tau e^{a_\\tau} }} $$\n",
    "\n",
    "* Add up encoder states with probabilities to get __attention response__\n",
    "$$ attn = \\sum_t p_t \\cdot h^e_t $$\n",
    "\n",
    "You can learn more about attention layers in the lecture slides or [from this post](https://distill.pub/2016/augmented-rnns/)."
   ]
  },
  {
   "cell_type": "code",
   "execution_count": 20,
   "metadata": {},
   "outputs": [],
   "source": [
    "class AttentionLayer(nn.Module):\n",
    "    def __init__(self, name, enc_size, dec_size, hid_size, activ=torch.tanh):\n",
    "        \"\"\" A layer that computes additive attention response and weights \"\"\"\n",
    "        super().__init__()\n",
    "        self.name = name\n",
    "        self.enc_size = enc_size # num units in encoder state\n",
    "        self.dec_size = dec_size # num units in decoder state\n",
    "        self.hid_size = hid_size # attention layer hidden units\n",
    "        self.activ = activ       # attention layer hidden nonlinearity\n",
    "        \n",
    "        # create trainable paramteres like this:\n",
    "#         self.<PARAMETER_NAME> = nn.Parameter(<INITIAL_VALUES>, requires_grad=True)\n",
    "#         <...>  # you will need a couple of these\n",
    "        We = torch.empty(enc_size, hid_size)\n",
    "        nn.init.xavier_uniform_(We)\n",
    "        self.We = nn.Parameter(We, requires_grad=True)\n",
    "\n",
    "        Wd = torch.empty(dec_size, hid_size)\n",
    "        nn.init.xavier_uniform_(Wd)\n",
    "        self.Wd = nn.Parameter(Wd, requires_grad=True)\n",
    "        \n",
    "        Wout = torch.empty(hid_size, 1)\n",
    "        nn.init.xavier_uniform_(Wout)\n",
    "        self.Wout = nn.Parameter(Wout, requires_grad=True)\n",
    "        \n",
    "\n",
    "    def forward(self, enc, dec, inp_mask):\n",
    "        \"\"\"\n",
    "        Computes attention response and weights\n",
    "        :param enc: encoder activation sequence, float32[batch_size, ninp, enc_size]\n",
    "        :param dec: single decoder state used as \"query\", float32[batch_size, dec_size]\n",
    "        :param inp_mask: mask on enc activatons (0 after first eos), float32 [batch_size, ninp]\n",
    "        :returns: attn[batch_size, enc_size], probs[batch_size, ninp]\n",
    "            - attn - attention response vector (weighted sum of enc)\n",
    "            - probs - attention weights after softmax\n",
    "        \"\"\"\n",
    "\n",
    "        # Compute logits\n",
    "#         print('Attent Enc', enc.shape)\n",
    "#         print('Attent We', self.We.shape)\n",
    "#         print('Attent Dec', dec.shape)\n",
    "#         print('Attent Wd', self.Wd.shape)\n",
    "        activ = self.activ(torch.matmul(enc, self.We) + torch.matmul(dec, self.Wd).unsqueeze(1))\n",
    "        logits = torch.matmul(activ, self.Wout)\n",
    "\n",
    "        # Apply mask - if mask is 0, logits should be -inf or -1e9\n",
    "        # You may need torch.where\n",
    "        inp_mask = inp_mask.unsqueeze(2)\n",
    "        logits = torch.where(inp_mask==0, torch.tensor(-1e9, device='cuda:0'), logits)\n",
    "\n",
    "        # Compute attention probabilities (softmax)\n",
    "        probs =  F.softmax(logits, dim=1)\n",
    "        # Compute attention response using enc and probs\n",
    "        attn = torch.sum(probs*enc, dim=1)\n",
    "\n",
    "        return attn, probs.squeeze(2)"
   ]
  },
  {
   "cell_type": "code",
   "execution_count": 21,
   "metadata": {},
   "outputs": [],
   "source": [
    "# name='LookAtMe'\n",
    "# enc_size=512\n",
    "# dec_size=256\n",
    "# hid_size=30\n",
    "\n",
    "# mask = torch.Tensor([[0, 1, 0, 0, 1, 0, 0,1,0, 1], [1, 1, 1, 1, 1, 1, 0,0,0, 0]])\n",
    "\n",
    "# al = AttentionLayer(name, enc_size, dec_size, hid_size)\n",
    "# enc = torch.rand((2, 10, enc_size))\n",
    "# dec = torch.rand((2, dec_size))\n",
    "# attn, probs = al.forward(enc, dec, mask)"
   ]
  },
  {
   "cell_type": "markdown",
   "metadata": {
    "colab_type": "text",
    "id": "IalfpdAelrtb"
   },
   "source": [
    "### Seq2seq model with attention (3 points)\n",
    "\n",
    "You can now use the attention layer to build a network. The simplest way to implement attention is to use it in decoder phase:\n",
    "![img](https://i.imgur.com/6fKHlHb.png)\n",
    "_image from distill.pub [article](https://distill.pub/2016/augmented-rnns/)_\n",
    "\n",
    "On every step, use __previous__ decoder state to obtain attention response. Then feed concat this response to the inputs of next attention layer.\n",
    "\n",
    "The key implementation detail here is __model state__. Put simply, you can add any tensor into the list of `encode` outputs. You will then have access to them at each `decode` step. This may include:\n",
    "* Last RNN hidden states (as in basic model)\n",
    "* The whole sequence of encoder outputs (to attend to) and mask\n",
    "* Attention probabilities (to visualize)\n",
    "\n",
    "_There are, of course, alternative ways to wire attention into your network and different kinds of attention. Take a look at [this](https://arxiv.org/abs/1609.08144), [this](https://arxiv.org/abs/1706.03762) and [this](https://arxiv.org/abs/1808.03867) for ideas. And for image captioning/im2latex there's [visual attention](https://arxiv.org/abs/1502.03044)_"
   ]
  },
  {
   "cell_type": "code",
   "execution_count": 22,
   "metadata": {
    "colab": {},
    "colab_type": "code",
    "id": "NCKPB5JmcE6j"
   },
   "outputs": [],
   "source": [
    "class AttentiveModel(BasicModel):\n",
    "    def __init__(self, name, inp_voc, out_voc,\n",
    "                 emb_size=64, hid_size=128, attn_size=128):\n",
    "        \"\"\" Translation model that uses attention. See instructions above. \"\"\"\n",
    "        nn.Module.__init__(self)  # initialize base class to track sub-layers, trainable variables, etc.\n",
    "        self.inp_voc, self.out_voc = inp_voc, out_voc\n",
    "        self.hid_size = hid_size\n",
    "        \n",
    "#         <YOUR CODE: initialize layers>\n",
    "        self.emb_inp = nn.Embedding(len(inp_voc), emb_size)\n",
    "        self.emb_out = nn.Embedding(len(out_voc), emb_size)\n",
    "        self.enc0 = nn.GRU(emb_size, hid_size, batch_first=True)\n",
    "\n",
    "        self.dec_start = nn.Linear(hid_size, hid_size)\n",
    "        self.dec0 = nn.GRUCell(emb_size, hid_size)\n",
    "        self.logits = nn.Linear(2*hid_size, len(out_voc))\n",
    "\n",
    "        self.attention = AttentionLayer(name, hid_size, hid_size, attn_size)\n",
    "\n",
    "    def encode(self, inp, **flags):\n",
    "        \"\"\"\n",
    "        Takes symbolic input sequence, computes initial state\n",
    "        :param inp: matrix of input tokens [batch, time]\n",
    "        :return: a list of initial decoder state tensors\n",
    "        \"\"\"\n",
    "        inp_emb = self.emb_inp(inp)\n",
    "        batch_size = inp.shape[0]\n",
    "        inp_mask = self.inp_voc.compute_mask(inp)\n",
    "        \n",
    "        enc_seq, [last_state_but_not_really] = self.enc0(inp_emb)\n",
    "        # enc_seq: [batch, time, hid_size], last_state: [batch, hid_size]\n",
    "        \n",
    "        # note: last_state is not _actually_ last because of padding, let's find the real last_state\n",
    "        lengths = (inp != self.inp_voc.eos_ix).to(torch.int64).sum(dim=1).clamp_max(inp.shape[1] - 1)\n",
    "        last_state = enc_seq[torch.arange(len(enc_seq)), lengths]\n",
    "        # ^-- shape: [batch_size, hid_size]\n",
    "        \n",
    "        # encode input sequence, create initial decoder states\n",
    "        dec_start = self.dec_start(last_state)\n",
    "        # apply attention layer from initial decoder hidden state\n",
    "        \n",
    "        attn, first_attn_probas = self.attention(enc_seq, dec_start, inp_mask)\n",
    "        # Build first state: include\n",
    "        # * initial states for decoder recurrent layers\n",
    "        # * encoder sequence and encoder attn mask (for attention)\n",
    "        # * make sure that last state item is attention probabilities tensor\n",
    "        decoder_hidden_state_start = torch.cat([dec_start, attn], axis=1)\n",
    "        return [decoder_hidden_state_start, enc_seq, inp_mask, first_attn_probas]\n",
    "   \n",
    "    def decode_step(self, prev_state, prev_tokens, **flags):\n",
    "        \"\"\"\n",
    "        Takes previous decoder state and tokens, returns new state and logits for next tokens\n",
    "        :param prev_state: a list of previous decoder state tensors\n",
    "        :param prev_tokens: previous output tokens, an int vector of [batch_size]\n",
    "        :return: a list of next decoder state tensors, a tensor of logits [batch, n_tokens]\n",
    "        \"\"\"\n",
    "        \n",
    "#         <YOUR CODE HERE>\n",
    "        prev_gru0_state = prev_state[0]\n",
    "        hidden_state = prev_gru0_state[:, :self.hid_size]\n",
    "        context = prev_gru0_state[:, self.hid_size:]\n",
    "        enc_seq = prev_state[1]\n",
    "        inp_mask = prev_state[2]\n",
    "        out_emb = self.emb_out(prev_tokens)\n",
    "        new_dec_hidden_state = self.dec0(out_emb, hidden_state)\n",
    "        attn, attn_probas = self.attention(enc_seq, new_dec_hidden_state, inp_mask)\n",
    "        \n",
    "        new_dec_state = torch.cat([new_dec_hidden_state, attn], axis=1)\n",
    "        output_logits = self.logits(new_dec_state)\n",
    "        return [new_dec_state, enc_seq, inp_mask, attn_probas], output_logits\n"
   ]
  },
  {
   "cell_type": "markdown",
   "metadata": {
    "colab_type": "text",
    "id": "ryZCOTEslrtf"
   },
   "source": [
    "### Training attentive model\n",
    "\n",
    "Please reuse the infrastructure you've built for the regular model. I hope you didn't hard-code anything :)"
   ]
  },
  {
   "cell_type": "code",
   "execution_count": 23,
   "metadata": {},
   "outputs": [],
   "source": [
    "# debugging area\n",
    "model = AttentiveModel('LookAtMe', inp_voc, out_voc).to(device)\n",
    "\n",
    "dummy_inp_tokens = inp_voc.to_matrix(sorted(train_inp, key=len)[5:10]).to(device)\n",
    "dummy_out_tokens = out_voc.to_matrix(sorted(train_out, key=len)[5:10]).to(device)\n",
    "\n",
    "h0 = model.encode(dummy_inp_tokens)\n",
    "h1, logits1 = model.decode_step(h0, torch.arange(len(dummy_inp_tokens), device=device))\n",
    "\n",
    "assert isinstance(h1, list) and len(h1) == len(h0)\n",
    "assert h1[0].shape == h0[0].shape and not torch.allclose(h1[0], h0[0])\n",
    "assert logits1.shape == (len(dummy_inp_tokens), len(out_voc))\n",
    "\n",
    "logits_seq = model.decode(h0, dummy_out_tokens)\n",
    "assert logits_seq.shape == (dummy_out_tokens.shape[0], dummy_out_tokens.shape[1], len(out_voc))\n",
    "\n",
    "# full forward\n",
    "logits_seq2 = model(dummy_inp_tokens, dummy_out_tokens)\n",
    "assert logits_seq2.shape == logits_seq.shape"
   ]
  },
  {
   "cell_type": "code",
   "execution_count": 24,
   "metadata": {
    "colab": {},
    "colab_type": "code",
    "id": "-YMHPgZxcFaQ"
   },
   "outputs": [],
   "source": [
    "# <YOUR CODE: create AttentiveModel and training utilities>\n",
    "from IPython.display import clear_output\n",
    "from tqdm import tqdm, trange\n",
    "metrics = {'train_loss': [], 'dev_bleu': [] }\n",
    "\n",
    "model = AttentiveModel('LookAtMe', inp_voc, out_voc).to(device)\n",
    "opt = torch.optim.Adam(model.parameters(), lr=1e-3)\n",
    "batch_size = 32"
   ]
  },
  {
   "cell_type": "code",
   "execution_count": 25,
   "metadata": {
    "scrolled": false
   },
   "outputs": [
    {
     "data": {
      "image/png": "[encoded data removed]",
      "text/plain": [
       "<Figure size 864x288 with 2 Axes>"
      ]
     },
     "metadata": {
      "needs_background": "light"
     },
     "output_type": "display_data"
    },
    {
     "name": "stdout",
     "output_type": "stream",
     "text": [
      "Mean loss=1.038\n"
     ]
    },
    {
     "name": "stderr",
     "output_type": "stream",
     "text": [
      "100%|██████████| 25000/25000 [38:45<00:00, 10.75it/s]\n"
     ]
    }
   ],
   "source": [
    "# <YOUR CODE: training loop>\n",
    "for _ in trange(25000):\n",
    "    step = len(metrics['train_loss']) + 1\n",
    "    batch_ix = np.random.randint(len(train_inp), size=batch_size)\n",
    "    batch_inp = inp_voc.to_matrix(train_inp[batch_ix]).to(device)\n",
    "    batch_out = out_voc.to_matrix(train_out[batch_ix]).to(device)\n",
    "    \n",
    "#     <YOUR CODE: training step using batch_inp and batch_out>\n",
    "    opt.zero_grad()\n",
    "    loss_t = compute_loss(model, batch_inp, batch_out)\n",
    "    \n",
    "    metrics['train_loss'].append((step, loss_t.item()))\n",
    "    \n",
    "    loss_t.backward()\n",
    "    opt.step()\n",
    " \n",
    "    \n",
    "    if step % 100 == 0:\n",
    "        metrics['dev_bleu'].append((step, compute_bleu(model, dev_inp, dev_out)))\n",
    "        \n",
    "        clear_output(True)\n",
    "        plt.figure(figsize=(12,4))\n",
    "        for i, (name, history) in enumerate(sorted(metrics.items())):\n",
    "            plt.subplot(1, len(metrics), i + 1)\n",
    "            plt.title(name)\n",
    "            plt.plot(*zip(*history))\n",
    "            plt.grid()\n",
    "        plt.show()\n",
    "        print(\"Mean loss=%.3f\" % np.mean(metrics['train_loss'][-10:], axis=0)[1], flush=True)\n",
    "        \n",
    "# Note: it's okay if bleu oscillates up and down as long as it gets better on average over long term (e.g. 5k batches)"
   ]
  },
  {
   "cell_type": "code",
   "execution_count": 26,
   "metadata": {
    "colab": {},
    "colab_type": "code",
    "id": "2ahuhKVhlrtP"
   },
   "outputs": [
    {
     "data": {
      "text/plain": [
       "23.222826039037724"
      ]
     },
     "execution_count": 26,
     "metadata": {},
     "output_type": "execute_result"
    }
   ],
   "source": [
    "np.mean(metrics['dev_bleu'][-10:], axis=0)[1]"
   ]
  },
  {
   "cell_type": "code",
   "execution_count": 27,
   "metadata": {
    "colab": {},
    "colab_type": "code",
    "id": "KyaHOpealrtS"
   },
   "outputs": [
    {
     "name": "stdout",
     "output_type": "stream",
     "text": [
      "в распоряжении гостей общая кухня и общая гостиная .\n",
      "guests can use a shared kitchen and a common living room .\n",
      "\n",
      "кроме того , предоставляется прокат велосипедов , услуги трансфера и бесплатная парковка .\n",
      "bicycle rental is also available , as well as a bicycle rental service . free parking is available .\n",
      "\n",
      "расстояние до города ки@@ сси@@ м@@ ми составляет 26 км .\n",
      "k@@ lai@@ m@@ uth is 26 km away .\n",
      "\n",
      "апартаменты в пент@@ хаусе с общим открытым бассейном , садом , кондиционером и террасой для загара расположены в 5 минутах ходьбы от пляжа на курорте ка@@ бо - рой .\n",
      "offering a garden , air - conditioned apartments offer a garden , air - conditioned rooms with a garden , a terrace and a sun terrace with sun terrace , and a sun terrace is located just a 5 - minute walk from the property .\n",
      "\n",
      "апартаменты mo@@ s@@ co@@ w point - loft red square находятся в москве , в 200 метрах от большого театра .\n",
      "mo@@ i@@ mo@@ ro@@ red square is located in moscow , 200 metres from the opera .\n",
      "\n",
      "в вашем распоряжении собственная ванная комната с душем и полотенцами .\n",
      "featuring a shower , private bathrooms also come with towels .\n",
      "\n"
     ]
    }
   ],
   "source": [
    "for inp_line, trans_line in zip(dev_inp[::500], model.translate_lines(dev_inp[::500])[0]):\n",
    "    print(inp_line)\n",
    "    print(trans_line)\n",
    "    print()"
   ]
  },
  {
   "cell_type": "markdown",
   "metadata": {},
   "source": [
    "### Visualizing model attention (2 points)\n",
    "\n",
    "After training the attentive translation model, you can check it's sanity by visualizing its attention weights.\n",
    "\n",
    "We provided you with a function that draws attention maps using [`Bokeh`](https://bokeh.pydata.org/en/latest/index.html). Once you managed to produce something better than random noise, please save at least 3 attention maps and __submit them to anytask__ alongside this notebook to get the max grade. Saving bokeh figures as __cell outputs is not enough!__ (TAs can't see saved bokeh figures in anytask). You can save bokeh images as screenshots or using this button:\n",
    "\n",
    "![bokeh_panel](https://github.com/yandexdataschool/nlp_course/raw/2019/resources/bokeh_panel.png)\n",
    "\n",
    "__Note:__ you're not locked into using bokeh. If you prefer a different visualization method, feel free to use that instead of bokeh."
   ]
  },
  {
   "cell_type": "code",
   "execution_count": 54,
   "metadata": {},
   "outputs": [
    {
     "data": {
      "text/html": [
       "\n",
       "    <div class=\"bk-root\">\n",
       "        <a href=\"https://bokeh.org\" target=\"_blank\" class=\"bk-logo bk-logo-small bk-logo-notebook\"></a>\n",
       "        <span id=\"6977\">Loading BokehJS ...</span>\n",
       "    </div>"
      ]
     },
     "metadata": {},
     "output_type": "display_data"
    },
    {
     "data": {
      "application/javascript": [
       "\n",
       "(function(root) {\n",
       "  function now() {\n",
       "    return new Date();\n",
       "  }\n",
       "\n",
       "  var force = true;\n",
       "\n",
       "  if (typeof root._bokeh_onload_callbacks === \"undefined\" || force === true) {\n",
       "    root._bokeh_onload_callbacks = [];\n",
       "    root._bokeh_is_loading = undefined;\n",
       "  }\n",
       "\n",
       "  var JS_MIME_TYPE = 'application/javascript';\n",
       "  var HTML_MIME_TYPE = 'text/html';\n",
       "  var EXEC_MIME_TYPE = 'application/vnd.bokehjs_exec.v0+json';\n",
       "  var CLASS_NAME = 'output_bokeh rendered_html';\n",
       "\n",
       "  /**\n",
       "   * Render data to the DOM node\n",
       "   */\n",
       "  function render(props, node) {\n",
       "    var script = document.createElement(\"script\");\n",
       "    node.appendChild(script);\n",
       "  }\n",
       "\n",
       "  /**\n",
       "   * Handle when an output is cleared or removed\n",
       "   */\n",
       "  function handleClearOutput(event, handle) {\n",
       "    var cell = handle.cell;\n",
       "\n",
       "    var id = cell.output_area._bokeh_element_id;\n",
       "    var server_id = cell.output_area._bokeh_server_id;\n",
       "    // Clean up Bokeh references\n",
       "    if (id != null && id in Bokeh.index) {\n",
       "      Bokeh.index[id].model.document.clear();\n",
       "      delete Bokeh.index[id];\n",
       "    }\n",
       "\n",
       "    if (server_id !== undefined) {\n",
       "      // Clean up Bokeh references\n",
       "      var cmd = \"from bokeh.io.state import curstate; print(curstate().uuid_to_server['\" + server_id + \"'].get_sessions()[0].document.roots[0]._id)\";\n",
       "      cell.notebook.kernel.execute(cmd, {\n",
       "        iopub: {\n",
       "          output: function(msg) {\n",
       "            var id = msg.content.text.trim();\n",
       "            if (id in Bokeh.index) {\n",
       "              Bokeh.index[id].model.document.clear();\n",
       "              delete Bokeh.index[id];\n",
       "            }\n",
       "          }\n",
       "        }\n",
       "      });\n",
       "      // Destroy server and session\n",
       "      var cmd = \"import bokeh.io.notebook as ion; ion.destroy_server('\" + server_id + \"')\";\n",
       "      cell.notebook.kernel.execute(cmd);\n",
       "    }\n",
       "  }\n",
       "\n",
       "  /**\n",
       "   * Handle when a new output is added\n",
       "   */\n",
       "  function handleAddOutput(event, handle) {\n",
       "    var output_area = handle.output_area;\n",
       "    var output = handle.output;\n",
       "\n",
       "    // limit handleAddOutput to display_data with EXEC_MIME_TYPE content only\n",
       "    if ((output.output_type != \"display_data\") || (!Object.prototype.hasOwnProperty.call(output.data, EXEC_MIME_TYPE))) {\n",
       "      return\n",
       "    }\n",
       "\n",
       "    var toinsert = output_area.element.find(\".\" + CLASS_NAME.split(' ')[0]);\n",
       "\n",
       "    if (output.metadata[EXEC_MIME_TYPE][\"id\"] !== undefined) {\n",
       "      toinsert[toinsert.length - 1].firstChild.textContent = output.data[JS_MIME_TYPE];\n",
       "      // store reference to embed id on output_area\n",
       "      output_area._bokeh_element_id = output.metadata[EXEC_MIME_TYPE][\"id\"];\n",
       "    }\n",
       "    if (output.metadata[EXEC_MIME_TYPE][\"server_id\"] !== undefined) {\n",
       "      var bk_div = document.createElement(\"div\");\n",
       "      bk_div.innerHTML = output.data[HTML_MIME_TYPE];\n",
       "      var script_attrs = bk_div.children[0].attributes;\n",
       "      for (var i = 0; i < script_attrs.length; i++) {\n",
       "        toinsert[toinsert.length - 1].firstChild.setAttribute(script_attrs[i].name, script_attrs[i].value);\n",
       "        toinsert[toinsert.length - 1].firstChild.textContent = bk_div.children[0].textContent\n",
       "      }\n",
       "      // store reference to server id on output_area\n",
       "      output_area._bokeh_server_id = output.metadata[EXEC_MIME_TYPE][\"server_id\"];\n",
       "    }\n",
       "  }\n",
       "\n",
       "  function register_renderer(events, OutputArea) {\n",
       "\n",
       "    function append_mime(data, metadata, element) {\n",
       "      // create a DOM node to render to\n",
       "      var toinsert = this.create_output_subarea(\n",
       "        metadata,\n",
       "        CLASS_NAME,\n",
       "        EXEC_MIME_TYPE\n",
       "      );\n",
       "      this.keyboard_manager.register_events(toinsert);\n",
       "      // Render to node\n",
       "      var props = {data: data, metadata: metadata[EXEC_MIME_TYPE]};\n",
       "      render(props, toinsert[toinsert.length - 1]);\n",
       "      element.append(toinsert);\n",
       "      return toinsert\n",
       "    }\n",
       "\n",
       "    /* Handle when an output is cleared or removed */\n",
       "    events.on('clear_output.CodeCell', handleClearOutput);\n",
       "    events.on('delete.Cell', handleClearOutput);\n",
       "\n",
       "    /* Handle when a new output is added */\n",
       "    events.on('output_added.OutputArea', handleAddOutput);\n",
       "\n",
       "    /**\n",
       "     * Register the mime type and append_mime function with output_area\n",
       "     */\n",
       "    OutputArea.prototype.register_mime_type(EXEC_MIME_TYPE, append_mime, {\n",
       "      /* Is output safe? */\n",
       "      safe: true,\n",
       "      /* Index of renderer in `output_area.display_order` */\n",
       "      index: 0\n",
       "    });\n",
       "  }\n",
       "\n",
       "  // register the mime type if in Jupyter Notebook environment and previously unregistered\n",
       "  if (root.Jupyter !== undefined) {\n",
       "    var events = require('base/js/events');\n",
       "    var OutputArea = require('notebook/js/outputarea').OutputArea;\n",
       "\n",
       "    if (OutputArea.prototype.mime_types().indexOf(EXEC_MIME_TYPE) == -1) {\n",
       "      register_renderer(events, OutputArea);\n",
       "    }\n",
       "  }\n",
       "\n",
       "  \n",
       "  if (typeof (root._bokeh_timeout) === \"undefined\" || force === true) {\n",
       "    root._bokeh_timeout = Date.now() + 5000;\n",
       "    root._bokeh_failed_load = false;\n",
       "  }\n",
       "\n",
       "  var NB_LOAD_WARNING = {'data': {'text/html':\n",
       "     \"<div style='background-color: #fdd'>\\n\"+\n",
       "     \"<p>\\n\"+\n",
       "     \"BokehJS does not appear to have successfully loaded. If loading BokehJS from CDN, this \\n\"+\n",
       "     \"may be due to a slow or bad network connection. Possible fixes:\\n\"+\n",
       "     \"</p>\\n\"+\n",
       "     \"<ul>\\n\"+\n",
       "     \"<li>re-rerun `output_notebook()` to attempt to load from CDN again, or</li>\\n\"+\n",
       "     \"<li>use INLINE resources instead, as so:</li>\\n\"+\n",
       "     \"</ul>\\n\"+\n",
       "     \"<code>\\n\"+\n",
       "     \"from bokeh.resources import INLINE\\n\"+\n",
       "     \"output_notebook(resources=INLINE)\\n\"+\n",
       "     \"</code>\\n\"+\n",
       "     \"</div>\"}};\n",
       "\n",
       "  function display_loaded() {\n",
       "    var el = document.getElementById(\"6977\");\n",
       "    if (el != null) {\n",
       "      el.textContent = \"BokehJS is loading...\";\n",
       "    }\n",
       "    if (root.Bokeh !== undefined) {\n",
       "      if (el != null) {\n",
       "        el.textContent = \"BokehJS \" + root.Bokeh.version + \" successfully loaded.\";\n",
       "      }\n",
       "    } else if (Date.now() < root._bokeh_timeout) {\n",
       "      setTimeout(display_loaded, 100)\n",
       "    }\n",
       "  }\n",
       "\n",
       "\n",
       "  function run_callbacks() {\n",
       "    try {\n",
       "      root._bokeh_onload_callbacks.forEach(function(callback) {\n",
       "        if (callback != null)\n",
       "          callback();\n",
       "      });\n",
       "    } finally {\n",
       "      delete root._bokeh_onload_callbacks\n",
       "    }\n",
       "    console.debug(\"Bokeh: all callbacks have finished\");\n",
       "  }\n",
       "\n",
       "  function load_libs(css_urls, js_urls, callback) {\n",
       "    if (css_urls == null) css_urls = [];\n",
       "    if (js_urls == null) js_urls = [];\n",
       "\n",
       "    root._bokeh_onload_callbacks.push(callback);\n",
       "    if (root._bokeh_is_loading > 0) {\n",
       "      console.debug(\"Bokeh: BokehJS is being loaded, scheduling callback at\", now());\n",
       "      return null;\n",
       "    }\n",
       "    if (js_urls == null || js_urls.length === 0) {\n",
       "      run_callbacks();\n",
       "      return null;\n",
       "    }\n",
       "    console.debug(\"Bokeh: BokehJS not loaded, scheduling load and callback at\", now());\n",
       "    root._bokeh_is_loading = css_urls.length + js_urls.length;\n",
       "\n",
       "    function on_load() {\n",
       "      root._bokeh_is_loading--;\n",
       "      if (root._bokeh_is_loading === 0) {\n",
       "        console.debug(\"Bokeh: all BokehJS libraries/stylesheets loaded\");\n",
       "        run_callbacks()\n",
       "      }\n",
       "    }\n",
       "\n",
       "    function on_error(url) {\n",
       "      console.error(\"failed to load \" + url);\n",
       "    }\n",
       "\n",
       "    for (let i = 0; i < css_urls.length; i++) {\n",
       "      const url = css_urls[i];\n",
       "      const element = document.createElement(\"link\");\n",
       "      element.onload = on_load;\n",
       "      element.onerror = on_error.bind(null, url);\n",
       "      element.rel = \"stylesheet\";\n",
       "      element.type = \"text/css\";\n",
       "      element.href = url;\n",
       "      console.debug(\"Bokeh: injecting link tag for BokehJS stylesheet: \", url);\n",
       "      document.body.appendChild(element);\n",
       "    }\n",
       "\n",
       "    const hashes = {\"https://cdn.bokeh.org/bokeh/release/bokeh-2.3.0.min.js\": \"HjagQp6T0/7bxYTAXbLotF1MLAGWmhkY5siA1Gc/pcEgvgRPtMsRn0gQtMwGKiw1\", \"https://cdn.bokeh.org/bokeh/release/bokeh-widgets-2.3.0.min.js\": \"ZEPPTjL+mdyqgIq+/pl9KTwzji8Kow2NnI3zWY8+sFinWP/SYJ80BnfeJsa45iYj\", \"https://cdn.bokeh.org/bokeh/release/bokeh-tables-2.3.0.min.js\": \"exLqv2ACDRIaV7ZK1iL8aGzGYQvKVuT3U2CT7FsQREBxRah6JrkVCoFy0koY1YqV\"};\n",
       "\n",
       "    for (let i = 0; i < js_urls.length; i++) {\n",
       "      const url = js_urls[i];\n",
       "      const element = document.createElement('script');\n",
       "      element.onload = on_load;\n",
       "      element.onerror = on_error.bind(null, url);\n",
       "      element.async = false;\n",
       "      element.src = url;\n",
       "      if (url in hashes) {\n",
       "        element.crossOrigin = \"anonymous\";\n",
       "        element.integrity = \"sha384-\" + hashes[url];\n",
       "      }\n",
       "      console.debug(\"Bokeh: injecting script tag for BokehJS library: \", url);\n",
       "      document.head.appendChild(element);\n",
       "    }\n",
       "  };\n",
       "\n",
       "  function inject_raw_css(css) {\n",
       "    const element = document.createElement(\"style\");\n",
       "    element.appendChild(document.createTextNode(css));\n",
       "    document.body.appendChild(element);\n",
       "  }\n",
       "\n",
       "  \n",
       "  var js_urls = [\"https://cdn.bokeh.org/bokeh/release/bokeh-2.3.0.min.js\", \"https://cdn.bokeh.org/bokeh/release/bokeh-widgets-2.3.0.min.js\", \"https://cdn.bokeh.org/bokeh/release/bokeh-tables-2.3.0.min.js\"];\n",
       "  var css_urls = [];\n",
       "  \n",
       "\n",
       "  var inline_js = [\n",
       "    function(Bokeh) {\n",
       "      Bokeh.set_log_level(\"info\");\n",
       "    },\n",
       "    function(Bokeh) {\n",
       "    \n",
       "    \n",
       "    }\n",
       "  ];\n",
       "\n",
       "  function run_inline_js() {\n",
       "    \n",
       "    if (root.Bokeh !== undefined || force === true) {\n",
       "      \n",
       "    for (var i = 0; i < inline_js.length; i++) {\n",
       "      inline_js[i].call(root, root.Bokeh);\n",
       "    }\n",
       "    if (force === true) {\n",
       "        display_loaded();\n",
       "      }} else if (Date.now() < root._bokeh_timeout) {\n",
       "      setTimeout(run_inline_js, 100);\n",
       "    } else if (!root._bokeh_failed_load) {\n",
       "      console.log(\"Bokeh: BokehJS failed to load within specified timeout.\");\n",
       "      root._bokeh_failed_load = true;\n",
       "    } else if (force !== true) {\n",
       "      var cell = $(document.getElementById(\"6977\")).parents('.cell').data().cell;\n",
       "      cell.output_area.append_execute_result(NB_LOAD_WARNING)\n",
       "    }\n",
       "\n",
       "  }\n",
       "\n",
       "  if (root._bokeh_is_loading === 0) {\n",
       "    console.debug(\"Bokeh: BokehJS loaded, going straight to plotting\");\n",
       "    run_inline_js();\n",
       "  } else {\n",
       "    load_libs(css_urls, js_urls, function() {\n",
       "      console.debug(\"Bokeh: BokehJS plotting callback run at\", now());\n",
       "      run_inline_js();\n",
       "    });\n",
       "  }\n",
       "}(window));"
      ],
      "application/vnd.bokehjs_load.v0+json": "\n(function(root) {\n  function now() {\n    return new Date();\n  }\n\n  var force = true;\n\n  if (typeof root._bokeh_onload_callbacks === \"undefined\" || force === true) {\n    root._bokeh_onload_callbacks = [];\n    root._bokeh_is_loading = undefined;\n  }\n\n  \n\n  \n  if (typeof (root._bokeh_timeout) === \"undefined\" || force === true) {\n    root._bokeh_timeout = Date.now() + 5000;\n    root._bokeh_failed_load = false;\n  }\n\n  var NB_LOAD_WARNING = {'data': {'text/html':\n     \"<div style='background-color: #fdd'>\\n\"+\n     \"<p>\\n\"+\n     \"BokehJS does not appear to have successfully loaded. If loading BokehJS from CDN, this \\n\"+\n     \"may be due to a slow or bad network connection. Possible fixes:\\n\"+\n     \"</p>\\n\"+\n     \"<ul>\\n\"+\n     \"<li>re-rerun `output_notebook()` to attempt to load from CDN again, or</li>\\n\"+\n     \"<li>use INLINE resources instead, as so:</li>\\n\"+\n     \"</ul>\\n\"+\n     \"<code>\\n\"+\n     \"from bokeh.resources import INLINE\\n\"+\n     \"output_notebook(resources=INLINE)\\n\"+\n     \"</code>\\n\"+\n     \"</div>\"}};\n\n  function display_loaded() {\n    var el = document.getElementById(\"6977\");\n    if (el != null) {\n      el.textContent = \"BokehJS is loading...\";\n    }\n    if (root.Bokeh !== undefined) {\n      if (el != null) {\n        el.textContent = \"BokehJS \" + root.Bokeh.version + \" successfully loaded.\";\n      }\n    } else if (Date.now() < root._bokeh_timeout) {\n      setTimeout(display_loaded, 100)\n    }\n  }\n\n\n  function run_callbacks() {\n    try {\n      root._bokeh_onload_callbacks.forEach(function(callback) {\n        if (callback != null)\n          callback();\n      });\n    } finally {\n      delete root._bokeh_onload_callbacks\n    }\n    console.debug(\"Bokeh: all callbacks have finished\");\n  }\n\n  function load_libs(css_urls, js_urls, callback) {\n    if (css_urls == null) css_urls = [];\n    if (js_urls == null) js_urls = [];\n\n    root._bokeh_onload_callbacks.push(callback);\n    if (root._bokeh_is_loading > 0) {\n      console.debug(\"Bokeh: BokehJS is being loaded, scheduling callback at\", now());\n      return null;\n    }\n    if (js_urls == null || js_urls.length === 0) {\n      run_callbacks();\n      return null;\n    }\n    console.debug(\"Bokeh: BokehJS not loaded, scheduling load and callback at\", now());\n    root._bokeh_is_loading = css_urls.length + js_urls.length;\n\n    function on_load() {\n      root._bokeh_is_loading--;\n      if (root._bokeh_is_loading === 0) {\n        console.debug(\"Bokeh: all BokehJS libraries/stylesheets loaded\");\n        run_callbacks()\n      }\n    }\n\n    function on_error(url) {\n      console.error(\"failed to load \" + url);\n    }\n\n    for (let i = 0; i < css_urls.length; i++) {\n      const url = css_urls[i];\n      const element = document.createElement(\"link\");\n      element.onload = on_load;\n      element.onerror = on_error.bind(null, url);\n      element.rel = \"stylesheet\";\n      element.type = \"text/css\";\n      element.href = url;\n      console.debug(\"Bokeh: injecting link tag for BokehJS stylesheet: \", url);\n      document.body.appendChild(element);\n    }\n\n    const hashes = {\"https://cdn.bokeh.org/bokeh/release/bokeh-2.3.0.min.js\": \"HjagQp6T0/7bxYTAXbLotF1MLAGWmhkY5siA1Gc/pcEgvgRPtMsRn0gQtMwGKiw1\", \"https://cdn.bokeh.org/bokeh/release/bokeh-widgets-2.3.0.min.js\": \"ZEPPTjL+mdyqgIq+/pl9KTwzji8Kow2NnI3zWY8+sFinWP/SYJ80BnfeJsa45iYj\", \"https://cdn.bokeh.org/bokeh/release/bokeh-tables-2.3.0.min.js\": \"exLqv2ACDRIaV7ZK1iL8aGzGYQvKVuT3U2CT7FsQREBxRah6JrkVCoFy0koY1YqV\"};\n\n    for (let i = 0; i < js_urls.length; i++) {\n      const url = js_urls[i];\n      const element = document.createElement('script');\n      element.onload = on_load;\n      element.onerror = on_error.bind(null, url);\n      element.async = false;\n      element.src = url;\n      if (url in hashes) {\n        element.crossOrigin = \"anonymous\";\n        element.integrity = \"sha384-\" + hashes[url];\n      }\n      console.debug(\"Bokeh: injecting script tag for BokehJS library: \", url);\n      document.head.appendChild(element);\n    }\n  };\n\n  function inject_raw_css(css) {\n    const element = document.createElement(\"style\");\n    element.appendChild(document.createTextNode(css));\n    document.body.appendChild(element);\n  }\n\n  \n  var js_urls = [\"https://cdn.bokeh.org/bokeh/release/bokeh-2.3.0.min.js\", \"https://cdn.bokeh.org/bokeh/release/bokeh-widgets-2.3.0.min.js\", \"https://cdn.bokeh.org/bokeh/release/bokeh-tables-2.3.0.min.js\"];\n  var css_urls = [];\n  \n\n  var inline_js = [\n    function(Bokeh) {\n      Bokeh.set_log_level(\"info\");\n    },\n    function(Bokeh) {\n    \n    \n    }\n  ];\n\n  function run_inline_js() {\n    \n    if (root.Bokeh !== undefined || force === true) {\n      \n    for (var i = 0; i < inline_js.length; i++) {\n      inline_js[i].call(root, root.Bokeh);\n    }\n    if (force === true) {\n        display_loaded();\n      }} else if (Date.now() < root._bokeh_timeout) {\n      setTimeout(run_inline_js, 100);\n    } else if (!root._bokeh_failed_load) {\n      console.log(\"Bokeh: BokehJS failed to load within specified timeout.\");\n      root._bokeh_failed_load = true;\n    } else if (force !== true) {\n      var cell = $(document.getElementById(\"6977\")).parents('.cell').data().cell;\n      cell.output_area.append_execute_result(NB_LOAD_WARNING)\n    }\n\n  }\n\n  if (root._bokeh_is_loading === 0) {\n    console.debug(\"Bokeh: BokehJS loaded, going straight to plotting\");\n    run_inline_js();\n  } else {\n    load_libs(css_urls, js_urls, function() {\n      console.debug(\"Bokeh: BokehJS plotting callback run at\", now());\n      run_inline_js();\n    });\n  }\n}(window));"
     },
     "metadata": {},
     "output_type": "display_data"
    }
   ],
   "source": [
    "import bokeh.plotting as pl\n",
    "import bokeh.models as bm\n",
    "from bokeh.io import output_notebook, show\n",
    "output_notebook()\n",
    "\n",
    "def draw_attention(inp_line, translation, probs):\n",
    "    \"\"\" An intentionally ambiguous function to visualize attention weights \"\"\"\n",
    "    inp_tokens = inp_voc.tokenize(inp_line)\n",
    "    trans_tokens = out_voc.tokenize(translation)\n",
    "    probs = probs[:len(trans_tokens), :len(inp_tokens)]\n",
    "    \n",
    "    fig = pl.figure(x_range=(0, len(inp_tokens)), y_range=(0, len(trans_tokens)),\n",
    "                    x_axis_type=None, y_axis_type=None, tools=[])\n",
    "    fig.image([probs[::-1]], 0, 0, len(inp_tokens), len(trans_tokens))\n",
    "\n",
    "    fig.add_layout(bm.LinearAxis(axis_label='source tokens'), 'above')\n",
    "    fig.xaxis.ticker = np.arange(len(inp_tokens)) + 0.5\n",
    "    fig.xaxis.major_label_overrides = dict(zip(np.arange(len(inp_tokens)) + 0.5, inp_tokens))\n",
    "    fig.xaxis.major_label_orientation = 45\n",
    "\n",
    "    fig.add_layout(bm.LinearAxis(axis_label='translation tokens'), 'left')\n",
    "    fig.yaxis.ticker = np.arange(len(trans_tokens)) + 0.5\n",
    "    fig.yaxis.major_label_overrides = dict(zip(np.arange(len(trans_tokens)) + 0.5, trans_tokens[::-1]))\n",
    "\n",
    "    show(fig)  "
   ]
  },
  {
   "cell_type": "code",
   "execution_count": 46,
   "metadata": {},
   "outputs": [],
   "source": [
    "inp = dev_inp[::500]\n",
    "\n",
    "trans, states = model.translate_lines(inp)\n",
    "\n",
    "# select attention probs from model state (you may need to change this for your custom model)\n",
    "# attention_probs below must have shape [batch_size, translation_length, input_length], extracted from states\n",
    "# e.g. if attention probs are at the end of each state, use np.stack([state[-1] for state in states], axis=1)\n",
    "# attention_probs = <YOUR CODE>\n",
    "attention_probs = np.stack([state[-1].cpu().detach().numpy() for state in states], axis=1)"
   ]
  },
  {
   "cell_type": "code",
   "execution_count": 55,
   "metadata": {},
   "outputs": [
    {
     "data": {
      "text/html": [
       "\n",
       "    <div class=\"bk-root\">\n",
       "        <a href=\"https://bokeh.org\" target=\"_blank\" class=\"bk-logo bk-logo-small bk-logo-notebook\"></a>\n",
       "        <span id=\"6978\">Loading BokehJS ...</span>\n",
       "    </div>"
      ]
     },
     "metadata": {},
     "output_type": "display_data"
    },
    {
     "data": {
      "application/javascript": [
       "\n",
       "(function(root) {\n",
       "  function now() {\n",
       "    return new Date();\n",
       "  }\n",
       "\n",
       "  var force = true;\n",
       "\n",
       "  if (typeof root._bokeh_onload_callbacks === \"undefined\" || force === true) {\n",
       "    root._bokeh_onload_callbacks = [];\n",
       "    root._bokeh_is_loading = undefined;\n",
       "  }\n",
       "\n",
       "  var JS_MIME_TYPE = 'application/javascript';\n",
       "  var HTML_MIME_TYPE = 'text/html';\n",
       "  var EXEC_MIME_TYPE = 'application/vnd.bokehjs_exec.v0+json';\n",
       "  var CLASS_NAME = 'output_bokeh rendered_html';\n",
       "\n",
       "  /**\n",
       "   * Render data to the DOM node\n",
       "   */\n",
       "  function render(props, node) {\n",
       "    var script = document.createElement(\"script\");\n",
       "    node.appendChild(script);\n",
       "  }\n",
       "\n",
       "  /**\n",
       "   * Handle when an output is cleared or removed\n",
       "   */\n",
       "  function handleClearOutput(event, handle) {\n",
       "    var cell = handle.cell;\n",
       "\n",
       "    var id = cell.output_area._bokeh_element_id;\n",
       "    var server_id = cell.output_area._bokeh_server_id;\n",
       "    // Clean up Bokeh references\n",
       "    if (id != null && id in Bokeh.index) {\n",
       "      Bokeh.index[id].model.document.clear();\n",
       "      delete Bokeh.index[id];\n",
       "    }\n",
       "\n",
       "    if (server_id !== undefined) {\n",
       "      // Clean up Bokeh references\n",
       "      var cmd = \"from bokeh.io.state import curstate; print(curstate().uuid_to_server['\" + server_id + \"'].get_sessions()[0].document.roots[0]._id)\";\n",
       "      cell.notebook.kernel.execute(cmd, {\n",
       "        iopub: {\n",
       "          output: function(msg) {\n",
       "            var id = msg.content.text.trim();\n",
       "            if (id in Bokeh.index) {\n",
       "              Bokeh.index[id].model.document.clear();\n",
       "              delete Bokeh.index[id];\n",
       "            }\n",
       "          }\n",
       "        }\n",
       "      });\n",
       "      // Destroy server and session\n",
       "      var cmd = \"import bokeh.io.notebook as ion; ion.destroy_server('\" + server_id + \"')\";\n",
       "      cell.notebook.kernel.execute(cmd);\n",
       "    }\n",
       "  }\n",
       "\n",
       "  /**\n",
       "   * Handle when a new output is added\n",
       "   */\n",
       "  function handleAddOutput(event, handle) {\n",
       "    var output_area = handle.output_area;\n",
       "    var output = handle.output;\n",
       "\n",
       "    // limit handleAddOutput to display_data with EXEC_MIME_TYPE content only\n",
       "    if ((output.output_type != \"display_data\") || (!Object.prototype.hasOwnProperty.call(output.data, EXEC_MIME_TYPE))) {\n",
       "      return\n",
       "    }\n",
       "\n",
       "    var toinsert = output_area.element.find(\".\" + CLASS_NAME.split(' ')[0]);\n",
       "\n",
       "    if (output.metadata[EXEC_MIME_TYPE][\"id\"] !== undefined) {\n",
       "      toinsert[toinsert.length - 1].firstChild.textContent = output.data[JS_MIME_TYPE];\n",
       "      // store reference to embed id on output_area\n",
       "      output_area._bokeh_element_id = output.metadata[EXEC_MIME_TYPE][\"id\"];\n",
       "    }\n",
       "    if (output.metadata[EXEC_MIME_TYPE][\"server_id\"] !== undefined) {\n",
       "      var bk_div = document.createElement(\"div\");\n",
       "      bk_div.innerHTML = output.data[HTML_MIME_TYPE];\n",
       "      var script_attrs = bk_div.children[0].attributes;\n",
       "      for (var i = 0; i < script_attrs.length; i++) {\n",
       "        toinsert[toinsert.length - 1].firstChild.setAttribute(script_attrs[i].name, script_attrs[i].value);\n",
       "        toinsert[toinsert.length - 1].firstChild.textContent = bk_div.children[0].textContent\n",
       "      }\n",
       "      // store reference to server id on output_area\n",
       "      output_area._bokeh_server_id = output.metadata[EXEC_MIME_TYPE][\"server_id\"];\n",
       "    }\n",
       "  }\n",
       "\n",
       "  function register_renderer(events, OutputArea) {\n",
       "\n",
       "    function append_mime(data, metadata, element) {\n",
       "      // create a DOM node to render to\n",
       "      var toinsert = this.create_output_subarea(\n",
       "        metadata,\n",
       "        CLASS_NAME,\n",
       "        EXEC_MIME_TYPE\n",
       "      );\n",
       "      this.keyboard_manager.register_events(toinsert);\n",
       "      // Render to node\n",
       "      var props = {data: data, metadata: metadata[EXEC_MIME_TYPE]};\n",
       "      render(props, toinsert[toinsert.length - 1]);\n",
       "      element.append(toinsert);\n",
       "      return toinsert\n",
       "    }\n",
       "\n",
       "    /* Handle when an output is cleared or removed */\n",
       "    events.on('clear_output.CodeCell', handleClearOutput);\n",
       "    events.on('delete.Cell', handleClearOutput);\n",
       "\n",
       "    /* Handle when a new output is added */\n",
       "    events.on('output_added.OutputArea', handleAddOutput);\n",
       "\n",
       "    /**\n",
       "     * Register the mime type and append_mime function with output_area\n",
       "     */\n",
       "    OutputArea.prototype.register_mime_type(EXEC_MIME_TYPE, append_mime, {\n",
       "      /* Is output safe? */\n",
       "      safe: true,\n",
       "      /* Index of renderer in `output_area.display_order` */\n",
       "      index: 0\n",
       "    });\n",
       "  }\n",
       "\n",
       "  // register the mime type if in Jupyter Notebook environment and previously unregistered\n",
       "  if (root.Jupyter !== undefined) {\n",
       "    var events = require('base/js/events');\n",
       "    var OutputArea = require('notebook/js/outputarea').OutputArea;\n",
       "\n",
       "    if (OutputArea.prototype.mime_types().indexOf(EXEC_MIME_TYPE) == -1) {\n",
       "      register_renderer(events, OutputArea);\n",
       "    }\n",
       "  }\n",
       "\n",
       "  \n",
       "  if (typeof (root._bokeh_timeout) === \"undefined\" || force === true) {\n",
       "    root._bokeh_timeout = Date.now() + 5000;\n",
       "    root._bokeh_failed_load = false;\n",
       "  }\n",
       "\n",
       "  var NB_LOAD_WARNING = {'data': {'text/html':\n",
       "     \"<div style='background-color: #fdd'>\\n\"+\n",
       "     \"<p>\\n\"+\n",
       "     \"BokehJS does not appear to have successfully loaded. If loading BokehJS from CDN, this \\n\"+\n",
       "     \"may be due to a slow or bad network connection. Possible fixes:\\n\"+\n",
       "     \"</p>\\n\"+\n",
       "     \"<ul>\\n\"+\n",
       "     \"<li>re-rerun `output_notebook()` to attempt to load from CDN again, or</li>\\n\"+\n",
       "     \"<li>use INLINE resources instead, as so:</li>\\n\"+\n",
       "     \"</ul>\\n\"+\n",
       "     \"<code>\\n\"+\n",
       "     \"from bokeh.resources import INLINE\\n\"+\n",
       "     \"output_notebook(resources=INLINE)\\n\"+\n",
       "     \"</code>\\n\"+\n",
       "     \"</div>\"}};\n",
       "\n",
       "  function display_loaded() {\n",
       "    var el = document.getElementById(\"6978\");\n",
       "    if (el != null) {\n",
       "      el.textContent = \"BokehJS is loading...\";\n",
       "    }\n",
       "    if (root.Bokeh !== undefined) {\n",
       "      if (el != null) {\n",
       "        el.textContent = \"BokehJS \" + root.Bokeh.version + \" successfully loaded.\";\n",
       "      }\n",
       "    } else if (Date.now() < root._bokeh_timeout) {\n",
       "      setTimeout(display_loaded, 100)\n",
       "    }\n",
       "  }\n",
       "\n",
       "\n",
       "  function run_callbacks() {\n",
       "    try {\n",
       "      root._bokeh_onload_callbacks.forEach(function(callback) {\n",
       "        if (callback != null)\n",
       "          callback();\n",
       "      });\n",
       "    } finally {\n",
       "      delete root._bokeh_onload_callbacks\n",
       "    }\n",
       "    console.debug(\"Bokeh: all callbacks have finished\");\n",
       "  }\n",
       "\n",
       "  function load_libs(css_urls, js_urls, callback) {\n",
       "    if (css_urls == null) css_urls = [];\n",
       "    if (js_urls == null) js_urls = [];\n",
       "\n",
       "    root._bokeh_onload_callbacks.push(callback);\n",
       "    if (root._bokeh_is_loading > 0) {\n",
       "      console.debug(\"Bokeh: BokehJS is being loaded, scheduling callback at\", now());\n",
       "      return null;\n",
       "    }\n",
       "    if (js_urls == null || js_urls.length === 0) {\n",
       "      run_callbacks();\n",
       "      return null;\n",
       "    }\n",
       "    console.debug(\"Bokeh: BokehJS not loaded, scheduling load and callback at\", now());\n",
       "    root._bokeh_is_loading = css_urls.length + js_urls.length;\n",
       "\n",
       "    function on_load() {\n",
       "      root._bokeh_is_loading--;\n",
       "      if (root._bokeh_is_loading === 0) {\n",
       "        console.debug(\"Bokeh: all BokehJS libraries/stylesheets loaded\");\n",
       "        run_callbacks()\n",
       "      }\n",
       "    }\n",
       "\n",
       "    function on_error(url) {\n",
       "      console.error(\"failed to load \" + url);\n",
       "    }\n",
       "\n",
       "    for (let i = 0; i < css_urls.length; i++) {\n",
       "      const url = css_urls[i];\n",
       "      const element = document.createElement(\"link\");\n",
       "      element.onload = on_load;\n",
       "      element.onerror = on_error.bind(null, url);\n",
       "      element.rel = \"stylesheet\";\n",
       "      element.type = \"text/css\";\n",
       "      element.href = url;\n",
       "      console.debug(\"Bokeh: injecting link tag for BokehJS stylesheet: \", url);\n",
       "      document.body.appendChild(element);\n",
       "    }\n",
       "\n",
       "    const hashes = {\"https://cdn.bokeh.org/bokeh/release/bokeh-2.3.0.min.js\": \"HjagQp6T0/7bxYTAXbLotF1MLAGWmhkY5siA1Gc/pcEgvgRPtMsRn0gQtMwGKiw1\", \"https://cdn.bokeh.org/bokeh/release/bokeh-widgets-2.3.0.min.js\": \"ZEPPTjL+mdyqgIq+/pl9KTwzji8Kow2NnI3zWY8+sFinWP/SYJ80BnfeJsa45iYj\", \"https://cdn.bokeh.org/bokeh/release/bokeh-tables-2.3.0.min.js\": \"exLqv2ACDRIaV7ZK1iL8aGzGYQvKVuT3U2CT7FsQREBxRah6JrkVCoFy0koY1YqV\"};\n",
       "\n",
       "    for (let i = 0; i < js_urls.length; i++) {\n",
       "      const url = js_urls[i];\n",
       "      const element = document.createElement('script');\n",
       "      element.onload = on_load;\n",
       "      element.onerror = on_error.bind(null, url);\n",
       "      element.async = false;\n",
       "      element.src = url;\n",
       "      if (url in hashes) {\n",
       "        element.crossOrigin = \"anonymous\";\n",
       "        element.integrity = \"sha384-\" + hashes[url];\n",
       "      }\n",
       "      console.debug(\"Bokeh: injecting script tag for BokehJS library: \", url);\n",
       "      document.head.appendChild(element);\n",
       "    }\n",
       "  };\n",
       "\n",
       "  function inject_raw_css(css) {\n",
       "    const element = document.createElement(\"style\");\n",
       "    element.appendChild(document.createTextNode(css));\n",
       "    document.body.appendChild(element);\n",
       "  }\n",
       "\n",
       "  \n",
       "  var js_urls = [\"https://cdn.bokeh.org/bokeh/release/bokeh-2.3.0.min.js\", \"https://cdn.bokeh.org/bokeh/release/bokeh-widgets-2.3.0.min.js\", \"https://cdn.bokeh.org/bokeh/release/bokeh-tables-2.3.0.min.js\"];\n",
       "  var css_urls = [];\n",
       "  \n",
       "\n",
       "  var inline_js = [\n",
       "    function(Bokeh) {\n",
       "      Bokeh.set_log_level(\"info\");\n",
       "    },\n",
       "    function(Bokeh) {\n",
       "    \n",
       "    \n",
       "    }\n",
       "  ];\n",
       "\n",
       "  function run_inline_js() {\n",
       "    \n",
       "    if (root.Bokeh !== undefined || force === true) {\n",
       "      \n",
       "    for (var i = 0; i < inline_js.length; i++) {\n",
       "      inline_js[i].call(root, root.Bokeh);\n",
       "    }\n",
       "    if (force === true) {\n",
       "        display_loaded();\n",
       "      }} else if (Date.now() < root._bokeh_timeout) {\n",
       "      setTimeout(run_inline_js, 100);\n",
       "    } else if (!root._bokeh_failed_load) {\n",
       "      console.log(\"Bokeh: BokehJS failed to load within specified timeout.\");\n",
       "      root._bokeh_failed_load = true;\n",
       "    } else if (force !== true) {\n",
       "      var cell = $(document.getElementById(\"6978\")).parents('.cell').data().cell;\n",
       "      cell.output_area.append_execute_result(NB_LOAD_WARNING)\n",
       "    }\n",
       "\n",
       "  }\n",
       "\n",
       "  if (root._bokeh_is_loading === 0) {\n",
       "    console.debug(\"Bokeh: BokehJS loaded, going straight to plotting\");\n",
       "    run_inline_js();\n",
       "  } else {\n",
       "    load_libs(css_urls, js_urls, function() {\n",
       "      console.debug(\"Bokeh: BokehJS plotting callback run at\", now());\n",
       "      run_inline_js();\n",
       "    });\n",
       "  }\n",
       "}(window));"
      ],
      "application/vnd.bokehjs_load.v0+json": "\n(function(root) {\n  function now() {\n    return new Date();\n  }\n\n  var force = true;\n\n  if (typeof root._bokeh_onload_callbacks === \"undefined\" || force === true) {\n    root._bokeh_onload_callbacks = [];\n    root._bokeh_is_loading = undefined;\n  }\n\n  \n\n  \n  if (typeof (root._bokeh_timeout) === \"undefined\" || force === true) {\n    root._bokeh_timeout = Date.now() + 5000;\n    root._bokeh_failed_load = false;\n  }\n\n  var NB_LOAD_WARNING = {'data': {'text/html':\n     \"<div style='background-color: #fdd'>\\n\"+\n     \"<p>\\n\"+\n     \"BokehJS does not appear to have successfully loaded. If loading BokehJS from CDN, this \\n\"+\n     \"may be due to a slow or bad network connection. Possible fixes:\\n\"+\n     \"</p>\\n\"+\n     \"<ul>\\n\"+\n     \"<li>re-rerun `output_notebook()` to attempt to load from CDN again, or</li>\\n\"+\n     \"<li>use INLINE resources instead, as so:</li>\\n\"+\n     \"</ul>\\n\"+\n     \"<code>\\n\"+\n     \"from bokeh.resources import INLINE\\n\"+\n     \"output_notebook(resources=INLINE)\\n\"+\n     \"</code>\\n\"+\n     \"</div>\"}};\n\n  function display_loaded() {\n    var el = document.getElementById(\"6978\");\n    if (el != null) {\n      el.textContent = \"BokehJS is loading...\";\n    }\n    if (root.Bokeh !== undefined) {\n      if (el != null) {\n        el.textContent = \"BokehJS \" + root.Bokeh.version + \" successfully loaded.\";\n      }\n    } else if (Date.now() < root._bokeh_timeout) {\n      setTimeout(display_loaded, 100)\n    }\n  }\n\n\n  function run_callbacks() {\n    try {\n      root._bokeh_onload_callbacks.forEach(function(callback) {\n        if (callback != null)\n          callback();\n      });\n    } finally {\n      delete root._bokeh_onload_callbacks\n    }\n    console.debug(\"Bokeh: all callbacks have finished\");\n  }\n\n  function load_libs(css_urls, js_urls, callback) {\n    if (css_urls == null) css_urls = [];\n    if (js_urls == null) js_urls = [];\n\n    root._bokeh_onload_callbacks.push(callback);\n    if (root._bokeh_is_loading > 0) {\n      console.debug(\"Bokeh: BokehJS is being loaded, scheduling callback at\", now());\n      return null;\n    }\n    if (js_urls == null || js_urls.length === 0) {\n      run_callbacks();\n      return null;\n    }\n    console.debug(\"Bokeh: BokehJS not loaded, scheduling load and callback at\", now());\n    root._bokeh_is_loading = css_urls.length + js_urls.length;\n\n    function on_load() {\n      root._bokeh_is_loading--;\n      if (root._bokeh_is_loading === 0) {\n        console.debug(\"Bokeh: all BokehJS libraries/stylesheets loaded\");\n        run_callbacks()\n      }\n    }\n\n    function on_error(url) {\n      console.error(\"failed to load \" + url);\n    }\n\n    for (let i = 0; i < css_urls.length; i++) {\n      const url = css_urls[i];\n      const element = document.createElement(\"link\");\n      element.onload = on_load;\n      element.onerror = on_error.bind(null, url);\n      element.rel = \"stylesheet\";\n      element.type = \"text/css\";\n      element.href = url;\n      console.debug(\"Bokeh: injecting link tag for BokehJS stylesheet: \", url);\n      document.body.appendChild(element);\n    }\n\n    const hashes = {\"https://cdn.bokeh.org/bokeh/release/bokeh-2.3.0.min.js\": \"HjagQp6T0/7bxYTAXbLotF1MLAGWmhkY5siA1Gc/pcEgvgRPtMsRn0gQtMwGKiw1\", \"https://cdn.bokeh.org/bokeh/release/bokeh-widgets-2.3.0.min.js\": \"ZEPPTjL+mdyqgIq+/pl9KTwzji8Kow2NnI3zWY8+sFinWP/SYJ80BnfeJsa45iYj\", \"https://cdn.bokeh.org/bokeh/release/bokeh-tables-2.3.0.min.js\": \"exLqv2ACDRIaV7ZK1iL8aGzGYQvKVuT3U2CT7FsQREBxRah6JrkVCoFy0koY1YqV\"};\n\n    for (let i = 0; i < js_urls.length; i++) {\n      const url = js_urls[i];\n      const element = document.createElement('script');\n      element.onload = on_load;\n      element.onerror = on_error.bind(null, url);\n      element.async = false;\n      element.src = url;\n      if (url in hashes) {\n        element.crossOrigin = \"anonymous\";\n        element.integrity = \"sha384-\" + hashes[url];\n      }\n      console.debug(\"Bokeh: injecting script tag for BokehJS library: \", url);\n      document.head.appendChild(element);\n    }\n  };\n\n  function inject_raw_css(css) {\n    const element = document.createElement(\"style\");\n    element.appendChild(document.createTextNode(css));\n    document.body.appendChild(element);\n  }\n\n  \n  var js_urls = [\"https://cdn.bokeh.org/bokeh/release/bokeh-2.3.0.min.js\", \"https://cdn.bokeh.org/bokeh/release/bokeh-widgets-2.3.0.min.js\", \"https://cdn.bokeh.org/bokeh/release/bokeh-tables-2.3.0.min.js\"];\n  var css_urls = [];\n  \n\n  var inline_js = [\n    function(Bokeh) {\n      Bokeh.set_log_level(\"info\");\n    },\n    function(Bokeh) {\n    \n    \n    }\n  ];\n\n  function run_inline_js() {\n    \n    if (root.Bokeh !== undefined || force === true) {\n      \n    for (var i = 0; i < inline_js.length; i++) {\n      inline_js[i].call(root, root.Bokeh);\n    }\n    if (force === true) {\n        display_loaded();\n      }} else if (Date.now() < root._bokeh_timeout) {\n      setTimeout(run_inline_js, 100);\n    } else if (!root._bokeh_failed_load) {\n      console.log(\"Bokeh: BokehJS failed to load within specified timeout.\");\n      root._bokeh_failed_load = true;\n    } else if (force !== true) {\n      var cell = $(document.getElementById(\"6978\")).parents('.cell').data().cell;\n      cell.output_area.append_execute_result(NB_LOAD_WARNING)\n    }\n\n  }\n\n  if (root._bokeh_is_loading === 0) {\n    console.debug(\"Bokeh: BokehJS loaded, going straight to plotting\");\n    run_inline_js();\n  } else {\n    load_libs(css_urls, js_urls, function() {\n      console.debug(\"Bokeh: BokehJS plotting callback run at\", now());\n      run_inline_js();\n    });\n  }\n}(window));"
     },
     "metadata": {},
     "output_type": "display_data"
    },
    {
     "data": {
      "text/html": [
       "\n",
       "\n",
       "\n",
       "\n",
       "\n",
       "\n",
       "  <div class=\"bk-root\" id=\"f7e9d423-f38b-4d63-863e-2369cec6081d\" data-root-id=\"6979\"></div>\n"
      ]
     },
     "metadata": {},
     "output_type": "display_data"
    },
    {
     "data": {
      "application/javascript": [
       "(function(root) {\n",
       "  function embed_document(root) {\n",
       "    \n",
       "  var docs_json = {\"602ac0df-dea8-44e8-9c2a-e8781ca1201c\":{\"defs\":[{\"extends\":null,\"module\":null,\"name\":\"DataModel\",\"overrides\":[],\"properties\":[]}],\"roots\":{\"references\":[{\"attributes\":{\"above\":[{\"id\":\"6998\"}],\"left\":[{\"id\":\"7001\"}],\"renderers\":[{\"id\":\"6996\"}],\"title\":{\"id\":\"7204\"},\"toolbar\":{\"id\":\"6988\"},\"x_range\":{\"id\":\"6980\"},\"x_scale\":{\"id\":\"6984\"},\"y_range\":{\"id\":\"6982\"},\"y_scale\":{\"id\":\"6986\"}},\"id\":\"6979\",\"subtype\":\"Figure\",\"type\":\"Plot\"},{\"attributes\":{\"data_source\":{\"id\":\"6989\"},\"glyph\":{\"id\":\"6990\"},\"hover_glyph\":null,\"muted_glyph\":null,\"nonselection_glyph\":{\"id\":\"6993\"},\"view\":{\"id\":\"6997\"}},\"id\":\"6996\",\"type\":\"GlyphRenderer\"},{\"attributes\":{\"palette\":[\"#000000\",\"#252525\",\"#525252\",\"#737373\",\"#969696\",\"#bdbdbd\",\"#d9d9d9\",\"#f0f0f0\",\"#ffffff\"]},\"id\":\"6994\",\"type\":\"LinearColorMapper\"},{\"attributes\":{\"source\":{\"id\":\"6989\"}},\"id\":\"6997\",\"type\":\"CDSView\"},{\"attributes\":{\"color_mapper\":{\"id\":\"6994\"},\"dh\":{\"value\":14},\"dw\":{\"value\":11},\"global_alpha\":0.1,\"image\":{\"field\":\"image\"},\"x\":{\"value\":0},\"y\":{\"value\":0}},\"id\":\"6993\",\"type\":\"Image\"},{\"attributes\":{},\"id\":\"7209\",\"type\":\"BasicTickFormatter\"},{\"attributes\":{},\"id\":\"7204\",\"type\":\"Title\"},{\"attributes\":{\"ticks\":[0.5,1.5,2.5,3.5,4.5,5.5,6.5,7.5,8.5,9.5,10.5]},\"id\":\"6999\",\"type\":\"FixedTicker\"},{\"attributes\":{\"palette\":[\"#000000\",\"#252525\",\"#525252\",\"#737373\",\"#969696\",\"#bdbdbd\",\"#d9d9d9\",\"#f0f0f0\",\"#ffffff\"]},\"id\":\"6991\",\"type\":\"LinearColorMapper\"},{\"attributes\":{\"end\":11},\"id\":\"6980\",\"type\":\"Range1d\"},{\"attributes\":{},\"id\":\"7208\",\"type\":\"AllLabels\"},{\"attributes\":{},\"id\":\"6984\",\"type\":\"LinearScale\"},{\"attributes\":{},\"id\":\"7207\",\"type\":\"BasicTickFormatter\"},{\"attributes\":{\"end\":14},\"id\":\"6982\",\"type\":\"Range1d\"},{\"attributes\":{\"color_mapper\":{\"id\":\"6991\"},\"dh\":{\"value\":14},\"dw\":{\"value\":11},\"image\":{\"field\":\"image\"},\"x\":{\"value\":0},\"y\":{\"value\":0}},\"id\":\"6990\",\"type\":\"Image\"},{\"attributes\":{\"axis_label\":\"source tokens\",\"formatter\":{\"id\":\"7209\"},\"major_label_orientation\":45,\"major_label_overrides\":{\"0.5\":\"_BOS_\",\"1.5\":\"\\u0432\",\"10.5\":\"_EOS_\",\"2.5\":\"\\u0440\\u0430\\u0441\\u043f\\u043e\\u0440\\u044f\\u0436\\u0435\\u043d\\u0438\\u0438\",\"3.5\":\"\\u0433\\u043e\\u0441\\u0442\\u0435\\u0439\",\"4.5\":\"\\u043e\\u0431\\u0449\\u0430\\u044f\",\"5.5\":\"\\u043a\\u0443\\u0445\\u043d\\u044f\",\"6.5\":\"\\u0438\",\"7.5\":\"\\u043e\\u0431\\u0449\\u0430\\u044f\",\"8.5\":\"\\u0433\\u043e\\u0441\\u0442\\u0438\\u043d\\u0430\\u044f\",\"9.5\":\".\"},\"major_label_policy\":{\"id\":\"7208\"},\"ticker\":{\"id\":\"6999\"}},\"id\":\"6998\",\"type\":\"LinearAxis\"},{\"attributes\":{},\"id\":\"6986\",\"type\":\"LinearScale\"},{\"attributes\":{},\"id\":\"7206\",\"type\":\"AllLabels\"},{\"attributes\":{\"ticks\":[0.5,1.5,2.5,3.5,4.5,5.5,6.5,7.5,8.5,9.5,10.5,11.5,12.5,13.5]},\"id\":\"7002\",\"type\":\"FixedTicker\"},{\"attributes\":{\"active_multi\":null},\"id\":\"6988\",\"type\":\"Toolbar\"},{\"attributes\":{},\"id\":\"7210\",\"type\":\"UnionRenderers\"},{\"attributes\":{\"axis_label\":\"translation tokens\",\"formatter\":{\"id\":\"7207\"},\"major_label_overrides\":{\"0.5\":\"_EOS_\",\"1.5\":\".\",\"10.5\":\"use\",\"11.5\":\"can\",\"12.5\":\"guests\",\"13.5\":\"_BOS_\",\"2.5\":\"room\",\"3.5\":\"living\",\"4.5\":\"common\",\"5.5\":\"a\",\"6.5\":\"and\",\"7.5\":\"kitchen\",\"8.5\":\"shared\",\"9.5\":\"a\"},\"major_label_policy\":{\"id\":\"7206\"},\"ticker\":{\"id\":\"7002\"}},\"id\":\"7001\",\"type\":\"LinearAxis\"},{\"attributes\":{\"data\":{\"image\":[{\"__ndarray__\":\"+k5BM+RNpjMyATIzBP5zNER7nzUvS0w5VfmYN4KvajpbP5g7e0QlPqY1VT89liM1B7uQNEvqDjUf4841Loe4OGAg6joXGxg6j8VNPV1TBj4UH2s+/yUWP/q+7DJro90wMfPSLdBQDS7ogEo1IaaBOHTVTTf+ZNQ6NfLXPXv4Kj+OaGY+MIYkMDmW0y7bw8wuOtGLLrlxhzUeRlE6Z5GzODm1czrC9fo+OAwCP+e6/DdbzjwxlA8xMvyQ3DE+yVAxVaX/NMHb+Thxjco5mPxUPREqGj+VybA+Gt1ENqGOmTFozI4wu6goL5L7ozAItBc1CDmMOO41Pjk8R3A+G0xdPRYCNj94O+E45EXjM+ZLhzXkiXozW+8DNX3HvDamAmM8CdxfPxK5zDwDBQE8dObaPCxmVT3kAsUy7FTyMru2xzNW1Fw0Zf6hOaFzWD7M6Gc+JqalOkYSlj1kxvA+LYqLPIfG+zUCQao33Jb3NYZNLDZMgCo+0AIIP/be/j33/pk6sJQfPYfZDD78OTU4CSSoNf2plDb0GZ02jiUdN+lSLz0ci8A+YggVPs++2DqeOD48wKuwPvA1nj0gVRc3WIqINrt+xjjx7aw4uHKHPBqT5T5UVZY+vBr/OwBSgjwiEF0+KNzdOuHcGzwjCc47XsJVOy0RKjyscNk9JvEEPnD5AD289pA7rcV8OjZyJj07NCg/SMSKPBWXqzomsu46tv3bPMdPYT6ES+E+jyb4PY51Hz3mh/88Tny3PQXJRjyM41w659oVPLoYCD1L6d47dqRwPlhLrDz7ZIY9bqXcPvGCFT3pCYs9FG6+PQ==\",\"dtype\":\"float32\",\"order\":\"little\",\"shape\":[14,11]}]},\"selected\":{\"id\":\"7211\"},\"selection_policy\":{\"id\":\"7210\"}},\"id\":\"6989\",\"type\":\"ColumnDataSource\"},{\"attributes\":{},\"id\":\"7211\",\"type\":\"Selection\"}],\"root_ids\":[\"6979\"]},\"title\":\"Bokeh Application\",\"version\":\"2.3.0\"}};\n",
       "  var render_items = [{\"docid\":\"602ac0df-dea8-44e8-9c2a-e8781ca1201c\",\"root_ids\":[\"6979\"],\"roots\":{\"6979\":\"f7e9d423-f38b-4d63-863e-2369cec6081d\"}}];\n",
       "  root.Bokeh.embed.embed_items_notebook(docs_json, render_items);\n",
       "\n",
       "  }\n",
       "  if (root.Bokeh !== undefined) {\n",
       "    embed_document(root);\n",
       "  } else {\n",
       "    var attempts = 0;\n",
       "    var timer = setInterval(function(root) {\n",
       "      if (root.Bokeh !== undefined) {\n",
       "        clearInterval(timer);\n",
       "        embed_document(root);\n",
       "      } else {\n",
       "        attempts++;\n",
       "        if (attempts > 100) {\n",
       "          clearInterval(timer);\n",
       "          console.log(\"Bokeh: ERROR: Unable to run BokehJS code because BokehJS library is missing\");\n",
       "        }\n",
       "      }\n",
       "    }, 10, root)\n",
       "  }\n",
       "})(window);"
      ],
      "application/vnd.bokehjs_exec.v0+json": ""
     },
     "metadata": {
      "application/vnd.bokehjs_exec.v0+json": {
       "id": "6979"
      }
     },
     "output_type": "display_data"
    },
    {
     "data": {
      "text/html": [
       "\n",
       "\n",
       "\n",
       "\n",
       "\n",
       "\n",
       "  <div class=\"bk-root\" id=\"cb3c4db1-5f66-4a2d-a13e-944402b4fa8b\" data-root-id=\"7341\"></div>\n"
      ]
     },
     "metadata": {},
     "output_type": "display_data"
    },
    {
     "data": {
      "application/javascript": [
       "(function(root) {\n",
       "  function embed_document(root) {\n",
       "    \n",
       "  var docs_json = {\"f330a488-8e12-42f1-b848-ad524437cf2d\":{\"defs\":[{\"extends\":null,\"module\":null,\"name\":\"DataModel\",\"overrides\":[],\"properties\":[]}],\"roots\":{\"references\":[{\"attributes\":{\"above\":[{\"id\":\"7360\"}],\"left\":[{\"id\":\"7363\"}],\"renderers\":[{\"id\":\"7358\"}],\"title\":{\"id\":\"7574\"},\"toolbar\":{\"id\":\"7350\"},\"x_range\":{\"id\":\"7342\"},\"x_scale\":{\"id\":\"7346\"},\"y_range\":{\"id\":\"7344\"},\"y_scale\":{\"id\":\"7348\"}},\"id\":\"7341\",\"subtype\":\"Figure\",\"type\":\"Plot\"},{\"attributes\":{},\"id\":\"7574\",\"type\":\"Title\"},{\"attributes\":{},\"id\":\"7576\",\"type\":\"AllLabels\"},{\"attributes\":{\"color_mapper\":{\"id\":\"7353\"},\"dh\":{\"value\":21},\"dw\":{\"value\":15},\"image\":{\"field\":\"image\"},\"x\":{\"value\":0},\"y\":{\"value\":0}},\"id\":\"7352\",\"type\":\"Image\"},{\"attributes\":{},\"id\":\"7581\",\"type\":\"Selection\"},{\"attributes\":{\"data\":{\"image\":[{\"__ndarray__\":\"pbwCM30TgTPtKwo1O/THNqUHOjcK4ws4Y9RwORSRRjnHxX85LknuOt9umDte3FU6JW7DO0qFHjzK8nk/9nAsN8bPoTiQTm831cwGOOtAADd1eVw8NPcCPoihADtiF8c9OaKTO5XNHDx4WTs5LAaCO4X0hTtTrTw/19a1Mg1wlTQbnkQyam6AMpmKTjRCE546t1dlPIemKznHwIY7IO7hOtkK3TlC9Bk4GU4+PAr8lT2au2Q/RmegLlkwRTKR/PQutGYPMI7vMTCd1Bo0LMobODE/4za0njg48Na3NkPa+TfevNo1oN/qNlJ4yjkL3n8/g+enL9rpPDFZFFAy5Dc4Mf+amzH1CO013KnUOspGCjgmMmc6GTAMOux42DlvoiA7IKMqP5nQpD7itrc7AEOZMarEeDM/r1I1LsW6NdyfNzUvxY83uCUUOmsnmzrIPU07gJO/PNOH1j25E9892cnBPsBKDj6wXHY+tK0aNDIqmDV2MAI2OXPgN2wUDzeZidU3+R8KOfS4hzvTDJY7TkbrOrNqPzxkEPw5sA+CO4eFKzstdXg/I8ZeMK3KHTTBzBQzYD9+Mn2DIDXzQGk3RGNbPJ9PETsBWh4/KEDFPUoLFD3mbf867aTxPebLmj0X+ho9/UlgMsFHzjc395c1MrMHNhhOmjUJJ4M4QzPePFjxrzv4qFY99e24PNfOID7Iw9k70HK5PhiMqD5N/Rg9dgpxM5d4PTeylok15ggxODTSwTnwCKY62TDTPWf3eD4EAA89gqTcPpdN/T1iM0k8lfCfPLyS+Txd24I5WWxhMkB2JjVeG4g0+dGeNeb2sjY6Jh06v54yPHrCPT15F/M+g3y5PgakeT0uLO07wm33PHTDyju9MQg6qrIgNYLCKTdIZIk3UKvGNrb2+jh7FnI7Xe59Pr7doTo0HzA+5256PPZblDwaaD061+IAO24Cwju5bgg/pUyNNYiRIDjM1jA43RHAOZSfbjrWMMw7EqcmPVY6dD7n68A+NAgVPoAg3T1r94o7mcYTPE1krTySlUY961VFNj69LjpJsR06SukkOwD1VjoE+w08MgQ9PlV7oD1MVww/EzdOPe/zdD2+Q0I53B+3Om0SODtt/nk9WhCJO/Cf5zzfc0I6XvgAPIyWzjpDk548cV4rPsdZKT0Zrds+fkKGO4pgXzuFO1Y62pUAOxMTEjsyUZM+2B+ANm+dQzoY7EI3v3bLOSwvqDvsJBY/llcFPmxZUT6nknI9MW8rOzcyjzqp5mw4wzGkOl3A1jteOuc6D9+iNhu+9zf8GtE25Rg/OFenZzvCRqY+SNj8Ppr0BD1/KX49h8+8O0mEDzutymA63iSOPH1PTz0z69Q7Fm3mM8kQ+DXza8IztyANNUZkRDcnpsg6flUiPtCIgDy+B4k+v6AOPj4aGz6vKEs8E/cNPGXBJjzQO3A+ohuvNp72jDnckD84lr8sOIpJajrZwxo85JDWPlaPizzlEcs8lHhFPR/SOT6HGmY8Okv7O6LWND4ApM09YIDCOLgTsjm/Wg46f3cXOt9ggjumeiU90QcUP7z0Kj6gbYA9FMB0PfZ4Sz0We1M6dTZlPFl5iTwVAKk7EdU7OJeNpznqaQU4UDEiOfRGbzrGVBg7L1D7PHFJgDu2JQA859NTPHK5cTy4qGo9UZ8zPWGvGT6HxSw/\",\"dtype\":\"float32\",\"order\":\"little\",\"shape\":[21,15]}]},\"selected\":{\"id\":\"7581\"},\"selection_policy\":{\"id\":\"7580\"}},\"id\":\"7351\",\"type\":\"ColumnDataSource\"},{\"attributes\":{\"ticks\":[0.5,1.5,2.5,3.5,4.5,5.5,6.5,7.5,8.5,9.5,10.5,11.5,12.5,13.5,14.5]},\"id\":\"7361\",\"type\":\"FixedTicker\"},{\"attributes\":{\"end\":15},\"id\":\"7342\",\"type\":\"Range1d\"},{\"attributes\":{\"palette\":[\"#000000\",\"#252525\",\"#525252\",\"#737373\",\"#969696\",\"#bdbdbd\",\"#d9d9d9\",\"#f0f0f0\",\"#ffffff\"]},\"id\":\"7356\",\"type\":\"LinearColorMapper\"},{\"attributes\":{\"axis_label\":\"source tokens\",\"formatter\":{\"id\":\"7579\"},\"major_label_orientation\":45,\"major_label_overrides\":{\"0.5\":\"_BOS_\",\"1.5\":\"\\u043a\\u0440\\u043e\\u043c\\u0435\",\"10.5\":\"\\u0438\",\"11.5\":\"\\u0431\\u0435\\u0441\\u043f\\u043b\\u0430\\u0442\\u043d\\u0430\\u044f\",\"12.5\":\"\\u043f\\u0430\\u0440\\u043a\\u043e\\u0432\\u043a\\u0430\",\"13.5\":\".\",\"14.5\":\"_EOS_\",\"2.5\":\"\\u0442\\u043e\\u0433\\u043e\",\"3.5\":\",\",\"4.5\":\"\\u043f\\u0440\\u0435\\u0434\\u043e\\u0441\\u0442\\u0430\\u0432\\u043b\\u044f\\u0435\\u0442\\u0441\\u044f\",\"5.5\":\"\\u043f\\u0440\\u043e\\u043a\\u0430\\u0442\",\"6.5\":\"\\u0432\\u0435\\u043b\\u043e\\u0441\\u0438\\u043f\\u0435\\u0434\\u043e\\u0432\",\"7.5\":\",\",\"8.5\":\"\\u0443\\u0441\\u043b\\u0443\\u0433\\u0438\",\"9.5\":\"\\u0442\\u0440\\u0430\\u043d\\u0441\\u0444\\u0435\\u0440\\u0430\"},\"major_label_policy\":{\"id\":\"7578\"},\"ticker\":{\"id\":\"7361\"}},\"id\":\"7360\",\"type\":\"LinearAxis\"},{\"attributes\":{},\"id\":\"7579\",\"type\":\"BasicTickFormatter\"},{\"attributes\":{\"color_mapper\":{\"id\":\"7356\"},\"dh\":{\"value\":21},\"dw\":{\"value\":15},\"global_alpha\":0.1,\"image\":{\"field\":\"image\"},\"x\":{\"value\":0},\"y\":{\"value\":0}},\"id\":\"7355\",\"type\":\"Image\"},{\"attributes\":{\"axis_label\":\"translation tokens\",\"formatter\":{\"id\":\"7577\"},\"major_label_overrides\":{\"0.5\":\"_EOS_\",\"1.5\":\".\",\"10.5\":\"a\",\"11.5\":\"as\",\"12.5\":\"well\",\"13.5\":\"as\",\"14.5\":\",\",\"15.5\":\"available\",\"16.5\":\"also\",\"17.5\":\"is\",\"18.5\":\"rental\",\"19.5\":\"bicycle\",\"2.5\":\"available\",\"20.5\":\"_BOS_\",\"3.5\":\"is\",\"4.5\":\"parking\",\"5.5\":\"free\",\"6.5\":\".\",\"7.5\":\"service\",\"8.5\":\"rental\",\"9.5\":\"bicycle\"},\"major_label_policy\":{\"id\":\"7576\"},\"ticker\":{\"id\":\"7364\"}},\"id\":\"7363\",\"type\":\"LinearAxis\"},{\"attributes\":{},\"id\":\"7577\",\"type\":\"BasicTickFormatter\"},{\"attributes\":{\"ticks\":[0.5,1.5,2.5,3.5,4.5,5.5,6.5,7.5,8.5,9.5,10.5,11.5,12.5,13.5,14.5,15.5,16.5,17.5,18.5,19.5,20.5]},\"id\":\"7364\",\"type\":\"FixedTicker\"},{\"attributes\":{\"source\":{\"id\":\"7351\"}},\"id\":\"7359\",\"type\":\"CDSView\"},{\"attributes\":{},\"id\":\"7346\",\"type\":\"LinearScale\"},{\"attributes\":{\"data_source\":{\"id\":\"7351\"},\"glyph\":{\"id\":\"7352\"},\"hover_glyph\":null,\"muted_glyph\":null,\"nonselection_glyph\":{\"id\":\"7355\"},\"view\":{\"id\":\"7359\"}},\"id\":\"7358\",\"type\":\"GlyphRenderer\"},{\"attributes\":{\"active_multi\":null},\"id\":\"7350\",\"type\":\"Toolbar\"},{\"attributes\":{},\"id\":\"7580\",\"type\":\"UnionRenderers\"},{\"attributes\":{},\"id\":\"7348\",\"type\":\"LinearScale\"},{\"attributes\":{},\"id\":\"7578\",\"type\":\"AllLabels\"},{\"attributes\":{\"palette\":[\"#000000\",\"#252525\",\"#525252\",\"#737373\",\"#969696\",\"#bdbdbd\",\"#d9d9d9\",\"#f0f0f0\",\"#ffffff\"]},\"id\":\"7353\",\"type\":\"LinearColorMapper\"},{\"attributes\":{\"end\":21},\"id\":\"7344\",\"type\":\"Range1d\"}],\"root_ids\":[\"7341\"]},\"title\":\"Bokeh Application\",\"version\":\"2.3.0\"}};\n",
       "  var render_items = [{\"docid\":\"f330a488-8e12-42f1-b848-ad524437cf2d\",\"root_ids\":[\"7341\"],\"roots\":{\"7341\":\"cb3c4db1-5f66-4a2d-a13e-944402b4fa8b\"}}];\n",
       "  root.Bokeh.embed.embed_items_notebook(docs_json, render_items);\n",
       "\n",
       "  }\n",
       "  if (root.Bokeh !== undefined) {\n",
       "    embed_document(root);\n",
       "  } else {\n",
       "    var attempts = 0;\n",
       "    var timer = setInterval(function(root) {\n",
       "      if (root.Bokeh !== undefined) {\n",
       "        clearInterval(timer);\n",
       "        embed_document(root);\n",
       "      } else {\n",
       "        attempts++;\n",
       "        if (attempts > 100) {\n",
       "          clearInterval(timer);\n",
       "          console.log(\"Bokeh: ERROR: Unable to run BokehJS code because BokehJS library is missing\");\n",
       "        }\n",
       "      }\n",
       "    }, 10, root)\n",
       "  }\n",
       "})(window);"
      ],
      "application/vnd.bokehjs_exec.v0+json": ""
     },
     "metadata": {
      "application/vnd.bokehjs_exec.v0+json": {
       "id": "7341"
      }
     },
     "output_type": "display_data"
    },
    {
     "data": {
      "text/html": [
       "\n",
       "\n",
       "\n",
       "\n",
       "\n",
       "\n",
       "  <div class=\"bk-root\" id=\"5e1df12c-bcda-4393-8265-93ef2cd1b8c7\" data-root-id=\"7711\"></div>\n"
      ]
     },
     "metadata": {},
     "output_type": "display_data"
    },
    {
     "data": {
      "application/javascript": [
       "(function(root) {\n",
       "  function embed_document(root) {\n",
       "    \n",
       "  var docs_json = {\"a6d3d722-ad2c-46c2-903c-c7a7c59ed05c\":{\"defs\":[{\"extends\":null,\"module\":null,\"name\":\"DataModel\",\"overrides\":[],\"properties\":[]}],\"roots\":{\"references\":[{\"attributes\":{\"above\":[{\"id\":\"7730\"}],\"left\":[{\"id\":\"7733\"}],\"renderers\":[{\"id\":\"7728\"}],\"title\":{\"id\":\"7952\"},\"toolbar\":{\"id\":\"7720\"},\"x_range\":{\"id\":\"7712\"},\"x_scale\":{\"id\":\"7716\"},\"y_range\":{\"id\":\"7714\"},\"y_scale\":{\"id\":\"7718\"}},\"id\":\"7711\",\"subtype\":\"Figure\",\"type\":\"Plot\"},{\"attributes\":{},\"id\":\"7958\",\"type\":\"UnionRenderers\"},{\"attributes\":{},\"id\":\"7957\",\"type\":\"BasicTickFormatter\"},{\"attributes\":{},\"id\":\"7952\",\"type\":\"Title\"},{\"attributes\":{},\"id\":\"7959\",\"type\":\"Selection\"},{\"attributes\":{},\"id\":\"7954\",\"type\":\"AllLabels\"},{\"attributes\":{\"color_mapper\":{\"id\":\"7726\"},\"dh\":{\"value\":11},\"dw\":{\"value\":13},\"global_alpha\":0.1,\"image\":{\"field\":\"image\"},\"x\":{\"value\":0},\"y\":{\"value\":0}},\"id\":\"7725\",\"type\":\"Image\"},{\"attributes\":{\"ticks\":[0.5,1.5,2.5,3.5,4.5,5.5,6.5,7.5,8.5,9.5,10.5,11.5,12.5]},\"id\":\"7731\",\"type\":\"FixedTicker\"},{\"attributes\":{\"end\":13},\"id\":\"7712\",\"type\":\"Range1d\"},{\"attributes\":{\"data_source\":{\"id\":\"7721\"},\"glyph\":{\"id\":\"7722\"},\"hover_glyph\":null,\"muted_glyph\":null,\"nonselection_glyph\":{\"id\":\"7725\"},\"view\":{\"id\":\"7729\"}},\"id\":\"7728\",\"type\":\"GlyphRenderer\"},{\"attributes\":{\"data\":{\"image\":[{\"__ndarray__\":\"d73SN8viiTiDRNc4PP94Ohc2GDtB3MM6p/2GOnPcnjtEm206hV0HOjThrDgtchY6drF8P0B40DgUImE8FlevPbfarT2q1hM+0MJpPNAiNTwjTtM7FQEdOhxeyTmULxI7s0kZO/hKIj/kzwU4ta3JOE2cLDw87pc8+Xy+PBioVzy0QoQ6Kl2GOTUjZzmLcpQ5igZfOt+mCTva/W0/0b4iMdp0xTMZtZY5uRr3N5i3hDWPuDozb5d2M1CEgTdqWw43t7pcOgA0bD++OYI90ctNPFaaYzUyzLs1oKOPOcIWLTgBjgM1fu2CMT1C0zAMRq01C1prNpBuKjzTv3Y/ld7PPB8BFjjs4pQ2mWu1NQILNTyHyDc/QiIBOkNPmTcx3Ag4kFeHOX3FizogUdY7pvSNOthYgTto5IM+ChwMNdozkTUCBpE0Y5MHNn8uMzderD46rVFkPUt7cT8Q5bk4QnIKOdTO3TZtZUQ1HJojNbRwkTRuxFU30nUVNNRRQjaYqE48xSSBPVZzGz40QkQ/F150O08NDDtLTiA2v86INcdrJDV/wqA0h3bjNeV2bDSWty42rSzhOe0Xtj13y5c+EjkaP1yiYTtAiQI8+7ZZOd98njji+Vk42fJjOPAOajcfQ2Y0tgnhNtcCxD2wvtw+HQYhPuLVoD4h66I6hAfhObYFXjf/Lh82v22VNt2/8DimuB06bKOEOYHLwzlJxHc3hje/OSMBJjtAjhc9tJdZO2aFjDyd5Wo/84G8O0v1dDw=\",\"dtype\":\"float32\",\"order\":\"little\",\"shape\":[11,13]}]},\"selected\":{\"id\":\"7959\"},\"selection_policy\":{\"id\":\"7958\"}},\"id\":\"7721\",\"type\":\"ColumnDataSource\"},{\"attributes\":{\"ticks\":[0.5,1.5,2.5,3.5,4.5,5.5,6.5,7.5,8.5,9.5,10.5]},\"id\":\"7734\",\"type\":\"FixedTicker\"},{\"attributes\":{},\"id\":\"7716\",\"type\":\"LinearScale\"},{\"attributes\":{},\"id\":\"7956\",\"type\":\"AllLabels\"},{\"attributes\":{\"source\":{\"id\":\"7721\"}},\"id\":\"7729\",\"type\":\"CDSView\"},{\"attributes\":{\"palette\":[\"#000000\",\"#252525\",\"#525252\",\"#737373\",\"#969696\",\"#bdbdbd\",\"#d9d9d9\",\"#f0f0f0\",\"#ffffff\"]},\"id\":\"7723\",\"type\":\"LinearColorMapper\"},{\"attributes\":{},\"id\":\"7955\",\"type\":\"BasicTickFormatter\"},{\"attributes\":{},\"id\":\"7718\",\"type\":\"LinearScale\"},{\"attributes\":{\"color_mapper\":{\"id\":\"7723\"},\"dh\":{\"value\":11},\"dw\":{\"value\":13},\"image\":{\"field\":\"image\"},\"x\":{\"value\":0},\"y\":{\"value\":0}},\"id\":\"7722\",\"type\":\"Image\"},{\"attributes\":{\"axis_label\":\"translation tokens\",\"formatter\":{\"id\":\"7955\"},\"major_label_overrides\":{\"0.5\":\"_EOS_\",\"1.5\":\".\",\"10.5\":\"_BOS_\",\"2.5\":\"away\",\"3.5\":\"km\",\"4.5\":\"26\",\"5.5\":\"is\",\"6.5\":\"uth\",\"7.5\":\"m@@\",\"8.5\":\"lai@@\",\"9.5\":\"k@@\"},\"major_label_policy\":{\"id\":\"7954\"},\"ticker\":{\"id\":\"7734\"}},\"id\":\"7733\",\"type\":\"LinearAxis\"},{\"attributes\":{\"axis_label\":\"source tokens\",\"formatter\":{\"id\":\"7957\"},\"major_label_orientation\":45,\"major_label_overrides\":{\"0.5\":\"_BOS_\",\"1.5\":\"\\u0440\\u0430\\u0441\\u0441\\u0442\\u043e\\u044f\\u043d\\u0438\\u0435\",\"10.5\":\"\\u043a\\u043c\",\"11.5\":\".\",\"12.5\":\"_EOS_\",\"2.5\":\"\\u0434\\u043e\",\"3.5\":\"\\u0433\\u043e\\u0440\\u043e\\u0434\\u0430\",\"4.5\":\"\\u043a\\u0438@@\",\"5.5\":\"\\u0441\\u0441\\u0438@@\",\"6.5\":\"\\u043c@@\",\"7.5\":\"\\u043c\\u0438\",\"8.5\":\"\\u0441\\u043e\\u0441\\u0442\\u0430\\u0432\\u043b\\u044f\\u0435\\u0442\",\"9.5\":\"26\"},\"major_label_policy\":{\"id\":\"7956\"},\"ticker\":{\"id\":\"7731\"}},\"id\":\"7730\",\"type\":\"LinearAxis\"},{\"attributes\":{\"end\":11},\"id\":\"7714\",\"type\":\"Range1d\"},{\"attributes\":{\"palette\":[\"#000000\",\"#252525\",\"#525252\",\"#737373\",\"#969696\",\"#bdbdbd\",\"#d9d9d9\",\"#f0f0f0\",\"#ffffff\"]},\"id\":\"7726\",\"type\":\"LinearColorMapper\"},{\"attributes\":{\"active_multi\":null},\"id\":\"7720\",\"type\":\"Toolbar\"}],\"root_ids\":[\"7711\"]},\"title\":\"Bokeh Application\",\"version\":\"2.3.0\"}};\n",
       "  var render_items = [{\"docid\":\"a6d3d722-ad2c-46c2-903c-c7a7c59ed05c\",\"root_ids\":[\"7711\"],\"roots\":{\"7711\":\"5e1df12c-bcda-4393-8265-93ef2cd1b8c7\"}}];\n",
       "  root.Bokeh.embed.embed_items_notebook(docs_json, render_items);\n",
       "\n",
       "  }\n",
       "  if (root.Bokeh !== undefined) {\n",
       "    embed_document(root);\n",
       "  } else {\n",
       "    var attempts = 0;\n",
       "    var timer = setInterval(function(root) {\n",
       "      if (root.Bokeh !== undefined) {\n",
       "        clearInterval(timer);\n",
       "        embed_document(root);\n",
       "      } else {\n",
       "        attempts++;\n",
       "        if (attempts > 100) {\n",
       "          clearInterval(timer);\n",
       "          console.log(\"Bokeh: ERROR: Unable to run BokehJS code because BokehJS library is missing\");\n",
       "        }\n",
       "      }\n",
       "    }, 10, root)\n",
       "  }\n",
       "})(window);"
      ],
      "application/vnd.bokehjs_exec.v0+json": ""
     },
     "metadata": {
      "application/vnd.bokehjs_exec.v0+json": {
       "id": "7711"
      }
     },
     "output_type": "display_data"
    },
    {
     "data": {
      "text/html": [
       "\n",
       "\n",
       "\n",
       "\n",
       "\n",
       "\n",
       "  <div class=\"bk-root\" id=\"1a638821-894d-40e0-9678-db4b706af59c\" data-root-id=\"8089\"></div>\n"
      ]
     },
     "metadata": {},
     "output_type": "display_data"
    },
    {
     "data": {
      "application/javascript": [
       "(function(root) {\n",
       "  function embed_document(root) {\n",
       "    \n",
       "  var docs_json = {\"1c4ab3c3-448d-4bfc-8a69-80d0b42c1e36\":{\"defs\":[{\"extends\":null,\"module\":null,\"name\":\"DataModel\",\"overrides\":[],\"properties\":[]}],\"roots\":{\"references\":[{\"attributes\":{\"above\":[{\"id\":\"8108\"}],\"left\":[{\"id\":\"8111\"}],\"renderers\":[{\"id\":\"8106\"}],\"title\":{\"id\":\"8338\"},\"toolbar\":{\"id\":\"8098\"},\"x_range\":{\"id\":\"8090\"},\"x_scale\":{\"id\":\"8094\"},\"y_range\":{\"id\":\"8092\"},\"y_scale\":{\"id\":\"8096\"}},\"id\":\"8089\",\"subtype\":\"Figure\",\"type\":\"Plot\"},{\"attributes\":{\"axis_label\":\"source tokens\",\"formatter\":{\"id\":\"8343\"},\"major_label_orientation\":45,\"major_label_overrides\":{\"0.5\":\"_BOS_\",\"1.5\":\"\\u0430\\u043f\\u0430\\u0440\\u0442\\u0430\\u043c\\u0435\\u043d\\u0442\\u044b\",\"10.5\":\"\\u0441\\u0430\\u0434\\u043e\\u043c\",\"11.5\":\",\",\"12.5\":\"\\u043a\\u043e\\u043d\\u0434\\u0438\\u0446\\u0438\\u043e\\u043d\\u0435\\u0440\\u043e\\u043c\",\"13.5\":\"\\u0438\",\"14.5\":\"\\u0442\\u0435\\u0440\\u0440\\u0430\\u0441\\u043e\\u0439\",\"15.5\":\"\\u0434\\u043b\\u044f\",\"16.5\":\"\\u0437\\u0430\\u0433\\u0430\\u0440\\u0430\",\"17.5\":\"\\u0440\\u0430\\u0441\\u043f\\u043e\\u043b\\u043e\\u0436\\u0435\\u043d\\u044b\",\"18.5\":\"\\u0432\",\"19.5\":\"5\",\"2.5\":\"\\u0432\",\"20.5\":\"\\u043c\\u0438\\u043d\\u0443\\u0442\\u0430\\u0445\",\"21.5\":\"\\u0445\\u043e\\u0434\\u044c\\u0431\\u044b\",\"22.5\":\"\\u043e\\u0442\",\"23.5\":\"\\u043f\\u043b\\u044f\\u0436\\u0430\",\"24.5\":\"\\u043d\\u0430\",\"25.5\":\"\\u043a\\u0443\\u0440\\u043e\\u0440\\u0442\\u0435\",\"26.5\":\"\\u043a\\u0430@@\",\"27.5\":\"\\u0431\\u043e\",\"28.5\":\"-\",\"29.5\":\"\\u0440\\u043e\\u0439\",\"3.5\":\"\\u043f\\u0435\\u043d\\u0442@@\",\"30.5\":\".\",\"31.5\":\"_EOS_\",\"4.5\":\"\\u0445\\u0430\\u0443\\u0441\\u0435\",\"5.5\":\"\\u0441\",\"6.5\":\"\\u043e\\u0431\\u0449\\u0438\\u043c\",\"7.5\":\"\\u043e\\u0442\\u043a\\u0440\\u044b\\u0442\\u044b\\u043c\",\"8.5\":\"\\u0431\\u0430\\u0441\\u0441\\u0435\\u0439\\u043d\\u043e\\u043c\",\"9.5\":\",\"},\"major_label_policy\":{\"id\":\"8342\"},\"ticker\":{\"id\":\"8109\"}},\"id\":\"8108\",\"type\":\"LinearAxis\"},{\"attributes\":{},\"id\":\"8343\",\"type\":\"BasicTickFormatter\"},{\"attributes\":{},\"id\":\"8340\",\"type\":\"AllLabels\"},{\"attributes\":{\"color_mapper\":{\"id\":\"8101\"},\"dh\":{\"value\":48},\"dw\":{\"value\":32},\"image\":{\"field\":\"image\"},\"x\":{\"value\":0},\"y\":{\"value\":0}},\"id\":\"8100\",\"type\":\"Image\"},{\"attributes\":{\"end\":32},\"id\":\"8090\",\"type\":\"Range1d\"},{\"attributes\":{\"ticks\":[0.5,1.5,2.5,3.5,4.5,5.5,6.5,7.5,8.5,9.5,10.5,11.5,12.5,13.5,14.5,15.5,16.5,17.5,18.5,19.5,20.5,21.5,22.5,23.5,24.5,25.5,26.5,27.5,28.5,29.5,30.5,31.5]},\"id\":\"8109\",\"type\":\"FixedTicker\"},{\"attributes\":{\"active_multi\":null},\"id\":\"8098\",\"type\":\"Toolbar\"},{\"attributes\":{},\"id\":\"8342\",\"type\":\"AllLabels\"},{\"attributes\":{\"source\":{\"id\":\"8099\"}},\"id\":\"8107\",\"type\":\"CDSView\"},{\"attributes\":{\"data\":{\"image\":[{\"__ndarray__\":\"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\",\"dtype\":\"float32\",\"order\":\"little\",\"shape\":[48,32]}]},\"selected\":{\"id\":\"8345\"},\"selection_policy\":{\"id\":\"8344\"}},\"id\":\"8099\",\"type\":\"ColumnDataSource\"},{\"attributes\":{\"data_source\":{\"id\":\"8099\"},\"glyph\":{\"id\":\"8100\"},\"hover_glyph\":null,\"muted_glyph\":null,\"nonselection_glyph\":{\"id\":\"8103\"},\"view\":{\"id\":\"8107\"}},\"id\":\"8106\",\"type\":\"GlyphRenderer\"},{\"attributes\":{},\"id\":\"8344\",\"type\":\"UnionRenderers\"},{\"attributes\":{},\"id\":\"8094\",\"type\":\"LinearScale\"},{\"attributes\":{\"axis_label\":\"translation tokens\",\"formatter\":{\"id\":\"8341\"},\"major_label_overrides\":{\"0.5\":\"_EOS_\",\"1.5\":\".\",\"10.5\":\"just\",\"11.5\":\"located\",\"12.5\":\"is\",\"13.5\":\"terrace\",\"14.5\":\"sun\",\"15.5\":\"a\",\"16.5\":\"and\",\"17.5\":\",\",\"18.5\":\"terrace\",\"19.5\":\"sun\",\"2.5\":\"property\",\"20.5\":\"with\",\"21.5\":\"terrace\",\"22.5\":\"sun\",\"23.5\":\"a\",\"24.5\":\"and\",\"25.5\":\"terrace\",\"26.5\":\"a\",\"27.5\":\",\",\"28.5\":\"garden\",\"29.5\":\"a\",\"3.5\":\"the\",\"30.5\":\"with\",\"31.5\":\"rooms\",\"32.5\":\"conditioned\",\"33.5\":\"-\",\"34.5\":\"air\",\"35.5\":\",\",\"36.5\":\"garden\",\"37.5\":\"a\",\"38.5\":\"offer\",\"39.5\":\"apartments\",\"4.5\":\"from\",\"40.5\":\"conditioned\",\"41.5\":\"-\",\"42.5\":\"air\",\"43.5\":\",\",\"44.5\":\"garden\",\"45.5\":\"a\",\"46.5\":\"offering\",\"47.5\":\"_BOS_\",\"5.5\":\"walk\",\"6.5\":\"minute\",\"7.5\":\"-\",\"8.5\":\"5\",\"9.5\":\"a\"},\"major_label_policy\":{\"id\":\"8340\"},\"ticker\":{\"id\":\"8112\"}},\"id\":\"8111\",\"type\":\"LinearAxis\"},{\"attributes\":{\"palette\":[\"#000000\",\"#252525\",\"#525252\",\"#737373\",\"#969696\",\"#bdbdbd\",\"#d9d9d9\",\"#f0f0f0\",\"#ffffff\"]},\"id\":\"8104\",\"type\":\"LinearColorMapper\"},{\"attributes\":{},\"id\":\"8338\",\"type\":\"Title\"},{\"attributes\":{\"ticks\":[0.5,1.5,2.5,3.5,4.5,5.5,6.5,7.5,8.5,9.5,10.5,11.5,12.5,13.5,14.5,15.5,16.5,17.5,18.5,19.5,20.5,21.5,22.5,23.5,24.5,25.5,26.5,27.5,28.5,29.5,30.5,31.5,32.5,33.5,34.5,35.5,36.5,37.5,38.5,39.5,40.5,41.5,42.5,43.5,44.5,45.5,46.5,47.5]},\"id\":\"8112\",\"type\":\"FixedTicker\"},{\"attributes\":{\"color_mapper\":{\"id\":\"8104\"},\"dh\":{\"value\":48},\"dw\":{\"value\":32},\"global_alpha\":0.1,\"image\":{\"field\":\"image\"},\"x\":{\"value\":0},\"y\":{\"value\":0}},\"id\":\"8103\",\"type\":\"Image\"},{\"attributes\":{},\"id\":\"8345\",\"type\":\"Selection\"},{\"attributes\":{\"end\":48},\"id\":\"8092\",\"type\":\"Range1d\"},{\"attributes\":{},\"id\":\"8096\",\"type\":\"LinearScale\"},{\"attributes\":{\"palette\":[\"#000000\",\"#252525\",\"#525252\",\"#737373\",\"#969696\",\"#bdbdbd\",\"#d9d9d9\",\"#f0f0f0\",\"#ffffff\"]},\"id\":\"8101\",\"type\":\"LinearColorMapper\"},{\"attributes\":{},\"id\":\"8341\",\"type\":\"BasicTickFormatter\"}],\"root_ids\":[\"8089\"]},\"title\":\"Bokeh Application\",\"version\":\"2.3.0\"}};\n",
       "  var render_items = [{\"docid\":\"1c4ab3c3-448d-4bfc-8a69-80d0b42c1e36\",\"root_ids\":[\"8089\"],\"roots\":{\"8089\":\"1a638821-894d-40e0-9678-db4b706af59c\"}}];\n",
       "  root.Bokeh.embed.embed_items_notebook(docs_json, render_items);\n",
       "\n",
       "  }\n",
       "  if (root.Bokeh !== undefined) {\n",
       "    embed_document(root);\n",
       "  } else {\n",
       "    var attempts = 0;\n",
       "    var timer = setInterval(function(root) {\n",
       "      if (root.Bokeh !== undefined) {\n",
       "        clearInterval(timer);\n",
       "        embed_document(root);\n",
       "      } else {\n",
       "        attempts++;\n",
       "        if (attempts > 100) {\n",
       "          clearInterval(timer);\n",
       "          console.log(\"Bokeh: ERROR: Unable to run BokehJS code because BokehJS library is missing\");\n",
       "        }\n",
       "      }\n",
       "    }, 10, root)\n",
       "  }\n",
       "})(window);"
      ],
      "application/vnd.bokehjs_exec.v0+json": ""
     },
     "metadata": {
      "application/vnd.bokehjs_exec.v0+json": {
       "id": "8089"
      }
     },
     "output_type": "display_data"
    },
    {
     "data": {
      "text/html": [
       "\n",
       "\n",
       "\n",
       "\n",
       "\n",
       "\n",
       "  <div class=\"bk-root\" id=\"7ba1bdd5-9fbe-4d54-858d-c9db40dcb9fc\" data-root-id=\"8475\"></div>\n"
      ]
     },
     "metadata": {},
     "output_type": "display_data"
    },
    {
     "data": {
      "application/javascript": [
       "(function(root) {\n",
       "  function embed_document(root) {\n",
       "    \n",
       "  var docs_json = {\"334edeac-d1ae-49f6-bae8-3a730be4c8a4\":{\"defs\":[{\"extends\":null,\"module\":null,\"name\":\"DataModel\",\"overrides\":[],\"properties\":[]}],\"roots\":{\"references\":[{\"attributes\":{\"above\":[{\"id\":\"8494\"}],\"left\":[{\"id\":\"8497\"}],\"renderers\":[{\"id\":\"8492\"}],\"title\":{\"id\":\"8732\"},\"toolbar\":{\"id\":\"8484\"},\"x_range\":{\"id\":\"8476\"},\"x_scale\":{\"id\":\"8480\"},\"y_range\":{\"id\":\"8478\"},\"y_scale\":{\"id\":\"8482\"}},\"id\":\"8475\",\"subtype\":\"Figure\",\"type\":\"Plot\"},{\"attributes\":{},\"id\":\"8736\",\"type\":\"AllLabels\"},{\"attributes\":{\"palette\":[\"#000000\",\"#252525\",\"#525252\",\"#737373\",\"#969696\",\"#bdbdbd\",\"#d9d9d9\",\"#f0f0f0\",\"#ffffff\"]},\"id\":\"8490\",\"type\":\"LinearColorMapper\"},{\"attributes\":{},\"id\":\"8482\",\"type\":\"LinearScale\"},{\"attributes\":{\"ticks\":[0.5,1.5,2.5,3.5,4.5,5.5,6.5,7.5,8.5,9.5,10.5,11.5,12.5,13.5,14.5,15.5,16.5,17.5,18.5,19.5,20.5,21.5,22.5]},\"id\":\"8495\",\"type\":\"FixedTicker\"},{\"attributes\":{\"ticks\":[0.5,1.5,2.5,3.5,4.5,5.5,6.5,7.5,8.5,9.5,10.5,11.5,12.5,13.5,14.5,15.5,16.5,17.5,18.5]},\"id\":\"8498\",\"type\":\"FixedTicker\"},{\"attributes\":{\"palette\":[\"#000000\",\"#252525\",\"#525252\",\"#737373\",\"#969696\",\"#bdbdbd\",\"#d9d9d9\",\"#f0f0f0\",\"#ffffff\"]},\"id\":\"8487\",\"type\":\"LinearColorMapper\"},{\"attributes\":{\"active_multi\":null},\"id\":\"8484\",\"type\":\"Toolbar\"},{\"attributes\":{\"source\":{\"id\":\"8485\"}},\"id\":\"8493\",\"type\":\"CDSView\"},{\"attributes\":{},\"id\":\"8738\",\"type\":\"UnionRenderers\"},{\"attributes\":{},\"id\":\"8734\",\"type\":\"AllLabels\"},{\"attributes\":{},\"id\":\"8737\",\"type\":\"BasicTickFormatter\"},{\"attributes\":{\"color_mapper\":{\"id\":\"8487\"},\"dh\":{\"value\":19},\"dw\":{\"value\":23},\"image\":{\"field\":\"image\"},\"x\":{\"value\":0},\"y\":{\"value\":0}},\"id\":\"8486\",\"type\":\"Image\"},{\"attributes\":{\"end\":23},\"id\":\"8476\",\"type\":\"Range1d\"},{\"attributes\":{\"end\":19},\"id\":\"8478\",\"type\":\"Range1d\"},{\"attributes\":{\"axis_label\":\"translation tokens\",\"formatter\":{\"id\":\"8735\"},\"major_label_overrides\":{\"0.5\":\"_EOS_\",\"1.5\":\".\",\"10.5\":\"located\",\"11.5\":\"is\",\"12.5\":\"square\",\"13.5\":\"red\",\"14.5\":\"ro@@\",\"15.5\":\"mo@@\",\"16.5\":\"i@@\",\"17.5\":\"mo@@\",\"18.5\":\"_BOS_\",\"2.5\":\"opera\",\"3.5\":\"the\",\"4.5\":\"from\",\"5.5\":\"metres\",\"6.5\":\"200\",\"7.5\":\",\",\"8.5\":\"moscow\",\"9.5\":\"in\"},\"major_label_policy\":{\"id\":\"8734\"},\"ticker\":{\"id\":\"8498\"}},\"id\":\"8497\",\"type\":\"LinearAxis\"},{\"attributes\":{\"color_mapper\":{\"id\":\"8490\"},\"dh\":{\"value\":19},\"dw\":{\"value\":23},\"global_alpha\":0.1,\"image\":{\"field\":\"image\"},\"x\":{\"value\":0},\"y\":{\"value\":0}},\"id\":\"8489\",\"type\":\"Image\"},{\"attributes\":{},\"id\":\"8732\",\"type\":\"Title\"},{\"attributes\":{\"axis_label\":\"source tokens\",\"formatter\":{\"id\":\"8737\"},\"major_label_orientation\":45,\"major_label_overrides\":{\"0.5\":\"_BOS_\",\"1.5\":\"\\u0430\\u043f\\u0430\\u0440\\u0442\\u0430\\u043c\\u0435\\u043d\\u0442\\u044b\",\"10.5\":\"square\",\"11.5\":\"\\u043d\\u0430\\u0445\\u043e\\u0434\\u044f\\u0442\\u0441\\u044f\",\"12.5\":\"\\u0432\",\"13.5\":\"\\u043c\\u043e\\u0441\\u043a\\u0432\\u0435\",\"14.5\":\",\",\"15.5\":\"\\u0432\",\"16.5\":\"200\",\"17.5\":\"\\u043c\\u0435\\u0442\\u0440\\u0430\\u0445\",\"18.5\":\"\\u043e\\u0442\",\"19.5\":\"\\u0431\\u043e\\u043b\\u044c\\u0448\\u043e\\u0433\\u043e\",\"2.5\":\"mo@@\",\"20.5\":\"\\u0442\\u0435\\u0430\\u0442\\u0440\\u0430\",\"21.5\":\".\",\"22.5\":\"_EOS_\",\"3.5\":\"s@@\",\"4.5\":\"co@@\",\"5.5\":\"w\",\"6.5\":\"point\",\"7.5\":\"-\",\"8.5\":\"loft\",\"9.5\":\"red\"},\"major_label_policy\":{\"id\":\"8736\"},\"ticker\":{\"id\":\"8495\"}},\"id\":\"8494\",\"type\":\"LinearAxis\"},{\"attributes\":{},\"id\":\"8735\",\"type\":\"BasicTickFormatter\"},{\"attributes\":{},\"id\":\"8480\",\"type\":\"LinearScale\"},{\"attributes\":{\"data_source\":{\"id\":\"8485\"},\"glyph\":{\"id\":\"8486\"},\"hover_glyph\":null,\"muted_glyph\":null,\"nonselection_glyph\":{\"id\":\"8489\"},\"view\":{\"id\":\"8493\"}},\"id\":\"8492\",\"type\":\"GlyphRenderer\"},{\"attributes\":{\"data\":{\"image\":[{\"__ndarray__\":\"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\",\"dtype\":\"float32\",\"order\":\"little\",\"shape\":[19,23]}]},\"selected\":{\"id\":\"8739\"},\"selection_policy\":{\"id\":\"8738\"}},\"id\":\"8485\",\"type\":\"ColumnDataSource\"},{\"attributes\":{},\"id\":\"8739\",\"type\":\"Selection\"}],\"root_ids\":[\"8475\"]},\"title\":\"Bokeh Application\",\"version\":\"2.3.0\"}};\n",
       "  var render_items = [{\"docid\":\"334edeac-d1ae-49f6-bae8-3a730be4c8a4\",\"root_ids\":[\"8475\"],\"roots\":{\"8475\":\"7ba1bdd5-9fbe-4d54-858d-c9db40dcb9fc\"}}];\n",
       "  root.Bokeh.embed.embed_items_notebook(docs_json, render_items);\n",
       "\n",
       "  }\n",
       "  if (root.Bokeh !== undefined) {\n",
       "    embed_document(root);\n",
       "  } else {\n",
       "    var attempts = 0;\n",
       "    var timer = setInterval(function(root) {\n",
       "      if (root.Bokeh !== undefined) {\n",
       "        clearInterval(timer);\n",
       "        embed_document(root);\n",
       "      } else {\n",
       "        attempts++;\n",
       "        if (attempts > 100) {\n",
       "          clearInterval(timer);\n",
       "          console.log(\"Bokeh: ERROR: Unable to run BokehJS code because BokehJS library is missing\");\n",
       "        }\n",
       "      }\n",
       "    }, 10, root)\n",
       "  }\n",
       "})(window);"
      ],
      "application/vnd.bokehjs_exec.v0+json": ""
     },
     "metadata": {
      "application/vnd.bokehjs_exec.v0+json": {
       "id": "8475"
      }
     },
     "output_type": "display_data"
    }
   ],
   "source": [
    "for i in range(5):\n",
    "    draw_attention(inp[i], trans[i], attention_probs[i])\n",
    "    \n",
    "# Does it look fine already? don't forget to save images for anytask!"
   ]
  },
  {
   "cell_type": "markdown",
   "metadata": {},
   "source": [
    "__Note 1:__ If the attention maps are not iterpretable, try starting encoder from zeros (instead of dec_start), forcing model to use attention.\n",
    "\n",
    "__Note 2:__ If you're studying this course as a YSDA student, please submit __attention screenshots__ alongside your notebook."
   ]
  },
  {
   "cell_type": "markdown",
   "metadata": {
    "colab_type": "text",
    "id": "pbIIngNVlrtt"
   },
   "source": [
    "## Goind deeper (2++ points each)\n",
    "\n",
    "We want you to find the best model for the task. Use everything you know.\n",
    "\n",
    "* different recurrent units: rnn/gru/lstm; deeper architectures\n",
    "* bidirectional encoder, different attention methods for decoder (additive, dot-product, multi-head)\n",
    "* word dropout, training schedules, anything you can imagine\n",
    "* replace greedy inference with beam search\n",
    "\n",
    "For a better grasp of seq2seq We recommend you to conduct at least one experiment from one of the bullet-points or your alternative ideas. As usual, describe what you tried and what results you obtained in a short report."
   ]
  },
  {
   "cell_type": "markdown",
   "metadata": {
    "colab_type": "text",
    "collapsed": true,
    "id": "2rzAj_xtlrtt"
   },
   "source": [
    "`[your report/log here or anywhere you please]`"
   ]
  }
 ],
 "metadata": {
  "accelerator": "GPU",
  "colab": {
   "collapsed_sections": [
    "edk_oVg0lrtW"
   ],
   "name": "practice.ipynb",
   "provenance": []
  },
  "kernelspec": {
   "display_name": "Python 3",
   "language": "python",
   "name": "python3"
  },
  "language_info": {
   "codemirror_mode": {
    "name": "ipython",
    "version": 3
   },
   "file_extension": ".py",
   "mimetype": "text/x-python",
   "name": "python",
   "nbconvert_exporter": "python",
   "pygments_lexer": "ipython3",
   "version": "3.7.9"
  }
 },
 "nbformat": 4,
 "nbformat_minor": 1
}
