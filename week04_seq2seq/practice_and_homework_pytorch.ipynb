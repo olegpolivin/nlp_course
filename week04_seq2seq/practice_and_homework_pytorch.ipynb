{
 "cells": [
  {
   "cell_type": "markdown",
   "metadata": {
    "colab_type": "text",
    "id": "HmsFABwClrsS"
   },
   "source": [
    "## Seminar and homework (10 points total)\n",
    "\n",
    "Today we shall compose encoder-decoder neural networks and apply them to the task of machine translation.\n",
    "\n",
    "![img](https://esciencegroup.files.wordpress.com/2016/03/seq2seq.jpg)\n",
    "_(img: esciencegroup.files.wordpress.com)_\n",
    "\n",
    "\n",
    "Encoder-decoder architectures are about converting anything to anything, including\n",
    " * Machine translation and spoken dialogue systems\n",
    " * [Image captioning](http://mscoco.org/dataset/#captions-challenge2015) and [image2latex](https://openai.com/requests-for-research/#im2latex) (convolutional encoder, recurrent decoder)\n",
    " * Generating [images by captions](https://arxiv.org/abs/1511.02793) (recurrent encoder, convolutional decoder)\n",
    " * Grapheme2phoneme - convert words to transcripts"
   ]
  },
  {
   "cell_type": "markdown",
   "metadata": {
    "colab_type": "text",
    "id": "R4N9AD2dlrsU"
   },
   "source": [
    "## Our task: machine translation\n",
    "\n",
    "We gonna try our encoder-decoder models on russian to english machine translation problem. More specifically, we'll translate hotel and hostel descriptions. This task shows the scale of machine translation while not requiring you to train your model for weeks if you don't use GPU.\n",
    "\n",
    "Before we get to the architecture, there's some preprocessing to be done. ~~Go tokenize~~ Alright, this time we've done preprocessing for you. As usual, the data will be tokenized with WordPunctTokenizer.\n",
    "\n",
    "However, there's one more thing to do. Our data lines contain unique rare words. If we operate on a word level, we will have to deal with large vocabulary size. If instead we use character-level models, it would take lots of iterations to process a sequence. This time we're gonna pick something inbetween.\n",
    "\n",
    "One popular approach is called [Byte Pair Encoding](https://github.com/rsennrich/subword-nmt) aka __BPE__. The algorithm starts with a character-level tokenization and then iteratively merges most frequent pairs for N iterations. This results in frequent words being merged into a single token and rare words split into syllables or even characters.\n",
    "\n"
   ]
  },
  {
   "cell_type": "code",
   "execution_count": 1,
   "metadata": {
    "colab": {},
    "colab_type": "code",
    "id": "CfvojjHQlrsU"
   },
   "outputs": [],
   "source": [
    "# !pip3 install torch>=1.3.0\n",
    "# !pip3 install subword-nmt &> log\n",
    "# !wget https://www.dropbox.com/s/yy2zqh34dyhv07i/data.txt?dl=1 -O data.txt\n",
    "# !wget https://raw.githubusercontent.com/yandexdataschool/nlp_course/2020/week04_seq2seq/vocab.py -O vocab.py\n",
    "# thanks to tilda and deephack teams for the data, Dmitry Emelyanenko for the code :)"
   ]
  },
  {
   "cell_type": "code",
   "execution_count": 2,
   "metadata": {
    "colab": {},
    "colab_type": "code",
    "id": "g9kP0SdxlrsY"
   },
   "outputs": [],
   "source": [
    "from nltk.tokenize import WordPunctTokenizer\n",
    "from subword_nmt.learn_bpe import learn_bpe\n",
    "from subword_nmt.apply_bpe import BPE\n",
    "tokenizer = WordPunctTokenizer()\n",
    "def tokenize(x):\n",
    "    return ' '.join(tokenizer.tokenize(x.lower()))\n",
    "\n",
    "# split and tokenize the data\n",
    "with open('train.en', 'w') as f_src,  open('train.ru', 'w') as f_dst:\n",
    "    for line in open('data.txt'):\n",
    "        src_line, dst_line = line.strip().split('\\t')\n",
    "        f_src.write(tokenize(src_line) + '\\n')\n",
    "        f_dst.write(tokenize(dst_line) + '\\n')\n",
    "\n",
    "# build and apply bpe vocs\n",
    "bpe = {}\n",
    "for lang in ['en', 'ru']:\n",
    "    learn_bpe(open('./train.' + lang), open('bpe_rules.' + lang, 'w'), num_symbols=8000)\n",
    "    bpe[lang] = BPE(open('./bpe_rules.' + lang))\n",
    "    \n",
    "    with open('train.bpe.' + lang, 'w') as f_out:\n",
    "        for line in open('train.' + lang):\n",
    "            f_out.write(bpe[lang].process_line(line.strip()) + '\\n')"
   ]
  },
  {
   "cell_type": "markdown",
   "metadata": {
    "colab_type": "text",
    "id": "0UPW3sV8lrsb"
   },
   "source": [
    "### Building vocabularies\n",
    "\n",
    "We now need to build vocabularies that map strings to token ids and vice versa. We're gonna need these fellas when we feed training data into model or convert output matrices into words."
   ]
  },
  {
   "cell_type": "code",
   "execution_count": 3,
   "metadata": {
    "colab": {},
    "colab_type": "code",
    "id": "CmTy_m_olrsb"
   },
   "outputs": [],
   "source": [
    "import numpy as np\n",
    "import matplotlib.pyplot as plt\n",
    "%matplotlib inline"
   ]
  },
  {
   "cell_type": "code",
   "execution_count": 4,
   "metadata": {
    "colab": {},
    "colab_type": "code",
    "id": "8PskgBSxlrsd"
   },
   "outputs": [
    {
     "name": "stdout",
     "output_type": "stream",
     "text": [
      "inp: на территории обустроена бесплатная частная парковка .\n",
      "out: free private parking is available on site .\n",
      "\n",
      "inp: кроме того , в 5 минутах ходьбы работают многочисленные бары и рестораны .\n",
      "out: guests can find many bars and restaurants within a 5 - minute walk .\n",
      "\n",
      "inp: отель san mi@@ gu@@ el расположен в центре мор@@ ели@@ и , в 750 метрах от главной площади города и кафедрального собора .\n",
      "out: hotel san miguel is located in central more@@ lia , 750 metres from the city ’ s main square and cathedral .\n",
      "\n"
     ]
    }
   ],
   "source": [
    "data_inp = np.array(open('./train.bpe.ru').read().split('\\n'))\n",
    "data_out = np.array(open('./train.bpe.en').read().split('\\n'))\n",
    "\n",
    "from sklearn.model_selection import train_test_split\n",
    "train_inp, dev_inp, train_out, dev_out = train_test_split(data_inp, data_out, test_size=3000,\n",
    "                                                          random_state=42)\n",
    "for i in range(3):\n",
    "    print('inp:', train_inp[i])\n",
    "    print('out:', train_out[i], end='\\n\\n')"
   ]
  },
  {
   "cell_type": "code",
   "execution_count": 5,
   "metadata": {
    "colab": {},
    "colab_type": "code",
    "id": "vipg4O61lrsg"
   },
   "outputs": [],
   "source": [
    "from vocab import Vocab\n",
    "inp_voc = Vocab.from_lines(train_inp)\n",
    "out_voc = Vocab.from_lines(train_out)"
   ]
  },
  {
   "cell_type": "code",
   "execution_count": 6,
   "metadata": {
    "colab": {},
    "colab_type": "code",
    "id": "cwOoHfuhlrsi"
   },
   "outputs": [
    {
     "name": "stdout",
     "output_type": "stream",
     "text": [
      "lines\n",
      "['гостевой дом r .', 'до афин — 20 км .', 'работает боулинг .', 'оборудован балкон .', 'подключен wi - fi .']\n",
      "\n",
      "words to ids (0 = bos, 1 = eos):\n",
      "tensor([[   0, 2688, 2943, 1108,   29,    1,    1,    1],\n",
      "        [   0, 2922, 1834, 8035,   59, 3800,   29,    1],\n",
      "        [   0, 6030, 2083,   29,    1,    1,    1,    1],\n",
      "        [   0, 4927, 1870,   29,    1,    1,    1,    1],\n",
      "        [   0, 5549, 1453,   27,  592,   29,    1,    1]])\n",
      "\n",
      "back to words\n",
      "['гостевой дом r .', 'до афин — 20 км .', 'работает боулинг .', 'оборудован балкон .', 'подключен wi - fi .']\n"
     ]
    }
   ],
   "source": [
    "# Here's how you cast lines into ids and backwards.\n",
    "batch_lines = sorted(train_inp, key=len)[5:10]\n",
    "batch_ids = inp_voc.to_matrix(batch_lines)\n",
    "batch_lines_restored = inp_voc.to_lines(batch_ids)\n",
    "\n",
    "print(\"lines\")\n",
    "print(batch_lines)\n",
    "print(\"\\nwords to ids (0 = bos, 1 = eos):\")\n",
    "print(batch_ids)\n",
    "print(\"\\nback to words\")\n",
    "print(batch_lines_restored)"
   ]
  },
  {
   "cell_type": "markdown",
   "metadata": {
    "colab_type": "text",
    "id": "gSYu-MkElrsk"
   },
   "source": [
    "Draw source and translation length distributions to estimate the scope of the task."
   ]
  },
  {
   "cell_type": "code",
   "execution_count": 7,
   "metadata": {
    "colab": {},
    "colab_type": "code",
    "id": "TLLl9cSNlrsl"
   },
   "outputs": [
    {
     "data": {
      "image/png": "[encoded data removed]",
      "text/plain": [
       "<Figure size 576x288 with 2 Axes>"
      ]
     },
     "metadata": {
      "needs_background": "light"
     },
     "output_type": "display_data"
    }
   ],
   "source": [
    "plt.figure(figsize=[8, 4])\n",
    "plt.subplot(1, 2, 1)\n",
    "plt.title(\"source length\")\n",
    "plt.hist(list(map(len, map(str.split, train_inp))), bins=20);\n",
    "\n",
    "plt.subplot(1, 2, 2)\n",
    "plt.title(\"translation length\")\n",
    "plt.hist(list(map(len, map(str.split, train_out))), bins=20);"
   ]
  },
  {
   "cell_type": "markdown",
   "metadata": {
    "colab_type": "text",
    "id": "BHWgx34flrsn"
   },
   "source": [
    "### Encoder-decoder model\n",
    "\n",
    "The code below contains a template for a simple encoder-decoder model: single GRU encoder/decoder, no attention or anything. This model is implemented for you as a reference and a baseline for your homework assignment."
   ]
  },
  {
   "cell_type": "code",
   "execution_count": 8,
   "metadata": {
    "colab": {},
    "colab_type": "code",
    "id": "pd_rDRm9lrso"
   },
   "outputs": [],
   "source": [
    "import torch\n",
    "import torch.nn as nn\n",
    "import torch.nn.functional as F\n",
    "device = 'cuda' if torch.cuda.is_available() else 'cpu'"
   ]
  },
  {
   "cell_type": "code",
   "execution_count": 9,
   "metadata": {
    "colab": {},
    "colab_type": "code",
    "id": "wgfN5-F7lrst"
   },
   "outputs": [],
   "source": [
    "class BasicModel(nn.Module):\n",
    "    def __init__(self, inp_voc, out_voc, emb_size=64, hid_size=128):\n",
    "        \"\"\"\n",
    "        A simple encoder-decoder seq2seq model\n",
    "        \"\"\"\n",
    "        super().__init__() # initialize base class to track sub-layers, parameters, etc.\n",
    "\n",
    "        self.inp_voc, self.out_voc = inp_voc, out_voc\n",
    "        self.hid_size = hid_size\n",
    "        \n",
    "        self.emb_inp = nn.Embedding(len(inp_voc), emb_size)\n",
    "        self.emb_out = nn.Embedding(len(out_voc), emb_size)\n",
    "        self.enc0 = nn.GRU(emb_size, hid_size, batch_first=True)\n",
    "\n",
    "        self.dec_start = nn.Linear(hid_size, hid_size)\n",
    "        self.dec0 = nn.GRUCell(emb_size, hid_size)\n",
    "        self.logits = nn.Linear(hid_size, len(out_voc))\n",
    "        \n",
    "    def forward(self, inp, out):\n",
    "        \"\"\" Apply model in training mode \"\"\"\n",
    "        initial_state = self.encode(inp)\n",
    "        return self.decode(initial_state, out)\n",
    "\n",
    "\n",
    "    def encode(self, inp, **flags):\n",
    "        \"\"\"\n",
    "        Takes symbolic input sequence, computes initial state\n",
    "        :param inp: matrix of input tokens [batch, time]\n",
    "        :returns: initial decoder state tensors, one or many\n",
    "        \"\"\"\n",
    "        inp_emb = self.emb_inp(inp)\n",
    "        batch_size = inp.shape[0]\n",
    "        \n",
    "        enc_seq, [last_state_but_not_really] = self.enc0(inp_emb)\n",
    "        # enc_seq: [batch, time, hid_size], last_state: [batch, hid_size]\n",
    "        \n",
    "        # note: last_state is not _actually_ last because of padding, let's find the real last_state\n",
    "        lengths = (inp != self.inp_voc.eos_ix).to(torch.int64).sum(dim=1).clamp_max(inp.shape[1] - 1)\n",
    "        last_state = enc_seq[torch.arange(len(enc_seq)), lengths]\n",
    "        # ^-- shape: [batch_size, hid_size]\n",
    "        \n",
    "        dec_start = self.dec_start(last_state)\n",
    "        return [dec_start]\n",
    "\n",
    "    def decode_step(self, prev_state, prev_tokens, **flags):\n",
    "        \"\"\"\n",
    "        Takes previous decoder state and tokens, returns new state and logits for next tokens\n",
    "        :param prev_state: a list of previous decoder state tensors, same as returned by encode(...)\n",
    "        :param prev_tokens: previous output tokens, an int vector of [batch_size]\n",
    "        :return: a list of next decoder state tensors, a tensor of logits [batch, len(out_voc)]\n",
    "        \"\"\"\n",
    "        prev_gru0_state = prev_state[0]\n",
    "        out_emb = self.emb_out(prev_tokens)\n",
    "        new_dec_state = self.dec0(out_emb, prev_gru0_state)\n",
    "        output_logits = self.logits(new_dec_state)\n",
    "        return [new_dec_state], output_logits\n",
    "\n",
    "    def decode(self, initial_state, out_tokens, **flags):\n",
    "        \"\"\" Iterate over reference tokens (out_tokens) with decode_step \"\"\"\n",
    "        batch_size = out_tokens.shape[0]\n",
    "        state = initial_state\n",
    "        \n",
    "        # initial logits: always predict BOS\n",
    "        onehot_bos = F.one_hot(torch.full([batch_size], self.out_voc.bos_ix, dtype=torch.int64),\n",
    "                               num_classes=len(self.out_voc)).to(device=out_tokens.device)\n",
    "        first_logits = torch.log(onehot_bos.to(torch.float32) + 1e-9)\n",
    "        \n",
    "        logits_sequence = [first_logits]\n",
    "        for i in range(out_tokens.shape[1] - 1):\n",
    "            state, logits = self.decode_step(state, out_tokens[:, i])\n",
    "            logits_sequence.append(logits)\n",
    "        return torch.stack(logits_sequence, dim=1)\n",
    "\n",
    "    def decode_inference(self, initial_state, max_len=100, **flags):\n",
    "        \"\"\" Generate translations from model (greedy version) \"\"\"\n",
    "        batch_size, device = len(initial_state[0]), initial_state[0].device\n",
    "        state = initial_state\n",
    "        outputs = [torch.full([batch_size], self.out_voc.bos_ix, dtype=torch.int64, \n",
    "                              device=device)]\n",
    "        all_states = [initial_state]\n",
    "\n",
    "        for i in range(max_len):\n",
    "            state, logits = self.decode_step(state, outputs[-1])\n",
    "            outputs.append(logits.argmax(dim=-1))\n",
    "            all_states.append(state)\n",
    "        \n",
    "        return torch.stack(outputs, dim=1), all_states\n",
    "\n",
    "    def translate_lines(self, inp_lines, **kwargs):\n",
    "        inp = self.inp_voc.to_matrix(inp_lines).to(device)\n",
    "        initial_state = self.encode(inp)\n",
    "        out_ids, states = self.decode_inference(initial_state, **kwargs)\n",
    "        return self.out_voc.to_lines(out_ids.cpu().numpy()), states\n"
   ]
  },
  {
   "cell_type": "code",
   "execution_count": 10,
   "metadata": {},
   "outputs": [],
   "source": [
    "# debugging area\n",
    "model = BasicModel(inp_voc, out_voc).to(device)\n",
    "\n",
    "dummy_inp_tokens = inp_voc.to_matrix(sorted(train_inp, key=len)[5:10]).to(device)\n",
    "dummy_out_tokens = out_voc.to_matrix(sorted(train_out, key=len)[5:10]).to(device)\n",
    "\n",
    "h0 = model.encode(dummy_inp_tokens)\n",
    "h1, logits1 = model.decode_step(h0, torch.arange(len(dummy_inp_tokens), device=device))\n",
    "\n",
    "assert isinstance(h1, list) and len(h1) == len(h0)\n",
    "assert h1[0].shape == h0[0].shape and not torch.allclose(h1[0], h0[0])\n",
    "assert logits1.shape == (len(dummy_inp_tokens), len(out_voc))\n",
    "\n",
    "logits_seq = model.decode(h0, dummy_out_tokens)\n",
    "assert logits_seq.shape == (dummy_out_tokens.shape[0], dummy_out_tokens.shape[1], len(out_voc))\n",
    "\n",
    "# full forward\n",
    "logits_seq2 = model(dummy_inp_tokens, dummy_out_tokens)\n",
    "assert logits_seq2.shape == logits_seq.shape"
   ]
  },
  {
   "cell_type": "code",
   "execution_count": 11,
   "metadata": {},
   "outputs": [
    {
     "name": "stdout",
     "output_type": "stream",
     "text": [
      "Translations without training:\n",
      "ias nit@@ ata vegetables vegetables federico connects incheon vacan@@ dal privately ù nairobi canc@@ kiev w@@ fisherman ceylon certain kru@@ rice resid@@ pac@@ mann@@ slippers\n",
      "ias nit@@ ata vegetables vegetables federico connects 38 naut@@ ny@@ carav@@ ė oce@@ ana washer cu@@ trav@@ inclu@@ hungarian inclu@@ hungarian eat@@ roof@@ square fab@@\n",
      "ias nit@@ ata vegetables vegetables federico connects 38 naut@@ ny@@ carav@@ ė oce@@ ana washer cu@@ trav@@ inclu@@ hungarian inclu@@ hungarian eat@@ roof@@ square fab@@\n"
     ]
    }
   ],
   "source": [
    "dummy_translations, dummy_states = model.translate_lines(train_inp[:3], max_len=25)\n",
    "print(\"Translations without training:\")\n",
    "print('\\n'.join([line for line in dummy_translations]))"
   ]
  },
  {
   "cell_type": "markdown",
   "metadata": {
    "colab_type": "text",
    "id": "_wuv1-aVlrs0"
   },
   "source": [
    "### Training loss (2 points)\n",
    "\n",
    "Our training objective is almost the same as it was for neural language models:\n",
    "$$ L = {\\frac1{|D|}} \\sum_{X, Y \\in D} \\sum_{y_t \\in Y} - \\log p(y_t \\mid y_1, \\dots, y_{t-1}, X, \\theta) $$\n",
    "\n",
    "where $|D|$ is the __total length of all sequences__, including BOS and first EOS, but excluding PAD."
   ]
  },
  {
   "cell_type": "code",
   "execution_count": 12,
   "metadata": {
    "colab": {},
    "colab_type": "code",
    "id": "c8XPV8sWlrs5",
    "scrolled": true
   },
   "outputs": [],
   "source": [
    "def compute_loss(model, inp, out, **flags):\n",
    "    \"\"\"\n",
    "    Compute loss (float32 scalar) as in the formula above\n",
    "    :param inp: input tokens matrix, int32[batch, time]\n",
    "    :param out: reference tokens matrix, int32[batch, time]\n",
    "    \n",
    "    In order to pass the tests, your function should\n",
    "    * include loss at first EOS but not the subsequent ones\n",
    "    * divide sum of losses by a sum of input lengths (use voc.compute_mask)\n",
    "    \"\"\"\n",
    "    mask = model.out_voc.compute_mask(out) # [batch_size, out_len]\n",
    "    targets_1hot = F.one_hot(out, len(model.out_voc)).to(torch.float32)\n",
    "    \n",
    "    # outputs of the model, [batch_size, out_len, num_tokens]\n",
    "    logits_seq =  model(inp, out)\n",
    "\n",
    "    # log-probabilities of all tokens at all steps, [batch_size, out_len, num_tokens]\n",
    "    softmax = F.softmax(logits_seq, dim=2)\n",
    "    logprobs_seq = torch.log(softmax)\n",
    "   \n",
    "    # log-probabilities of correct outputs, [batch_size, out_len]\n",
    "    logp_out = (logprobs_seq * targets_1hot).sum(dim=-1)*mask\n",
    "    # ^-- this will select the probability of the actual next token.\n",
    "    # Note: you can compute loss more efficiently using using F.cross_entropy\n",
    "\n",
    "    # average cross-entropy over tokens where mask == True\n",
    "    return -torch.sum(logp_out)/torch.sum(mask) # average loss, scalar"
   ]
  },
  {
   "cell_type": "code",
   "execution_count": 13,
   "metadata": {
    "colab": {},
    "colab_type": "code",
    "id": "ME_LWUeklrs7"
   },
   "outputs": [
    {
     "name": "stdout",
     "output_type": "stream",
     "text": [
      "Loss: tensor(7.5521, device='cuda:0', grad_fn=<DivBackward0>)\n"
     ]
    }
   ],
   "source": [
    "dummy_loss = compute_loss(model, dummy_inp_tokens, dummy_out_tokens)\n",
    "print(\"Loss:\", dummy_loss)\n",
    "assert np.allclose(dummy_loss.item(), 7.5, rtol=0.1, atol=0.1), \"We're sorry for your loss\"\n",
    "\n",
    "# test autograd\n",
    "dummy_loss.backward()\n",
    "for name, param in model.named_parameters():\n",
    "    assert param.grad is not None and abs(param.grad.max()) != 0, f\"Param {name} received no gradients\""
   ]
  },
  {
   "cell_type": "markdown",
   "metadata": {
    "colab_type": "text",
    "id": "HpbaBpW7lrs-"
   },
   "source": [
    "### Evaluation: BLEU\n",
    "\n",
    "Machine translation is commonly evaluated with [BLEU](https://en.wikipedia.org/wiki/BLEU) score. This metric simply computes which fraction of predicted n-grams is actually present in the reference translation. It does so for n=1,2,3 and 4 and computes the geometric average with penalty if translation is shorter than reference.\n",
    "\n",
    "While BLEU [has many drawbacks](http://www.cs.jhu.edu/~ccb/publications/re-evaluating-the-role-of-bleu-in-mt-research.pdf), it still remains the most commonly used metric and one of the simplest to compute."
   ]
  },
  {
   "cell_type": "code",
   "execution_count": 14,
   "metadata": {
    "colab": {},
    "colab_type": "code",
    "id": "Gb1-PhKIlrs-"
   },
   "outputs": [],
   "source": [
    "from nltk.translate.bleu_score import corpus_bleu\n",
    "def compute_bleu(model, inp_lines, out_lines, bpe_sep='@@ ', **flags):\n",
    "    \"\"\"\n",
    "    Estimates corpora-level BLEU score of model's translations given inp and reference out\n",
    "    Note: if you're serious about reporting your results, use https://pypi.org/project/sacrebleu\n",
    "    \"\"\"\n",
    "    with torch.no_grad():\n",
    "        translations, _ = model.translate_lines(inp_lines, **flags)\n",
    "        translations = [line.replace(bpe_sep, '') for line in translations] \n",
    "        return corpus_bleu(\n",
    "            [[ref.split()] for ref in out_lines],\n",
    "            [trans.split() for trans in translations],\n",
    "            smoothing_function=lambda precisions, **kw: [p + 1.0 / p.denominator for p in precisions]\n",
    "            ) * 100"
   ]
  },
  {
   "cell_type": "code",
   "execution_count": 15,
   "metadata": {
    "colab": {},
    "colab_type": "code",
    "id": "gZvfid1RlrtA"
   },
   "outputs": [
    {
     "data": {
      "text/plain": [
       "0.0019046056593413478"
      ]
     },
     "execution_count": 15,
     "metadata": {},
     "output_type": "execute_result"
    }
   ],
   "source": [
    "compute_bleu(model, dev_inp, dev_out)"
   ]
  },
  {
   "cell_type": "markdown",
   "metadata": {
    "colab_type": "text",
    "id": "nQDhGwg4lrtC"
   },
   "source": [
    "### Training loop\n",
    "\n",
    "Training encoder-decoder models isn't that different from any other models: sample batches, compute loss, backprop and update"
   ]
  },
  {
   "cell_type": "code",
   "execution_count": 16,
   "metadata": {
    "colab": {},
    "colab_type": "code",
    "id": "yfwIaixHlrtI",
    "scrolled": false
   },
   "outputs": [],
   "source": [
    "from IPython.display import clear_output\n",
    "from tqdm import tqdm, trange\n",
    "metrics = {'train_loss': [], 'dev_bleu': [] }\n",
    "\n",
    "model = BasicModel(inp_voc, out_voc).to(device)\n",
    "opt = torch.optim.Adam(model.parameters(), lr=1e-3)\n",
    "batch_size = 32"
   ]
  },
  {
   "cell_type": "code",
   "execution_count": 17,
   "metadata": {
    "colab": {},
    "colab_type": "code",
    "id": "LlDT6eDUlrtL",
    "scrolled": true
   },
   "outputs": [
    {
     "data": {
      "image/png": "[encoded data removed]",
      "text/plain": [
       "<Figure size 864x288 with 2 Axes>"
      ]
     },
     "metadata": {
      "needs_background": "light"
     },
     "output_type": "display_data"
    },
    {
     "name": "stdout",
     "output_type": "stream",
     "text": [
      "Mean loss=1.701\n"
     ]
    },
    {
     "name": "stderr",
     "output_type": "stream",
     "text": [
      "100%|██████████| 25000/25000 [19:47<00:00, 21.05it/s]\n"
     ]
    }
   ],
   "source": [
    "for _ in trange(25000):\n",
    "    step = len(metrics['train_loss']) + 1\n",
    "    batch_ix = np.random.randint(len(train_inp), size=batch_size)\n",
    "    batch_inp = inp_voc.to_matrix(train_inp[batch_ix]).to(device)\n",
    "    batch_out = out_voc.to_matrix(train_out[batch_ix]).to(device)\n",
    "    \n",
    "#     <YOUR CODE: training step using batch_inp and batch_out>\n",
    "    opt.zero_grad()\n",
    "    loss_t = compute_loss(model, batch_inp, batch_out)\n",
    "    \n",
    "    metrics['train_loss'].append((step, loss_t.item()))\n",
    "    \n",
    "    loss_t.backward()\n",
    "    opt.step()\n",
    " \n",
    "    \n",
    "    if step % 100 == 0:\n",
    "        metrics['dev_bleu'].append((step, compute_bleu(model, dev_inp, dev_out)))\n",
    "        \n",
    "        clear_output(True)\n",
    "        plt.figure(figsize=(12,4))\n",
    "        for i, (name, history) in enumerate(sorted(metrics.items())):\n",
    "            plt.subplot(1, len(metrics), i + 1)\n",
    "            plt.title(name)\n",
    "            plt.plot(*zip(*history))\n",
    "            plt.grid()\n",
    "        plt.show()\n",
    "        print(\"Mean loss=%.3f\" % np.mean(metrics['train_loss'][-10:], axis=0)[1], flush=True)\n",
    "        \n",
    "# Note: it's okay if bleu oscillates up and down as long as it gets better on average over long term (e.g. 5k batches)"
   ]
  },
  {
   "cell_type": "code",
   "execution_count": 18,
   "metadata": {
    "colab": {},
    "colab_type": "code",
    "id": "2ahuhKVhlrtP"
   },
   "outputs": [],
   "source": [
    "assert np.mean(metrics['dev_bleu'][-10:], axis=0)[1] > 15, \"We kind of need a higher bleu BLEU from you. Kind of right now.\""
   ]
  },
  {
   "cell_type": "code",
   "execution_count": 19,
   "metadata": {
    "colab": {},
    "colab_type": "code",
    "id": "KyaHOpealrtS"
   },
   "outputs": [
    {
     "name": "stdout",
     "output_type": "stream",
     "text": [
      "в распоряжении гостей общая кухня и общая гостиная .\n",
      "shared shared kitchen facilities and a shared kitchen are also available .\n",
      "\n",
      "кроме того , предоставляется прокат велосипедов , услуги трансфера и бесплатная парковка .\n",
      "the property offers free parking and car rental services .\n",
      "\n",
      "расстояние до города ки@@ сси@@ м@@ ми составляет 26 км .\n",
      "regional town is 18 km away .\n",
      "\n",
      "апартаменты в пент@@ хаусе с общим открытым бассейном , садом , кондиционером и террасой для загара расположены в 5 минутах ходьбы от пляжа на курорте ка@@ бо - рой .\n",
      "set in sanur , this apartment features a spa and a terrace with a swimming pool and a garden with a terrace .\n",
      "\n",
      "апартаменты mo@@ s@@ co@@ w point - loft red square находятся в москве , в 200 метрах от большого театра .\n",
      "the family - run hotel is 200 metres from the centre of the holy .\n",
      "\n",
      "в вашем распоряжении собственная ванная комната с душем и полотенцами .\n",
      "featuring a shower , private bathroom also comes with towels .\n",
      "\n"
     ]
    }
   ],
   "source": [
    "for inp_line, trans_line in zip(dev_inp[::500], model.translate_lines(dev_inp[::500])[0]):\n",
    "    print(inp_line)\n",
    "    print(trans_line)\n",
    "    print()"
   ]
  },
  {
   "cell_type": "markdown",
   "metadata": {
    "colab_type": "text",
    "id": "Tv0s8qxOXp5y"
   },
   "source": [
    "# Homework code templates will appear here soon!"
   ]
  },
  {
   "cell_type": "markdown",
   "metadata": {
    "colab_type": "text",
    "id": "edk_oVg0lrtW"
   },
   "source": [
    "### Your Attention Required\n",
    "\n",
    "In this section we want you to improve over the basic model by implementing a simple attention mechanism.\n",
    "\n",
    "This is gonna be a two-parter: building the __attention layer__ and using it for an __attentive seq2seq model__."
   ]
  },
  {
   "cell_type": "markdown",
   "metadata": {
    "colab_type": "text",
    "id": "Qz9aROAIlrtX"
   },
   "source": [
    "### Attention layer (3 points)\n",
    "\n",
    "Here you will have to implement a layer that computes a simple additive attention:\n",
    "\n",
    "Given encoder sequence $ h^e_0, h^e_1, h^e_2, ..., h^e_T$ and a single decoder state $h^d$,\n",
    "\n",
    "* Compute logits with a 2-layer neural network\n",
    "$$a_t = linear_{out}(tanh(linear_{e}(h^e_t) + linear_{d}(h_d)))$$\n",
    "* Get probabilities from logits, \n",
    "$$ p_t = {{e ^ {a_t}} \\over { \\sum_\\tau e^{a_\\tau} }} $$\n",
    "\n",
    "* Add up encoder states with probabilities to get __attention response__\n",
    "$$ attn = \\sum_t p_t \\cdot h^e_t $$\n",
    "\n",
    "You can learn more about attention layers in the lecture slides or [from this post](https://distill.pub/2016/augmented-rnns/)."
   ]
  },
  {
   "cell_type": "code",
   "execution_count": 20,
   "metadata": {},
   "outputs": [],
   "source": [
    "class AttentionLayer(nn.Module):\n",
    "    def __init__(self, name, enc_size, dec_size, hid_size, activ=torch.tanh):\n",
    "        \"\"\" A layer that computes additive attention response and weights \"\"\"\n",
    "        super().__init__()\n",
    "        self.name = name\n",
    "        self.enc_size = enc_size # num units in encoder state\n",
    "        self.dec_size = dec_size # num units in decoder state\n",
    "        self.hid_size = hid_size # attention layer hidden units\n",
    "        self.activ = activ       # attention layer hidden nonlinearity\n",
    "        \n",
    "        # create trainable paramteres like this:\n",
    "#         self.<PARAMETER_NAME> = nn.Parameter(<INITIAL_VALUES>, requires_grad=True)\n",
    "#         <...>  # you will need a couple of these\n",
    "        We = torch.empty(enc_size, hid_size)\n",
    "        nn.init.xavier_uniform_(We)\n",
    "        self.We = nn.Parameter(We, requires_grad=True)\n",
    "\n",
    "        Wd = torch.empty(dec_size, hid_size)\n",
    "        nn.init.xavier_uniform_(Wd)\n",
    "        self.Wd = nn.Parameter(Wd, requires_grad=True)\n",
    "        \n",
    "        Wout = torch.empty(hid_size, 1)\n",
    "        nn.init.xavier_uniform_(Wout)\n",
    "        self.Wout = nn.Parameter(Wout, requires_grad=True)\n",
    "        \n",
    "\n",
    "    def forward(self, enc, dec, inp_mask):\n",
    "        \"\"\"\n",
    "        Computes attention response and weights\n",
    "        :param enc: encoder activation sequence, float32[batch_size, ninp, enc_size]\n",
    "        :param dec: single decoder state used as \"query\", float32[batch_size, dec_size]\n",
    "        :param inp_mask: mask on enc activatons (0 after first eos), float32 [batch_size, ninp]\n",
    "        :returns: attn[batch_size, enc_size], probs[batch_size, ninp]\n",
    "            - attn - attention response vector (weighted sum of enc)\n",
    "            - probs - attention weights after softmax\n",
    "        \"\"\"\n",
    "\n",
    "        # Compute logits\n",
    "        activ = self.activ(torch.matmul(enc, self.We) + torch.matmul(dec, self.Wd).unsqueeze(1))\n",
    "        logits = torch.matmul(activ, self.Wout)\n",
    "\n",
    "        # Apply mask - if mask is 0, logits should be -inf or -1e9\n",
    "        # You may need torch.where\n",
    "        inp_mask = inp_mask.unsqueeze(2)\n",
    "        logits = torch.where(inp_mask==0, torch.tensor(-1e9, device='cuda:0'), logits)\n",
    "\n",
    "        # Compute attention probabilities (softmax)\n",
    "        probs =  F.softmax(logits, dim=1)\n",
    "        # Compute attention response using enc and probs\n",
    "        attn = torch.sum(probs*enc, dim=1)\n",
    "\n",
    "        return attn, probs.squeeze(2)"
   ]
  },
  {
   "cell_type": "markdown",
   "metadata": {
    "colab_type": "text",
    "id": "IalfpdAelrtb"
   },
   "source": [
    "### Seq2seq model with attention (3 points)\n",
    "\n",
    "You can now use the attention layer to build a network. The simplest way to implement attention is to use it in decoder phase:\n",
    "![img](https://i.imgur.com/6fKHlHb.png)\n",
    "_image from distill.pub [article](https://distill.pub/2016/augmented-rnns/)_\n",
    "\n",
    "On every step, use __previous__ decoder state to obtain attention response. Then feed concat this response to the inputs of next attention layer.\n",
    "\n",
    "The key implementation detail here is __model state__. Put simply, you can add any tensor into the list of `encode` outputs. You will then have access to them at each `decode` step. This may include:\n",
    "* Last RNN hidden states (as in basic model)\n",
    "* The whole sequence of encoder outputs (to attend to) and mask\n",
    "* Attention probabilities (to visualize)\n",
    "\n",
    "_There are, of course, alternative ways to wire attention into your network and different kinds of attention. Take a look at [this](https://arxiv.org/abs/1609.08144), [this](https://arxiv.org/abs/1706.03762) and [this](https://arxiv.org/abs/1808.03867) for ideas. And for image captioning/im2latex there's [visual attention](https://arxiv.org/abs/1502.03044)_"
   ]
  },
  {
   "cell_type": "code",
   "execution_count": 21,
   "metadata": {
    "colab": {},
    "colab_type": "code",
    "id": "NCKPB5JmcE6j"
   },
   "outputs": [],
   "source": [
    "class AttentiveModel(BasicModel):\n",
    "    def __init__(self, name, inp_voc, out_voc,\n",
    "                 emb_size=64, hid_size=128, attn_size=128):\n",
    "        \"\"\" Translation model that uses attention. See instructions above. \"\"\"\n",
    "        nn.Module.__init__(self)  # initialize base class to track sub-layers, trainable variables, etc.\n",
    "        self.inp_voc, self.out_voc = inp_voc, out_voc\n",
    "        self.hid_size = hid_size\n",
    "        \n",
    "#         <YOUR CODE: initialize layers>\n",
    "        self.emb_inp = nn.Embedding(len(inp_voc), emb_size)\n",
    "        self.emb_out = nn.Embedding(len(out_voc), emb_size)\n",
    "        self.enc0 = nn.GRU(emb_size, hid_size, batch_first=True)\n",
    "\n",
    "        self.dec_start = nn.Linear(hid_size, hid_size)\n",
    "        self.dec0 = nn.GRUCell(emb_size, hid_size)\n",
    "        self.logits = nn.Linear(2*hid_size, len(out_voc))\n",
    "\n",
    "        self.attention = AttentionLayer(name, hid_size, hid_size, attn_size)\n",
    "\n",
    "    def encode(self, inp, **flags):\n",
    "        \"\"\"\n",
    "        Takes symbolic input sequence, computes initial state\n",
    "        :param inp: matrix of input tokens [batch, time]\n",
    "        :return: a list of initial decoder state tensors\n",
    "        \"\"\"\n",
    "        inp_emb = self.emb_inp(inp)\n",
    "        batch_size = inp.shape[0]\n",
    "        inp_mask = self.inp_voc.compute_mask(inp)\n",
    "        \n",
    "        enc_seq, [last_state_but_not_really] = self.enc0(inp_emb)\n",
    "        # enc_seq: [batch, time, hid_size], last_state: [batch, hid_size]\n",
    "        \n",
    "        # note: last_state is not _actually_ last because of padding, let's find the real last_state\n",
    "        lengths = (inp != self.inp_voc.eos_ix).to(torch.int64).sum(dim=1).clamp_max(inp.shape[1] - 1)\n",
    "        last_state = enc_seq[torch.arange(len(enc_seq)), lengths]\n",
    "        # ^-- shape: [batch_size, hid_size]\n",
    "        \n",
    "        # encode input sequence, create initial decoder states\n",
    "        dec_start = self.dec_start(last_state)\n",
    "        # apply attention layer from initial decoder hidden state\n",
    "        \n",
    "        attn, first_attn_probas = self.attention(enc_seq, dec_start, inp_mask)\n",
    "        # Build first state: include\n",
    "        # * initial states for decoder recurrent layers\n",
    "        # * encoder sequence and encoder attn mask (for attention)\n",
    "        # * make sure that last state item is attention probabilities tensor\n",
    "        decoder_hidden_state_start = torch.cat([dec_start, attn], axis=1)\n",
    "        return [decoder_hidden_state_start, enc_seq, inp_mask, first_attn_probas]\n",
    "   \n",
    "    def decode_step(self, prev_state, prev_tokens, **flags):\n",
    "        \"\"\"\n",
    "        Takes previous decoder state and tokens, returns new state and logits for next tokens\n",
    "        :param prev_state: a list of previous decoder state tensors\n",
    "        :param prev_tokens: previous output tokens, an int vector of [batch_size]\n",
    "        :return: a list of next decoder state tensors, a tensor of logits [batch, n_tokens]\n",
    "        \"\"\"\n",
    "        \n",
    "#         <YOUR CODE HERE>\n",
    "        prev_gru0_state = prev_state[0]\n",
    "        hidden_state = prev_gru0_state[:, :self.hid_size]\n",
    "        context = prev_gru0_state[:, self.hid_size:]\n",
    "        enc_seq = prev_state[1]\n",
    "        inp_mask = prev_state[2]\n",
    "        out_emb = self.emb_out(prev_tokens)\n",
    "        new_dec_hidden_state = self.dec0(out_emb, hidden_state)\n",
    "        attn, attn_probas = self.attention(enc_seq, new_dec_hidden_state, inp_mask)\n",
    "        \n",
    "        new_dec_state = torch.cat([new_dec_hidden_state, attn], axis=1)\n",
    "        output_logits = self.logits(new_dec_state)\n",
    "        return [new_dec_state, enc_seq, inp_mask, attn_probas], output_logits\n"
   ]
  },
  {
   "cell_type": "markdown",
   "metadata": {
    "colab_type": "text",
    "id": "ryZCOTEslrtf"
   },
   "source": [
    "### Training attentive model\n",
    "\n",
    "Please reuse the infrastructure you've built for the regular model. I hope you didn't hard-code anything :)"
   ]
  },
  {
   "cell_type": "code",
   "execution_count": 22,
   "metadata": {},
   "outputs": [],
   "source": [
    "# debugging area\n",
    "model = AttentiveModel('LookAtMe', inp_voc, out_voc).to(device)\n",
    "\n",
    "dummy_inp_tokens = inp_voc.to_matrix(sorted(train_inp, key=len)[5:10]).to(device)\n",
    "dummy_out_tokens = out_voc.to_matrix(sorted(train_out, key=len)[5:10]).to(device)\n",
    "\n",
    "h0 = model.encode(dummy_inp_tokens)\n",
    "h1, logits1 = model.decode_step(h0, torch.arange(len(dummy_inp_tokens), device=device))\n",
    "\n",
    "assert isinstance(h1, list) and len(h1) == len(h0)\n",
    "assert h1[0].shape == h0[0].shape and not torch.allclose(h1[0], h0[0])\n",
    "assert logits1.shape == (len(dummy_inp_tokens), len(out_voc))\n",
    "\n",
    "logits_seq = model.decode(h0, dummy_out_tokens)\n",
    "assert logits_seq.shape == (dummy_out_tokens.shape[0], dummy_out_tokens.shape[1], len(out_voc))\n",
    "\n",
    "# full forward\n",
    "logits_seq2 = model(dummy_inp_tokens, dummy_out_tokens)\n",
    "assert logits_seq2.shape == logits_seq.shape"
   ]
  },
  {
   "cell_type": "code",
   "execution_count": 23,
   "metadata": {
    "colab": {},
    "colab_type": "code",
    "id": "-YMHPgZxcFaQ"
   },
   "outputs": [],
   "source": [
    "# <YOUR CODE: create AttentiveModel and training utilities>\n",
    "from IPython.display import clear_output\n",
    "from tqdm import tqdm, trange\n",
    "metrics = {'train_loss': [], 'dev_bleu': [] }\n",
    "\n",
    "model = AttentiveModel('LookAtMe', inp_voc, out_voc).to(device)\n",
    "opt = torch.optim.Adam(model.parameters(), lr=1e-3)\n",
    "batch_size = 32"
   ]
  },
  {
   "cell_type": "code",
   "execution_count": 24,
   "metadata": {
    "scrolled": false
   },
   "outputs": [
    {
     "data": {
      "image/png": "[encoded data removed]",
      "text/plain": [
       "<Figure size 864x288 with 2 Axes>"
      ]
     },
     "metadata": {
      "needs_background": "light"
     },
     "output_type": "display_data"
    },
    {
     "name": "stdout",
     "output_type": "stream",
     "text": [
      "Mean loss=0.990\n"
     ]
    },
    {
     "name": "stderr",
     "output_type": "stream",
     "text": [
      "100%|██████████| 25000/25000 [38:24<00:00, 10.85it/s]\n"
     ]
    }
   ],
   "source": [
    "# <YOUR CODE: training loop>\n",
    "for _ in trange(25000):\n",
    "    step = len(metrics['train_loss']) + 1\n",
    "    batch_ix = np.random.randint(len(train_inp), size=batch_size)\n",
    "    batch_inp = inp_voc.to_matrix(train_inp[batch_ix]).to(device)\n",
    "    batch_out = out_voc.to_matrix(train_out[batch_ix]).to(device)\n",
    "    \n",
    "#     <YOUR CODE: training step using batch_inp and batch_out>\n",
    "    opt.zero_grad()\n",
    "    loss_t = compute_loss(model, batch_inp, batch_out)\n",
    "    \n",
    "    metrics['train_loss'].append((step, loss_t.item()))\n",
    "    \n",
    "    loss_t.backward()\n",
    "    opt.step()\n",
    " \n",
    "    \n",
    "    if step % 100 == 0:\n",
    "        metrics['dev_bleu'].append((step, compute_bleu(model, dev_inp, dev_out)))\n",
    "        \n",
    "        clear_output(True)\n",
    "        plt.figure(figsize=(12,4))\n",
    "        for i, (name, history) in enumerate(sorted(metrics.items())):\n",
    "            plt.subplot(1, len(metrics), i + 1)\n",
    "            plt.title(name)\n",
    "            plt.plot(*zip(*history))\n",
    "            plt.grid()\n",
    "        plt.show()\n",
    "        print(\"Mean loss=%.3f\" % np.mean(metrics['train_loss'][-10:], axis=0)[1], flush=True)\n",
    "        \n",
    "# Note: it's okay if bleu oscillates up and down as long as it gets better on average over long term (e.g. 5k batches)"
   ]
  },
  {
   "cell_type": "code",
   "execution_count": 25,
   "metadata": {
    "colab": {},
    "colab_type": "code",
    "id": "2ahuhKVhlrtP"
   },
   "outputs": [
    {
     "data": {
      "text/plain": [
       "23.370066611037508"
      ]
     },
     "execution_count": 25,
     "metadata": {},
     "output_type": "execute_result"
    }
   ],
   "source": [
    "np.mean(metrics['dev_bleu'][-10:], axis=0)[1]"
   ]
  },
  {
   "cell_type": "code",
   "execution_count": 26,
   "metadata": {
    "colab": {},
    "colab_type": "code",
    "id": "KyaHOpealrtS"
   },
   "outputs": [
    {
     "name": "stdout",
     "output_type": "stream",
     "text": [
      "в распоряжении гостей общая кухня и общая гостиная .\n",
      "there is a shared kitchen and a common room with a shared living room .\n",
      "\n",
      "кроме того , предоставляется прокат велосипедов , услуги трансфера и бесплатная парковка .\n",
      "free rental bikes , free parking is available on site .\n",
      "\n",
      "расстояние до города ки@@ сси@@ м@@ ми составляет 26 км .\n",
      "kissimmee is located 26 km from the property .\n",
      "\n",
      "апартаменты в пент@@ хаусе с общим открытым бассейном , садом , кондиционером и террасой для загара расположены в 5 минутах ходьбы от пляжа на курорте ка@@ бо - рой .\n",
      "offering a shared outdoor pool , a garden with a pool , a garden , air - conditioned units also a garden with a garden and a sun terrace .\n",
      "\n",
      "апартаменты mo@@ s@@ co@@ w point - loft red square находятся в москве , в 200 метрах от большого театра .\n",
      "set in moscow , mo@@ s@@ w red - central red - central red - downtown red theatre is 200 metres from red - central red .\n",
      "\n",
      "в вашем распоряжении собственная ванная комната с душем и полотенцами .\n",
      "featuring a shower , private bathrooms also come with towels .\n",
      "\n"
     ]
    }
   ],
   "source": [
    "for inp_line, trans_line in zip(dev_inp[::500], model.translate_lines(dev_inp[::500])[0]):\n",
    "    print(inp_line)\n",
    "    print(trans_line)\n",
    "    print()"
   ]
  },
  {
   "cell_type": "markdown",
   "metadata": {},
   "source": [
    "### Visualizing model attention (2 points)\n",
    "\n",
    "After training the attentive translation model, you can check it's sanity by visualizing its attention weights.\n",
    "\n",
    "We provided you with a function that draws attention maps using [`Bokeh`](https://bokeh.pydata.org/en/latest/index.html). Once you managed to produce something better than random noise, please save at least 3 attention maps and __submit them to anytask__ alongside this notebook to get the max grade. Saving bokeh figures as __cell outputs is not enough!__ (TAs can't see saved bokeh figures in anytask). You can save bokeh images as screenshots or using this button:\n",
    "\n",
    "![bokeh_panel](https://github.com/yandexdataschool/nlp_course/raw/2019/resources/bokeh_panel.png)\n",
    "\n",
    "__Note:__ you're not locked into using bokeh. If you prefer a different visualization method, feel free to use that instead of bokeh."
   ]
  },
  {
   "cell_type": "code",
   "execution_count": 27,
   "metadata": {},
   "outputs": [
    {
     "data": {
      "text/html": [
       "\n",
       "    <div class=\"bk-root\">\n",
       "        <a href=\"https://bokeh.org\" target=\"_blank\" class=\"bk-logo bk-logo-small bk-logo-notebook\"></a>\n",
       "        <span id=\"1001\">Loading BokehJS ...</span>\n",
       "    </div>"
      ]
     },
     "metadata": {},
     "output_type": "display_data"
    },
    {
     "data": {
      "application/javascript": [
       "\n",
       "(function(root) {\n",
       "  function now() {\n",
       "    return new Date();\n",
       "  }\n",
       "\n",
       "  var force = true;\n",
       "\n",
       "  if (typeof root._bokeh_onload_callbacks === \"undefined\" || force === true) {\n",
       "    root._bokeh_onload_callbacks = [];\n",
       "    root._bokeh_is_loading = undefined;\n",
       "  }\n",
       "\n",
       "  var JS_MIME_TYPE = 'application/javascript';\n",
       "  var HTML_MIME_TYPE = 'text/html';\n",
       "  var EXEC_MIME_TYPE = 'application/vnd.bokehjs_exec.v0+json';\n",
       "  var CLASS_NAME = 'output_bokeh rendered_html';\n",
       "\n",
       "  /**\n",
       "   * Render data to the DOM node\n",
       "   */\n",
       "  function render(props, node) {\n",
       "    var script = document.createElement(\"script\");\n",
       "    node.appendChild(script);\n",
       "  }\n",
       "\n",
       "  /**\n",
       "   * Handle when an output is cleared or removed\n",
       "   */\n",
       "  function handleClearOutput(event, handle) {\n",
       "    var cell = handle.cell;\n",
       "\n",
       "    var id = cell.output_area._bokeh_element_id;\n",
       "    var server_id = cell.output_area._bokeh_server_id;\n",
       "    // Clean up Bokeh references\n",
       "    if (id != null && id in Bokeh.index) {\n",
       "      Bokeh.index[id].model.document.clear();\n",
       "      delete Bokeh.index[id];\n",
       "    }\n",
       "\n",
       "    if (server_id !== undefined) {\n",
       "      // Clean up Bokeh references\n",
       "      var cmd = \"from bokeh.io.state import curstate; print(curstate().uuid_to_server['\" + server_id + \"'].get_sessions()[0].document.roots[0]._id)\";\n",
       "      cell.notebook.kernel.execute(cmd, {\n",
       "        iopub: {\n",
       "          output: function(msg) {\n",
       "            var id = msg.content.text.trim();\n",
       "            if (id in Bokeh.index) {\n",
       "              Bokeh.index[id].model.document.clear();\n",
       "              delete Bokeh.index[id];\n",
       "            }\n",
       "          }\n",
       "        }\n",
       "      });\n",
       "      // Destroy server and session\n",
       "      var cmd = \"import bokeh.io.notebook as ion; ion.destroy_server('\" + server_id + \"')\";\n",
       "      cell.notebook.kernel.execute(cmd);\n",
       "    }\n",
       "  }\n",
       "\n",
       "  /**\n",
       "   * Handle when a new output is added\n",
       "   */\n",
       "  function handleAddOutput(event, handle) {\n",
       "    var output_area = handle.output_area;\n",
       "    var output = handle.output;\n",
       "\n",
       "    // limit handleAddOutput to display_data with EXEC_MIME_TYPE content only\n",
       "    if ((output.output_type != \"display_data\") || (!output.data.hasOwnProperty(EXEC_MIME_TYPE))) {\n",
       "      return\n",
       "    }\n",
       "\n",
       "    var toinsert = output_area.element.find(\".\" + CLASS_NAME.split(' ')[0]);\n",
       "\n",
       "    if (output.metadata[EXEC_MIME_TYPE][\"id\"] !== undefined) {\n",
       "      toinsert[toinsert.length - 1].firstChild.textContent = output.data[JS_MIME_TYPE];\n",
       "      // store reference to embed id on output_area\n",
       "      output_area._bokeh_element_id = output.metadata[EXEC_MIME_TYPE][\"id\"];\n",
       "    }\n",
       "    if (output.metadata[EXEC_MIME_TYPE][\"server_id\"] !== undefined) {\n",
       "      var bk_div = document.createElement(\"div\");\n",
       "      bk_div.innerHTML = output.data[HTML_MIME_TYPE];\n",
       "      var script_attrs = bk_div.children[0].attributes;\n",
       "      for (var i = 0; i < script_attrs.length; i++) {\n",
       "        toinsert[toinsert.length - 1].firstChild.setAttribute(script_attrs[i].name, script_attrs[i].value);\n",
       "        toinsert[toinsert.length - 1].firstChild.textContent = bk_div.children[0].textContent\n",
       "      }\n",
       "      // store reference to server id on output_area\n",
       "      output_area._bokeh_server_id = output.metadata[EXEC_MIME_TYPE][\"server_id\"];\n",
       "    }\n",
       "  }\n",
       "\n",
       "  function register_renderer(events, OutputArea) {\n",
       "\n",
       "    function append_mime(data, metadata, element) {\n",
       "      // create a DOM node to render to\n",
       "      var toinsert = this.create_output_subarea(\n",
       "        metadata,\n",
       "        CLASS_NAME,\n",
       "        EXEC_MIME_TYPE\n",
       "      );\n",
       "      this.keyboard_manager.register_events(toinsert);\n",
       "      // Render to node\n",
       "      var props = {data: data, metadata: metadata[EXEC_MIME_TYPE]};\n",
       "      render(props, toinsert[toinsert.length - 1]);\n",
       "      element.append(toinsert);\n",
       "      return toinsert\n",
       "    }\n",
       "\n",
       "    /* Handle when an output is cleared or removed */\n",
       "    events.on('clear_output.CodeCell', handleClearOutput);\n",
       "    events.on('delete.Cell', handleClearOutput);\n",
       "\n",
       "    /* Handle when a new output is added */\n",
       "    events.on('output_added.OutputArea', handleAddOutput);\n",
       "\n",
       "    /**\n",
       "     * Register the mime type and append_mime function with output_area\n",
       "     */\n",
       "    OutputArea.prototype.register_mime_type(EXEC_MIME_TYPE, append_mime, {\n",
       "      /* Is output safe? */\n",
       "      safe: true,\n",
       "      /* Index of renderer in `output_area.display_order` */\n",
       "      index: 0\n",
       "    });\n",
       "  }\n",
       "\n",
       "  // register the mime type if in Jupyter Notebook environment and previously unregistered\n",
       "  if (root.Jupyter !== undefined) {\n",
       "    var events = require('base/js/events');\n",
       "    var OutputArea = require('notebook/js/outputarea').OutputArea;\n",
       "\n",
       "    if (OutputArea.prototype.mime_types().indexOf(EXEC_MIME_TYPE) == -1) {\n",
       "      register_renderer(events, OutputArea);\n",
       "    }\n",
       "  }\n",
       "\n",
       "  \n",
       "  if (typeof (root._bokeh_timeout) === \"undefined\" || force === true) {\n",
       "    root._bokeh_timeout = Date.now() + 5000;\n",
       "    root._bokeh_failed_load = false;\n",
       "  }\n",
       "\n",
       "  var NB_LOAD_WARNING = {'data': {'text/html':\n",
       "     \"<div style='background-color: #fdd'>\\n\"+\n",
       "     \"<p>\\n\"+\n",
       "     \"BokehJS does not appear to have successfully loaded. If loading BokehJS from CDN, this \\n\"+\n",
       "     \"may be due to a slow or bad network connection. Possible fixes:\\n\"+\n",
       "     \"</p>\\n\"+\n",
       "     \"<ul>\\n\"+\n",
       "     \"<li>re-rerun `output_notebook()` to attempt to load from CDN again, or</li>\\n\"+\n",
       "     \"<li>use INLINE resources instead, as so:</li>\\n\"+\n",
       "     \"</ul>\\n\"+\n",
       "     \"<code>\\n\"+\n",
       "     \"from bokeh.resources import INLINE\\n\"+\n",
       "     \"output_notebook(resources=INLINE)\\n\"+\n",
       "     \"</code>\\n\"+\n",
       "     \"</div>\"}};\n",
       "\n",
       "  function display_loaded() {\n",
       "    var el = document.getElementById(\"1001\");\n",
       "    if (el != null) {\n",
       "      el.textContent = \"BokehJS is loading...\";\n",
       "    }\n",
       "    if (root.Bokeh !== undefined) {\n",
       "      if (el != null) {\n",
       "        el.textContent = \"BokehJS \" + root.Bokeh.version + \" successfully loaded.\";\n",
       "      }\n",
       "    } else if (Date.now() < root._bokeh_timeout) {\n",
       "      setTimeout(display_loaded, 100)\n",
       "    }\n",
       "  }\n",
       "\n",
       "\n",
       "  function run_callbacks() {\n",
       "    try {\n",
       "      root._bokeh_onload_callbacks.forEach(function(callback) {\n",
       "        if (callback != null)\n",
       "          callback();\n",
       "      });\n",
       "    } finally {\n",
       "      delete root._bokeh_onload_callbacks\n",
       "    }\n",
       "    console.debug(\"Bokeh: all callbacks have finished\");\n",
       "  }\n",
       "\n",
       "  function load_libs(css_urls, js_urls, callback) {\n",
       "    if (css_urls == null) css_urls = [];\n",
       "    if (js_urls == null) js_urls = [];\n",
       "\n",
       "    root._bokeh_onload_callbacks.push(callback);\n",
       "    if (root._bokeh_is_loading > 0) {\n",
       "      console.debug(\"Bokeh: BokehJS is being loaded, scheduling callback at\", now());\n",
       "      return null;\n",
       "    }\n",
       "    if (js_urls == null || js_urls.length === 0) {\n",
       "      run_callbacks();\n",
       "      return null;\n",
       "    }\n",
       "    console.debug(\"Bokeh: BokehJS not loaded, scheduling load and callback at\", now());\n",
       "    root._bokeh_is_loading = css_urls.length + js_urls.length;\n",
       "\n",
       "    function on_load() {\n",
       "      root._bokeh_is_loading--;\n",
       "      if (root._bokeh_is_loading === 0) {\n",
       "        console.debug(\"Bokeh: all BokehJS libraries/stylesheets loaded\");\n",
       "        run_callbacks()\n",
       "      }\n",
       "    }\n",
       "\n",
       "    function on_error() {\n",
       "      console.error(\"failed to load \" + url);\n",
       "    }\n",
       "\n",
       "    for (var i = 0; i < css_urls.length; i++) {\n",
       "      var url = css_urls[i];\n",
       "      const element = document.createElement(\"link\");\n",
       "      element.onload = on_load;\n",
       "      element.onerror = on_error;\n",
       "      element.rel = \"stylesheet\";\n",
       "      element.type = \"text/css\";\n",
       "      element.href = url;\n",
       "      console.debug(\"Bokeh: injecting link tag for BokehJS stylesheet: \", url);\n",
       "      document.body.appendChild(element);\n",
       "    }\n",
       "\n",
       "    const hashes = {\"https://cdn.bokeh.org/bokeh/release/bokeh-2.2.0.min.js\": \"jtq3UzIrk2TfDZfSNGEN0ICKrRWmtzZSQm6i1Xnd3hY3UfU9m98vuEL7JUv7Iway\", \"https://cdn.bokeh.org/bokeh/release/bokeh-widgets-2.2.0.min.js\": \"rRlSZb4FImflqQNhKcvkZq8b+FqcNFxP9CmCO8Vgo9uNXe6wk6yNMlKMrXn+TjeM\", \"https://cdn.bokeh.org/bokeh/release/bokeh-tables-2.2.0.min.js\": \"MJyUmyL5f4wPlABPEp4CF5HzMeAPMvzucE8gEGNH15tAWgHFb2hsPNIEkva89XtP\"};\n",
       "\n",
       "    for (var i = 0; i < js_urls.length; i++) {\n",
       "      var url = js_urls[i];\n",
       "      var element = document.createElement('script');\n",
       "      element.onload = on_load;\n",
       "      element.onerror = on_error;\n",
       "      element.async = false;\n",
       "      element.src = url;\n",
       "      if (url in hashes) {\n",
       "        element.crossOrigin = \"anonymous\";\n",
       "        element.integrity = \"sha384-\" + hashes[url];\n",
       "      }\n",
       "      console.debug(\"Bokeh: injecting script tag for BokehJS library: \", url);\n",
       "      document.head.appendChild(element);\n",
       "    }\n",
       "  };\n",
       "\n",
       "  function inject_raw_css(css) {\n",
       "    const element = document.createElement(\"style\");\n",
       "    element.appendChild(document.createTextNode(css));\n",
       "    document.body.appendChild(element);\n",
       "  }\n",
       "\n",
       "  \n",
       "  var js_urls = [\"https://cdn.bokeh.org/bokeh/release/bokeh-2.2.0.min.js\", \"https://cdn.bokeh.org/bokeh/release/bokeh-widgets-2.2.0.min.js\", \"https://cdn.bokeh.org/bokeh/release/bokeh-tables-2.2.0.min.js\"];\n",
       "  var css_urls = [];\n",
       "  \n",
       "\n",
       "  var inline_js = [\n",
       "    function(Bokeh) {\n",
       "      Bokeh.set_log_level(\"info\");\n",
       "    },\n",
       "    function(Bokeh) {\n",
       "    \n",
       "    \n",
       "    }\n",
       "  ];\n",
       "\n",
       "  function run_inline_js() {\n",
       "    \n",
       "    if (root.Bokeh !== undefined || force === true) {\n",
       "      \n",
       "    for (var i = 0; i < inline_js.length; i++) {\n",
       "      inline_js[i].call(root, root.Bokeh);\n",
       "    }\n",
       "    if (force === true) {\n",
       "        display_loaded();\n",
       "      }} else if (Date.now() < root._bokeh_timeout) {\n",
       "      setTimeout(run_inline_js, 100);\n",
       "    } else if (!root._bokeh_failed_load) {\n",
       "      console.log(\"Bokeh: BokehJS failed to load within specified timeout.\");\n",
       "      root._bokeh_failed_load = true;\n",
       "    } else if (force !== true) {\n",
       "      var cell = $(document.getElementById(\"1001\")).parents('.cell').data().cell;\n",
       "      cell.output_area.append_execute_result(NB_LOAD_WARNING)\n",
       "    }\n",
       "\n",
       "  }\n",
       "\n",
       "  if (root._bokeh_is_loading === 0) {\n",
       "    console.debug(\"Bokeh: BokehJS loaded, going straight to plotting\");\n",
       "    run_inline_js();\n",
       "  } else {\n",
       "    load_libs(css_urls, js_urls, function() {\n",
       "      console.debug(\"Bokeh: BokehJS plotting callback run at\", now());\n",
       "      run_inline_js();\n",
       "    });\n",
       "  }\n",
       "}(window));"
      ],
      "application/vnd.bokehjs_load.v0+json": "\n(function(root) {\n  function now() {\n    return new Date();\n  }\n\n  var force = true;\n\n  if (typeof root._bokeh_onload_callbacks === \"undefined\" || force === true) {\n    root._bokeh_onload_callbacks = [];\n    root._bokeh_is_loading = undefined;\n  }\n\n  \n\n  \n  if (typeof (root._bokeh_timeout) === \"undefined\" || force === true) {\n    root._bokeh_timeout = Date.now() + 5000;\n    root._bokeh_failed_load = false;\n  }\n\n  var NB_LOAD_WARNING = {'data': {'text/html':\n     \"<div style='background-color: #fdd'>\\n\"+\n     \"<p>\\n\"+\n     \"BokehJS does not appear to have successfully loaded. If loading BokehJS from CDN, this \\n\"+\n     \"may be due to a slow or bad network connection. Possible fixes:\\n\"+\n     \"</p>\\n\"+\n     \"<ul>\\n\"+\n     \"<li>re-rerun `output_notebook()` to attempt to load from CDN again, or</li>\\n\"+\n     \"<li>use INLINE resources instead, as so:</li>\\n\"+\n     \"</ul>\\n\"+\n     \"<code>\\n\"+\n     \"from bokeh.resources import INLINE\\n\"+\n     \"output_notebook(resources=INLINE)\\n\"+\n     \"</code>\\n\"+\n     \"</div>\"}};\n\n  function display_loaded() {\n    var el = document.getElementById(\"1001\");\n    if (el != null) {\n      el.textContent = \"BokehJS is loading...\";\n    }\n    if (root.Bokeh !== undefined) {\n      if (el != null) {\n        el.textContent = \"BokehJS \" + root.Bokeh.version + \" successfully loaded.\";\n      }\n    } else if (Date.now() < root._bokeh_timeout) {\n      setTimeout(display_loaded, 100)\n    }\n  }\n\n\n  function run_callbacks() {\n    try {\n      root._bokeh_onload_callbacks.forEach(function(callback) {\n        if (callback != null)\n          callback();\n      });\n    } finally {\n      delete root._bokeh_onload_callbacks\n    }\n    console.debug(\"Bokeh: all callbacks have finished\");\n  }\n\n  function load_libs(css_urls, js_urls, callback) {\n    if (css_urls == null) css_urls = [];\n    if (js_urls == null) js_urls = [];\n\n    root._bokeh_onload_callbacks.push(callback);\n    if (root._bokeh_is_loading > 0) {\n      console.debug(\"Bokeh: BokehJS is being loaded, scheduling callback at\", now());\n      return null;\n    }\n    if (js_urls == null || js_urls.length === 0) {\n      run_callbacks();\n      return null;\n    }\n    console.debug(\"Bokeh: BokehJS not loaded, scheduling load and callback at\", now());\n    root._bokeh_is_loading = css_urls.length + js_urls.length;\n\n    function on_load() {\n      root._bokeh_is_loading--;\n      if (root._bokeh_is_loading === 0) {\n        console.debug(\"Bokeh: all BokehJS libraries/stylesheets loaded\");\n        run_callbacks()\n      }\n    }\n\n    function on_error() {\n      console.error(\"failed to load \" + url);\n    }\n\n    for (var i = 0; i < css_urls.length; i++) {\n      var url = css_urls[i];\n      const element = document.createElement(\"link\");\n      element.onload = on_load;\n      element.onerror = on_error;\n      element.rel = \"stylesheet\";\n      element.type = \"text/css\";\n      element.href = url;\n      console.debug(\"Bokeh: injecting link tag for BokehJS stylesheet: \", url);\n      document.body.appendChild(element);\n    }\n\n    const hashes = {\"https://cdn.bokeh.org/bokeh/release/bokeh-2.2.0.min.js\": \"jtq3UzIrk2TfDZfSNGEN0ICKrRWmtzZSQm6i1Xnd3hY3UfU9m98vuEL7JUv7Iway\", \"https://cdn.bokeh.org/bokeh/release/bokeh-widgets-2.2.0.min.js\": \"rRlSZb4FImflqQNhKcvkZq8b+FqcNFxP9CmCO8Vgo9uNXe6wk6yNMlKMrXn+TjeM\", \"https://cdn.bokeh.org/bokeh/release/bokeh-tables-2.2.0.min.js\": \"MJyUmyL5f4wPlABPEp4CF5HzMeAPMvzucE8gEGNH15tAWgHFb2hsPNIEkva89XtP\"};\n\n    for (var i = 0; i < js_urls.length; i++) {\n      var url = js_urls[i];\n      var element = document.createElement('script');\n      element.onload = on_load;\n      element.onerror = on_error;\n      element.async = false;\n      element.src = url;\n      if (url in hashes) {\n        element.crossOrigin = \"anonymous\";\n        element.integrity = \"sha384-\" + hashes[url];\n      }\n      console.debug(\"Bokeh: injecting script tag for BokehJS library: \", url);\n      document.head.appendChild(element);\n    }\n  };\n\n  function inject_raw_css(css) {\n    const element = document.createElement(\"style\");\n    element.appendChild(document.createTextNode(css));\n    document.body.appendChild(element);\n  }\n\n  \n  var js_urls = [\"https://cdn.bokeh.org/bokeh/release/bokeh-2.2.0.min.js\", \"https://cdn.bokeh.org/bokeh/release/bokeh-widgets-2.2.0.min.js\", \"https://cdn.bokeh.org/bokeh/release/bokeh-tables-2.2.0.min.js\"];\n  var css_urls = [];\n  \n\n  var inline_js = [\n    function(Bokeh) {\n      Bokeh.set_log_level(\"info\");\n    },\n    function(Bokeh) {\n    \n    \n    }\n  ];\n\n  function run_inline_js() {\n    \n    if (root.Bokeh !== undefined || force === true) {\n      \n    for (var i = 0; i < inline_js.length; i++) {\n      inline_js[i].call(root, root.Bokeh);\n    }\n    if (force === true) {\n        display_loaded();\n      }} else if (Date.now() < root._bokeh_timeout) {\n      setTimeout(run_inline_js, 100);\n    } else if (!root._bokeh_failed_load) {\n      console.log(\"Bokeh: BokehJS failed to load within specified timeout.\");\n      root._bokeh_failed_load = true;\n    } else if (force !== true) {\n      var cell = $(document.getElementById(\"1001\")).parents('.cell').data().cell;\n      cell.output_area.append_execute_result(NB_LOAD_WARNING)\n    }\n\n  }\n\n  if (root._bokeh_is_loading === 0) {\n    console.debug(\"Bokeh: BokehJS loaded, going straight to plotting\");\n    run_inline_js();\n  } else {\n    load_libs(css_urls, js_urls, function() {\n      console.debug(\"Bokeh: BokehJS plotting callback run at\", now());\n      run_inline_js();\n    });\n  }\n}(window));"
     },
     "metadata": {},
     "output_type": "display_data"
    }
   ],
   "source": [
    "import bokeh.plotting as pl\n",
    "import bokeh.models as bm\n",
    "from bokeh.models import HoverTool, BoxZoomTool, ResetTool, SaveTool\n",
    "from bokeh.io import output_notebook, show, output_file\n",
    "output_notebook()\n",
    "\n",
    "def draw_attention(inp_line, translation, probs):\n",
    "    \"\"\" An intentionally ambiguous function to visualize attention weights \"\"\"\n",
    "    inp_tokens = inp_voc.tokenize(inp_line)\n",
    "    trans_tokens = out_voc.tokenize(translation)\n",
    "    probs = probs[:len(trans_tokens), :len(inp_tokens)]\n",
    "    \n",
    "    tools = [HoverTool(), BoxZoomTool(), ResetTool(), SaveTool()]\n",
    "    fig = pl.figure(x_range=(0, len(inp_tokens)), y_range=(0, len(trans_tokens)),\n",
    "                    x_axis_type=None, y_axis_type=None, tools=tools, toolbar_location='above')\n",
    "    fig.image([probs[::-1]], 0, 0, len(inp_tokens), len(trans_tokens))\n",
    "    fig.add_layout(bm.LinearAxis(axis_label='source tokens'), 'above')\n",
    "    fig.xaxis.ticker = np.arange(len(inp_tokens)) + 0.5\n",
    "    fig.xaxis.major_label_overrides = dict(zip(np.arange(len(inp_tokens)) + 0.5, inp_tokens))\n",
    "    fig.xaxis.major_label_orientation = 45\n",
    "\n",
    "    fig.add_layout(bm.LinearAxis(axis_label='translation tokens'), 'left')\n",
    "    fig.yaxis.ticker = np.arange(len(trans_tokens)) + 0.5\n",
    "    fig.yaxis.major_label_overrides = dict(zip(np.arange(len(trans_tokens)) + 0.5, trans_tokens[::-1]))\n",
    "\n",
    "    show(fig)  "
   ]
  },
  {
   "cell_type": "code",
   "execution_count": 28,
   "metadata": {},
   "outputs": [],
   "source": [
    "inp = dev_inp[::500]\n",
    "\n",
    "trans, states = model.translate_lines(inp)\n",
    "\n",
    "# select attention probs from model state (you may need to change this for your custom model)\n",
    "# attention_probs below must have shape [batch_size, translation_length, input_length], extracted from states\n",
    "# e.g. if attention probs are at the end of each state, use np.stack([state[-1] for state in states], axis=1)\n",
    "# attention_probs = <YOUR CODE>\n",
    "attention_probs = np.stack([state[-1].cpu().detach().numpy() for state in states], axis=1)"
   ]
  },
  {
   "cell_type": "code",
   "execution_count": 29,
   "metadata": {},
   "outputs": [
    {
     "data": {
      "text/html": [
       "\n",
       "\n",
       "\n",
       "\n",
       "\n",
       "\n",
       "  <div class=\"bk-root\" id=\"bf2cfe37-c6cd-4674-bf4d-3e4c731f63d1\" data-root-id=\"1006\"></div>\n"
      ]
     },
     "metadata": {},
     "output_type": "display_data"
    },
    {
     "data": {
      "application/javascript": [
       "(function(root) {\n",
       "  function embed_document(root) {\n",
       "    \n",
       "  var docs_json = {\"180d85bd-fe03-49cc-8d3d-7899409eed0c\":{\"roots\":{\"references\":[{\"attributes\":{\"above\":[{\"id\":\"1028\"}],\"left\":[{\"id\":\"1031\"}],\"renderers\":[{\"id\":\"1026\"}],\"title\":{\"id\":\"1035\"},\"toolbar\":{\"id\":\"1016\"},\"toolbar_location\":\"above\",\"x_range\":{\"id\":\"1007\"},\"x_scale\":{\"id\":\"1011\"},\"y_range\":{\"id\":\"1009\"},\"y_scale\":{\"id\":\"1013\"}},\"id\":\"1006\",\"subtype\":\"Figure\",\"type\":\"Plot\"},{\"attributes\":{\"palette\":[\"#000000\",\"#252525\",\"#525252\",\"#737373\",\"#969696\",\"#bdbdbd\",\"#d9d9d9\",\"#f0f0f0\",\"#ffffff\"]},\"id\":\"1025\",\"type\":\"LinearColorMapper\"},{\"attributes\":{},\"id\":\"1036\",\"type\":\"BasicTickFormatter\"},{\"attributes\":{\"text\":\"\"},\"id\":\"1035\",\"type\":\"Title\"},{\"attributes\":{\"data_source\":{\"id\":\"1021\"},\"glyph\":{\"id\":\"1022\"},\"hover_glyph\":null,\"muted_glyph\":null,\"nonselection_glyph\":{\"id\":\"1024\"},\"selection_glyph\":null,\"view\":{\"id\":\"1027\"}},\"id\":\"1026\",\"type\":\"GlyphRenderer\"},{\"attributes\":{\"ticks\":[0.5,1.5,2.5,3.5,4.5,5.5,6.5,7.5,8.5,9.5,10.5,11.5,12.5,13.5,14.5,15.5,16.5]},\"id\":\"1032\",\"type\":\"FixedTicker\"},{\"attributes\":{},\"id\":\"1011\",\"type\":\"LinearScale\"},{\"attributes\":{},\"id\":\"1039\",\"type\":\"Selection\"},{\"attributes\":{\"color_mapper\":{\"id\":\"1025\"},\"dh\":{\"units\":\"data\",\"value\":17},\"dw\":{\"units\":\"data\",\"value\":11},\"global_alpha\":0.1,\"image\":{\"field\":\"image\"},\"x\":{\"value\":0},\"y\":{\"value\":0}},\"id\":\"1024\",\"type\":\"Image\"},{\"attributes\":{\"overlay\":{\"id\":\"1015\"}},\"id\":\"1003\",\"type\":\"BoxZoomTool\"},{\"attributes\":{\"color_mapper\":{\"id\":\"1023\"},\"dh\":{\"units\":\"data\",\"value\":17},\"dw\":{\"units\":\"data\",\"value\":11},\"image\":{\"field\":\"image\"},\"x\":{\"value\":0},\"y\":{\"value\":0}},\"id\":\"1022\",\"type\":\"Image\"},{\"attributes\":{},\"id\":\"1037\",\"type\":\"BasicTickFormatter\"},{\"attributes\":{},\"id\":\"1040\",\"type\":\"UnionRenderers\"},{\"attributes\":{},\"id\":\"1005\",\"type\":\"SaveTool\"},{\"attributes\":{\"end\":17},\"id\":\"1009\",\"type\":\"Range1d\"},{\"attributes\":{\"palette\":[\"#000000\",\"#252525\",\"#525252\",\"#737373\",\"#969696\",\"#bdbdbd\",\"#d9d9d9\",\"#f0f0f0\",\"#ffffff\"]},\"id\":\"1023\",\"type\":\"LinearColorMapper\"},{\"attributes\":{\"active_drag\":\"auto\",\"active_inspect\":\"auto\",\"active_multi\":null,\"active_scroll\":\"auto\",\"active_tap\":\"auto\",\"tools\":[{\"id\":\"1002\"},{\"id\":\"1003\"},{\"id\":\"1004\"},{\"id\":\"1005\"}]},\"id\":\"1016\",\"type\":\"Toolbar\"},{\"attributes\":{\"source\":{\"id\":\"1021\"}},\"id\":\"1027\",\"type\":\"CDSView\"},{\"attributes\":{},\"id\":\"1004\",\"type\":\"ResetTool\"},{\"attributes\":{\"bottom_units\":\"screen\",\"fill_alpha\":0.5,\"fill_color\":\"lightgrey\",\"left_units\":\"screen\",\"level\":\"overlay\",\"line_alpha\":1.0,\"line_color\":\"black\",\"line_dash\":[4,4],\"line_width\":2,\"right_units\":\"screen\",\"top_units\":\"screen\"},\"id\":\"1015\",\"type\":\"BoxAnnotation\"},{\"attributes\":{\"data\":{\"image\":[{\"__ndarray__\":\"wUcHM6AufDXSvKIz9EDGNQhLMDc2XlE512NgOACoAjsMqkU6uvHRPO2qeD+yVwoyBt55NsPThTSTmxs3VUUlOWW/4DqMVXw7HQwsO82LjjwX98M89kdzPzvLjTEEDlo23OIiN7acvzQvlIQ6MQAbOz3YOjzAoaI7m3r/PPozBD5f6FE/363oL5YkmTPhNUc1VZcINRQ8KTkJGRU8+FfKOxP5wTwzE3Q/LjPjO+N9Czp/QMQyHW9RNInMlDUQJOI2f3BHO9eGuz4D18Y9EdBFPWwm9z7O2SI7M2TVOKT0MjFr2qE0IkE2NYhAFDac/5w7M7DFPbWGoz0hYTQ8O9BIP+mzmTxHx5c7vQ0uM//cuTXDgT81/2HcN0Nzfjqoa2A8B//PPFndtTxsW8c+fil2Pr2rnT5kYOMzSDZmNeaKejZccY42ClOrOl8QUD5KFNw7+Kl8PrCDCT8GoI0770oQOoRjzzIRij4y+04MNfWnzjH0JYc72DNgPAUeCDk58kU/lnxTPuLZFjsYzQc2JZsENPY7LDZEtEo2/iz5NFei4Tp9ZYA82XKpO7ZftD3jRF8/46yLPDkpJzkAgZ02YTmjONv9PzjH+Mw488rAOrMKhDx2jFc/ZVteOzGTXzw89TY9FMCgPQcllDE55dUxv6hZNM0KQzWTFT08uIN7PwaJrTjDn246VxOjOxsjFTefwZM1yoWeNAotJDb3Rek6ikegN7XLLT/fuZg+nsdzONCXiDtnWok8egK0N65pbzXCJxY4i3yLOIVnlzefgi45zEp3Pmk0ET+NDMY895zhPN6iAz3CGao9wmzFPB4szTa79SI4fK5rN2zWnDZiEFg7TyQyPP0u4j1Fq9A750AYOtEVkjw9vVk/Lu8EPEDyTzqhnwQ9ADCrOzMfgz2vezs/5duOPNZa3T1HPoY8h3CWO5zSLTzqWtA5B8xCOb+bZTuINKk7aPg6PXbkVD+IJUc7/xSCPUPmMD0TuVw7URXHOQ==\",\"dtype\":\"float32\",\"order\":\"little\",\"shape\":[17,11]}]},\"selected\":{\"id\":\"1039\"},\"selection_policy\":{\"id\":\"1040\"}},\"id\":\"1021\",\"type\":\"ColumnDataSource\"},{\"attributes\":{\"axis_label\":\"translation tokens\",\"formatter\":{\"id\":\"1037\"},\"major_label_overrides\":{\"0.5\":\"_EOS_\",\"1.5\":\".\",\"10.5\":\"and\",\"11.5\":\"kitchen\",\"12.5\":\"shared\",\"13.5\":\"a\",\"14.5\":\"is\",\"15.5\":\"there\",\"16.5\":\"_BOS_\",\"2.5\":\"room\",\"3.5\":\"living\",\"4.5\":\"shared\",\"5.5\":\"a\",\"6.5\":\"with\",\"7.5\":\"room\",\"8.5\":\"common\",\"9.5\":\"a\"},\"ticker\":{\"id\":\"1032\"}},\"id\":\"1031\",\"type\":\"LinearAxis\"},{\"attributes\":{\"end\":11},\"id\":\"1007\",\"type\":\"Range1d\"},{\"attributes\":{\"axis_label\":\"source tokens\",\"formatter\":{\"id\":\"1036\"},\"major_label_orientation\":45,\"major_label_overrides\":{\"0.5\":\"_BOS_\",\"1.5\":\"\\u0432\",\"10.5\":\"_EOS_\",\"2.5\":\"\\u0440\\u0430\\u0441\\u043f\\u043e\\u0440\\u044f\\u0436\\u0435\\u043d\\u0438\\u0438\",\"3.5\":\"\\u0433\\u043e\\u0441\\u0442\\u0435\\u0439\",\"4.5\":\"\\u043e\\u0431\\u0449\\u0430\\u044f\",\"5.5\":\"\\u043a\\u0443\\u0445\\u043d\\u044f\",\"6.5\":\"\\u0438\",\"7.5\":\"\\u043e\\u0431\\u0449\\u0430\\u044f\",\"8.5\":\"\\u0433\\u043e\\u0441\\u0442\\u0438\\u043d\\u0430\\u044f\",\"9.5\":\".\"},\"ticker\":{\"id\":\"1029\"}},\"id\":\"1028\",\"type\":\"LinearAxis\"},{\"attributes\":{\"ticks\":[0.5,1.5,2.5,3.5,4.5,5.5,6.5,7.5,8.5,9.5,10.5]},\"id\":\"1029\",\"type\":\"FixedTicker\"},{\"attributes\":{},\"id\":\"1013\",\"type\":\"LinearScale\"},{\"attributes\":{\"callback\":null},\"id\":\"1002\",\"type\":\"HoverTool\"}],\"root_ids\":[\"1006\"]},\"title\":\"Bokeh Application\",\"version\":\"2.2.0\"}};\n",
       "  var render_items = [{\"docid\":\"180d85bd-fe03-49cc-8d3d-7899409eed0c\",\"root_ids\":[\"1006\"],\"roots\":{\"1006\":\"bf2cfe37-c6cd-4674-bf4d-3e4c731f63d1\"}}];\n",
       "  root.Bokeh.embed.embed_items_notebook(docs_json, render_items);\n",
       "\n",
       "  }\n",
       "  if (root.Bokeh !== undefined) {\n",
       "    embed_document(root);\n",
       "  } else {\n",
       "    var attempts = 0;\n",
       "    var timer = setInterval(function(root) {\n",
       "      if (root.Bokeh !== undefined) {\n",
       "        clearInterval(timer);\n",
       "        embed_document(root);\n",
       "      } else {\n",
       "        attempts++;\n",
       "        if (attempts > 100) {\n",
       "          clearInterval(timer);\n",
       "          console.log(\"Bokeh: ERROR: Unable to run BokehJS code because BokehJS library is missing\");\n",
       "        }\n",
       "      }\n",
       "    }, 10, root)\n",
       "  }\n",
       "})(window);"
      ],
      "application/vnd.bokehjs_exec.v0+json": ""
     },
     "metadata": {
      "application/vnd.bokehjs_exec.v0+json": {
       "id": "1006"
      }
     },
     "output_type": "display_data"
    },
    {
     "data": {
      "text/html": [
       "\n",
       "\n",
       "\n",
       "\n",
       "\n",
       "\n",
       "  <div class=\"bk-root\" id=\"8d577ac0-bb90-408c-a259-523ce9f361b5\" data-root-id=\"1087\"></div>\n"
      ]
     },
     "metadata": {},
     "output_type": "display_data"
    },
    {
     "data": {
      "application/javascript": [
       "(function(root) {\n",
       "  function embed_document(root) {\n",
       "    \n",
       "  var docs_json = {\"5484202c-3b8a-4681-8233-0b6a97f3dd97\":{\"roots\":{\"references\":[{\"attributes\":{\"above\":[{\"id\":\"1109\"}],\"left\":[{\"id\":\"1112\"}],\"renderers\":[{\"id\":\"1107\"}],\"title\":{\"id\":\"1123\"},\"toolbar\":{\"id\":\"1097\"},\"toolbar_location\":\"above\",\"x_range\":{\"id\":\"1088\"},\"x_scale\":{\"id\":\"1092\"},\"y_range\":{\"id\":\"1090\"},\"y_scale\":{\"id\":\"1094\"}},\"id\":\"1087\",\"subtype\":\"Figure\",\"type\":\"Plot\"},{\"attributes\":{\"axis_label\":\"translation tokens\",\"formatter\":{\"id\":\"1125\"},\"major_label_overrides\":{\"0.5\":\"_EOS_\",\"1.5\":\".\",\"10.5\":\"rental\",\"11.5\":\"free\",\"12.5\":\"_BOS_\",\"2.5\":\"site\",\"3.5\":\"on\",\"4.5\":\"available\",\"5.5\":\"is\",\"6.5\":\"parking\",\"7.5\":\"free\",\"8.5\":\",\",\"9.5\":\"bikes\"},\"ticker\":{\"id\":\"1113\"}},\"id\":\"1112\",\"type\":\"LinearAxis\"},{\"attributes\":{\"ticks\":[0.5,1.5,2.5,3.5,4.5,5.5,6.5,7.5,8.5,9.5,10.5,11.5,12.5]},\"id\":\"1113\",\"type\":\"FixedTicker\"},{\"attributes\":{},\"id\":\"1124\",\"type\":\"BasicTickFormatter\"},{\"attributes\":{\"color_mapper\":{\"id\":\"1104\"},\"dh\":{\"units\":\"data\",\"value\":13},\"dw\":{\"units\":\"data\",\"value\":15},\"image\":{\"field\":\"image\"},\"x\":{\"value\":0},\"y\":{\"value\":0}},\"id\":\"1103\",\"type\":\"Image\"},{\"attributes\":{},\"id\":\"1128\",\"type\":\"UnionRenderers\"},{\"attributes\":{\"end\":13},\"id\":\"1090\",\"type\":\"Range1d\"},{\"attributes\":{\"bottom_units\":\"screen\",\"fill_alpha\":0.5,\"fill_color\":\"lightgrey\",\"left_units\":\"screen\",\"level\":\"overlay\",\"line_alpha\":1.0,\"line_color\":\"black\",\"line_dash\":[4,4],\"line_width\":2,\"right_units\":\"screen\",\"top_units\":\"screen\"},\"id\":\"1096\",\"type\":\"BoxAnnotation\"},{\"attributes\":{\"text\":\"\"},\"id\":\"1123\",\"type\":\"Title\"},{\"attributes\":{\"axis_label\":\"source tokens\",\"formatter\":{\"id\":\"1124\"},\"major_label_orientation\":45,\"major_label_overrides\":{\"0.5\":\"_BOS_\",\"1.5\":\"\\u043a\\u0440\\u043e\\u043c\\u0435\",\"10.5\":\"\\u0438\",\"11.5\":\"\\u0431\\u0435\\u0441\\u043f\\u043b\\u0430\\u0442\\u043d\\u0430\\u044f\",\"12.5\":\"\\u043f\\u0430\\u0440\\u043a\\u043e\\u0432\\u043a\\u0430\",\"13.5\":\".\",\"14.5\":\"_EOS_\",\"2.5\":\"\\u0442\\u043e\\u0433\\u043e\",\"3.5\":\",\",\"4.5\":\"\\u043f\\u0440\\u0435\\u0434\\u043e\\u0441\\u0442\\u0430\\u0432\\u043b\\u044f\\u0435\\u0442\\u0441\\u044f\",\"5.5\":\"\\u043f\\u0440\\u043e\\u043a\\u0430\\u0442\",\"6.5\":\"\\u0432\\u0435\\u043b\\u043e\\u0441\\u0438\\u043f\\u0435\\u0434\\u043e\\u0432\",\"7.5\":\",\",\"8.5\":\"\\u0443\\u0441\\u043b\\u0443\\u0433\\u0438\",\"9.5\":\"\\u0442\\u0440\\u0430\\u043d\\u0441\\u0444\\u0435\\u0440\\u0430\"},\"ticker\":{\"id\":\"1110\"}},\"id\":\"1109\",\"type\":\"LinearAxis\"},{\"attributes\":{},\"id\":\"1086\",\"type\":\"SaveTool\"},{\"attributes\":{\"color_mapper\":{\"id\":\"1106\"},\"dh\":{\"units\":\"data\",\"value\":13},\"dw\":{\"units\":\"data\",\"value\":15},\"global_alpha\":0.1,\"image\":{\"field\":\"image\"},\"x\":{\"value\":0},\"y\":{\"value\":0}},\"id\":\"1105\",\"type\":\"Image\"},{\"attributes\":{},\"id\":\"1094\",\"type\":\"LinearScale\"},{\"attributes\":{\"ticks\":[0.5,1.5,2.5,3.5,4.5,5.5,6.5,7.5,8.5,9.5,10.5,11.5,12.5,13.5,14.5]},\"id\":\"1110\",\"type\":\"FixedTicker\"},{\"attributes\":{\"overlay\":{\"id\":\"1096\"}},\"id\":\"1084\",\"type\":\"BoxZoomTool\"},{\"attributes\":{},\"id\":\"1092\",\"type\":\"LinearScale\"},{\"attributes\":{\"palette\":[\"#000000\",\"#252525\",\"#525252\",\"#737373\",\"#969696\",\"#bdbdbd\",\"#d9d9d9\",\"#f0f0f0\",\"#ffffff\"]},\"id\":\"1104\",\"type\":\"LinearColorMapper\"},{\"attributes\":{\"active_drag\":\"auto\",\"active_inspect\":\"auto\",\"active_multi\":null,\"active_scroll\":\"auto\",\"active_tap\":\"auto\",\"tools\":[{\"id\":\"1083\"},{\"id\":\"1084\"},{\"id\":\"1085\"},{\"id\":\"1086\"}]},\"id\":\"1097\",\"type\":\"Toolbar\"},{\"attributes\":{\"end\":15},\"id\":\"1088\",\"type\":\"Range1d\"},{\"attributes\":{\"data\":{\"image\":[{\"__ndarray__\":\"baWwMmTtEDJQhdAy+ju/M/lmYzW9gRY33n7EOBYqUDf4loE33qanN73oSjj9+AQ5q0IuPRS28D2p71Y/jtRDNR36bzSENGA3kS8lNpNz8jmrtVY4wg42PFU/RDefyls6eF8sPGXEuTtHN/I7HeFYPUNOnjsm+Wc/DBxaOAa+Xjbiz0U4WIM8N+/QfzuhZJU5pzB1PSbBMTpMRAM8keL9PNzZoTuyXDo8dS40PgMeAD4qKhQ/v/IFNWZEzzTjiCw1gi1aNl02kzhYWGw4Lc+7OoOJIzkCTac5i5qLO7YpxTszGA49g7RWPCIdoz3XOFw/HxI0MStGEzLNOPkxDD3iMZu/UjZwWo03mqcIOka6DTfer2s6kAg2OzTqczqXn3U9QOiBPuchmT75ncM+F9xdNT61hjLjq0kzuuy1MjIAXzQW6rI0x9f0N5dgyDWhvUc6UEoYPKEYSj1YiDU8YgXcO3GAEz75Wkc/djSBMBG3uTJJ3e40zdCEMcnY6TW9iNw1T6UJOuQ6SjenSEY7SxoWPGeD4DvRjsY8fTFPP5u4Ej44umg7wdkoNvEWFzYT5Pc2O/XLNPfPqDmo2BQ6M+sHOqX1VjopaZo8a6fwPTTZlD34MaY83/4dPzfKNDzEmA8+0TmVNWdyKzZtfpI1XT9JNO7KlDkn0eQ5qdU0O9578jlQRZA7KGtPPX1JaD8cF4U88oMzPBW+RjuxE187zAvrNC1EFTRn/gU1jYuUNeyJRThKbMM6dKmuPmrFFTzDSgI9dvx4PXnajT0SFGU9eX35PdFTrjzcF5M+b8UKMzinHjPrIIw1BaHrMzUN/DfbsaQ7lS9DPztYfjy+x4U87ZGmPROqDjy7rNo79bLCPTTMpjuTJXc7fdJ4OBBuHDk9tIg6N/+FOCUA/zmE6xM9Z6/FPgbrfDuAX6c7ZPgOPwjrhzvbKeA5i5ooO8gupDprRQ45U4vPN9lcoTfpBFQ5qLqRNy/lrzll1Dw61a1SPNNZTTzgNuY+VKNQPghuFDqIzZM7GDKVPv6AqzySWiM7\",\"dtype\":\"float32\",\"order\":\"little\",\"shape\":[13,15]}]},\"selected\":{\"id\":\"1127\"},\"selection_policy\":{\"id\":\"1128\"}},\"id\":\"1102\",\"type\":\"ColumnDataSource\"},{\"attributes\":{\"source\":{\"id\":\"1102\"}},\"id\":\"1108\",\"type\":\"CDSView\"},{\"attributes\":{\"palette\":[\"#000000\",\"#252525\",\"#525252\",\"#737373\",\"#969696\",\"#bdbdbd\",\"#d9d9d9\",\"#f0f0f0\",\"#ffffff\"]},\"id\":\"1106\",\"type\":\"LinearColorMapper\"},{\"attributes\":{},\"id\":\"1125\",\"type\":\"BasicTickFormatter\"},{\"attributes\":{\"data_source\":{\"id\":\"1102\"},\"glyph\":{\"id\":\"1103\"},\"hover_glyph\":null,\"muted_glyph\":null,\"nonselection_glyph\":{\"id\":\"1105\"},\"selection_glyph\":null,\"view\":{\"id\":\"1108\"}},\"id\":\"1107\",\"type\":\"GlyphRenderer\"},{\"attributes\":{\"callback\":null},\"id\":\"1083\",\"type\":\"HoverTool\"},{\"attributes\":{},\"id\":\"1127\",\"type\":\"Selection\"},{\"attributes\":{},\"id\":\"1085\",\"type\":\"ResetTool\"}],\"root_ids\":[\"1087\"]},\"title\":\"Bokeh Application\",\"version\":\"2.2.0\"}};\n",
       "  var render_items = [{\"docid\":\"5484202c-3b8a-4681-8233-0b6a97f3dd97\",\"root_ids\":[\"1087\"],\"roots\":{\"1087\":\"8d577ac0-bb90-408c-a259-523ce9f361b5\"}}];\n",
       "  root.Bokeh.embed.embed_items_notebook(docs_json, render_items);\n",
       "\n",
       "  }\n",
       "  if (root.Bokeh !== undefined) {\n",
       "    embed_document(root);\n",
       "  } else {\n",
       "    var attempts = 0;\n",
       "    var timer = setInterval(function(root) {\n",
       "      if (root.Bokeh !== undefined) {\n",
       "        clearInterval(timer);\n",
       "        embed_document(root);\n",
       "      } else {\n",
       "        attempts++;\n",
       "        if (attempts > 100) {\n",
       "          clearInterval(timer);\n",
       "          console.log(\"Bokeh: ERROR: Unable to run BokehJS code because BokehJS library is missing\");\n",
       "        }\n",
       "      }\n",
       "    }, 10, root)\n",
       "  }\n",
       "})(window);"
      ],
      "application/vnd.bokehjs_exec.v0+json": ""
     },
     "metadata": {
      "application/vnd.bokehjs_exec.v0+json": {
       "id": "1087"
      }
     },
     "output_type": "display_data"
    },
    {
     "data": {
      "text/html": [
       "\n",
       "\n",
       "\n",
       "\n",
       "\n",
       "\n",
       "  <div class=\"bk-root\" id=\"88c6b4ef-8c0b-4ee5-a42a-334e16217d2c\" data-root-id=\"1175\"></div>\n"
      ]
     },
     "metadata": {},
     "output_type": "display_data"
    },
    {
     "data": {
      "application/javascript": [
       "(function(root) {\n",
       "  function embed_document(root) {\n",
       "    \n",
       "  var docs_json = {\"63c75557-ef00-4a95-9a54-de8757f9c917\":{\"roots\":{\"references\":[{\"attributes\":{\"above\":[{\"id\":\"1197\"}],\"left\":[{\"id\":\"1200\"}],\"renderers\":[{\"id\":\"1195\"}],\"title\":{\"id\":\"1218\"},\"toolbar\":{\"id\":\"1185\"},\"toolbar_location\":\"above\",\"x_range\":{\"id\":\"1176\"},\"x_scale\":{\"id\":\"1180\"},\"y_range\":{\"id\":\"1178\"},\"y_scale\":{\"id\":\"1182\"}},\"id\":\"1175\",\"subtype\":\"Figure\",\"type\":\"Plot\"},{\"attributes\":{},\"id\":\"1219\",\"type\":\"BasicTickFormatter\"},{\"attributes\":{\"end\":11},\"id\":\"1178\",\"type\":\"Range1d\"},{\"attributes\":{},\"id\":\"1223\",\"type\":\"UnionRenderers\"},{\"attributes\":{},\"id\":\"1180\",\"type\":\"LinearScale\"},{\"attributes\":{\"text\":\"\"},\"id\":\"1218\",\"type\":\"Title\"},{\"attributes\":{\"axis_label\":\"source tokens\",\"formatter\":{\"id\":\"1219\"},\"major_label_orientation\":45,\"major_label_overrides\":{\"0.5\":\"_BOS_\",\"1.5\":\"\\u0440\\u0430\\u0441\\u0441\\u0442\\u043e\\u044f\\u043d\\u0438\\u0435\",\"10.5\":\"\\u043a\\u043c\",\"11.5\":\".\",\"12.5\":\"_EOS_\",\"2.5\":\"\\u0434\\u043e\",\"3.5\":\"\\u0433\\u043e\\u0440\\u043e\\u0434\\u0430\",\"4.5\":\"\\u043a\\u0438@@\",\"5.5\":\"\\u0441\\u0441\\u0438@@\",\"6.5\":\"\\u043c@@\",\"7.5\":\"\\u043c\\u0438\",\"8.5\":\"\\u0441\\u043e\\u0441\\u0442\\u0430\\u0432\\u043b\\u044f\\u0435\\u0442\",\"9.5\":\"26\"},\"ticker\":{\"id\":\"1198\"}},\"id\":\"1197\",\"type\":\"LinearAxis\"},{\"attributes\":{\"palette\":[\"#000000\",\"#252525\",\"#525252\",\"#737373\",\"#969696\",\"#bdbdbd\",\"#d9d9d9\",\"#f0f0f0\",\"#ffffff\"]},\"id\":\"1192\",\"type\":\"LinearColorMapper\"},{\"attributes\":{\"color_mapper\":{\"id\":\"1194\"},\"dh\":{\"units\":\"data\",\"value\":11},\"dw\":{\"units\":\"data\",\"value\":13},\"global_alpha\":0.1,\"image\":{\"field\":\"image\"},\"x\":{\"value\":0},\"y\":{\"value\":0}},\"id\":\"1193\",\"type\":\"Image\"},{\"attributes\":{\"data_source\":{\"id\":\"1190\"},\"glyph\":{\"id\":\"1191\"},\"hover_glyph\":null,\"muted_glyph\":null,\"nonselection_glyph\":{\"id\":\"1193\"},\"selection_glyph\":null,\"view\":{\"id\":\"1196\"}},\"id\":\"1195\",\"type\":\"GlyphRenderer\"},{\"attributes\":{\"data\":{\"image\":[{\"__ndarray__\":\"hNP4M5HvOzYMrzIzrCuqN6eGEDaNAG4655FJOIVz4zWBNsE3zeQWOFZMHDo76Ps6rxZ/P+aTPzfLUJk3RWWpNkb9Jzs4ERA3sl/mO3MHjjmEiCQ4yVPnOC9VZDeZgR876awKPj4hWj+ftnA1JjrWN3LLRzaoy9E8nIunOyA9ATwe/0U7cNIsO4HHfznoCJY5jIIBOowOyj3oI1s/k2ybOJAeBzic4uAz58EaO6DJmDy9WFM+cEH7Oss8kDqc7CA759UpOkh2Qztbx7w9RdQrP3d1kS842ng0A5bwNDAlUTvC4YE1EaUcN/L7OzY6zag2ltSdOLyRCTfT8l47vQX7PlXGAD/Xm7Mz5472OC2fmDaht+o4vc+ZOOzVlTfonZo2YVf4NUGoZzl9Lw47CdZ8P7GxBDz/i8k6BdRYMhg6hTe6SeQ2kA9oOCJQGjTCYJIy6jlfNFGJcTR+9AM6TDipOwNVfj9ODEE6fxEJOFh5iTOBEhY5C61HN/zm/znkbjk4sbG5Nqq3rzV6Bxs1k3gTOpRvYTztdnk/qF4qPPNv7jhBEf889ORhOoRqCTx8zZk+UVq4PLrxbj0obJY+4NxcPt5WsDvTOCw8VG7GO4oODj3PAEk8hdCbOTYk6zhjOFc3jBCxONlwFz+jdqc+ZdehPbASyzp85zw26EWHOTj3hDfYI+Q0pN6TNKkyjjn0sM47OI6HOPfN4Ts37687d8stPCwe9zqv+zg7LkUFOvbBcjyW4DA/soxWPbceVD4=\",\"dtype\":\"float32\",\"order\":\"little\",\"shape\":[11,13]}]},\"selected\":{\"id\":\"1222\"},\"selection_policy\":{\"id\":\"1223\"}},\"id\":\"1190\",\"type\":\"ColumnDataSource\"},{\"attributes\":{\"overlay\":{\"id\":\"1184\"}},\"id\":\"1172\",\"type\":\"BoxZoomTool\"},{\"attributes\":{},\"id\":\"1220\",\"type\":\"BasicTickFormatter\"},{\"attributes\":{\"bottom_units\":\"screen\",\"fill_alpha\":0.5,\"fill_color\":\"lightgrey\",\"left_units\":\"screen\",\"level\":\"overlay\",\"line_alpha\":1.0,\"line_color\":\"black\",\"line_dash\":[4,4],\"line_width\":2,\"right_units\":\"screen\",\"top_units\":\"screen\"},\"id\":\"1184\",\"type\":\"BoxAnnotation\"},{\"attributes\":{\"ticks\":[0.5,1.5,2.5,3.5,4.5,5.5,6.5,7.5,8.5,9.5,10.5,11.5,12.5]},\"id\":\"1198\",\"type\":\"FixedTicker\"},{\"attributes\":{\"ticks\":[0.5,1.5,2.5,3.5,4.5,5.5,6.5,7.5,8.5,9.5,10.5]},\"id\":\"1201\",\"type\":\"FixedTicker\"},{\"attributes\":{},\"id\":\"1173\",\"type\":\"ResetTool\"},{\"attributes\":{\"axis_label\":\"translation tokens\",\"formatter\":{\"id\":\"1220\"},\"major_label_overrides\":{\"0.5\":\"_EOS_\",\"1.5\":\".\",\"10.5\":\"_BOS_\",\"2.5\":\"property\",\"3.5\":\"the\",\"4.5\":\"from\",\"5.5\":\"km\",\"6.5\":\"26\",\"7.5\":\"located\",\"8.5\":\"is\",\"9.5\":\"kissimmee\"},\"ticker\":{\"id\":\"1201\"}},\"id\":\"1200\",\"type\":\"LinearAxis\"},{\"attributes\":{\"callback\":null},\"id\":\"1171\",\"type\":\"HoverTool\"},{\"attributes\":{},\"id\":\"1174\",\"type\":\"SaveTool\"},{\"attributes\":{\"source\":{\"id\":\"1190\"}},\"id\":\"1196\",\"type\":\"CDSView\"},{\"attributes\":{\"color_mapper\":{\"id\":\"1192\"},\"dh\":{\"units\":\"data\",\"value\":11},\"dw\":{\"units\":\"data\",\"value\":13},\"image\":{\"field\":\"image\"},\"x\":{\"value\":0},\"y\":{\"value\":0}},\"id\":\"1191\",\"type\":\"Image\"},{\"attributes\":{\"end\":13},\"id\":\"1176\",\"type\":\"Range1d\"},{\"attributes\":{},\"id\":\"1222\",\"type\":\"Selection\"},{\"attributes\":{\"active_drag\":\"auto\",\"active_inspect\":\"auto\",\"active_multi\":null,\"active_scroll\":\"auto\",\"active_tap\":\"auto\",\"tools\":[{\"id\":\"1171\"},{\"id\":\"1172\"},{\"id\":\"1173\"},{\"id\":\"1174\"}]},\"id\":\"1185\",\"type\":\"Toolbar\"},{\"attributes\":{},\"id\":\"1182\",\"type\":\"LinearScale\"},{\"attributes\":{\"palette\":[\"#000000\",\"#252525\",\"#525252\",\"#737373\",\"#969696\",\"#bdbdbd\",\"#d9d9d9\",\"#f0f0f0\",\"#ffffff\"]},\"id\":\"1194\",\"type\":\"LinearColorMapper\"}],\"root_ids\":[\"1175\"]},\"title\":\"Bokeh Application\",\"version\":\"2.2.0\"}};\n",
       "  var render_items = [{\"docid\":\"63c75557-ef00-4a95-9a54-de8757f9c917\",\"root_ids\":[\"1175\"],\"roots\":{\"1175\":\"88c6b4ef-8c0b-4ee5-a42a-334e16217d2c\"}}];\n",
       "  root.Bokeh.embed.embed_items_notebook(docs_json, render_items);\n",
       "\n",
       "  }\n",
       "  if (root.Bokeh !== undefined) {\n",
       "    embed_document(root);\n",
       "  } else {\n",
       "    var attempts = 0;\n",
       "    var timer = setInterval(function(root) {\n",
       "      if (root.Bokeh !== undefined) {\n",
       "        clearInterval(timer);\n",
       "        embed_document(root);\n",
       "      } else {\n",
       "        attempts++;\n",
       "        if (attempts > 100) {\n",
       "          clearInterval(timer);\n",
       "          console.log(\"Bokeh: ERROR: Unable to run BokehJS code because BokehJS library is missing\");\n",
       "        }\n",
       "      }\n",
       "    }, 10, root)\n",
       "  }\n",
       "})(window);"
      ],
      "application/vnd.bokehjs_exec.v0+json": ""
     },
     "metadata": {
      "application/vnd.bokehjs_exec.v0+json": {
       "id": "1175"
      }
     },
     "output_type": "display_data"
    },
    {
     "data": {
      "text/html": [
       "\n",
       "\n",
       "\n",
       "\n",
       "\n",
       "\n",
       "  <div class=\"bk-root\" id=\"cbc99aa2-e26d-439a-9ead-19f369cedbf4\" data-root-id=\"1270\"></div>\n"
      ]
     },
     "metadata": {},
     "output_type": "display_data"
    },
    {
     "data": {
      "application/javascript": [
       "(function(root) {\n",
       "  function embed_document(root) {\n",
       "    \n",
       "  var docs_json = {\"78db9834-6cfa-4d4d-afc3-348fe25050f2\":{\"roots\":{\"references\":[{\"attributes\":{\"above\":[{\"id\":\"1292\"}],\"left\":[{\"id\":\"1295\"}],\"renderers\":[{\"id\":\"1290\"}],\"title\":{\"id\":\"1320\"},\"toolbar\":{\"id\":\"1280\"},\"toolbar_location\":\"above\",\"x_range\":{\"id\":\"1271\"},\"x_scale\":{\"id\":\"1275\"},\"y_range\":{\"id\":\"1273\"},\"y_scale\":{\"id\":\"1277\"}},\"id\":\"1270\",\"subtype\":\"Figure\",\"type\":\"Plot\"},{\"attributes\":{\"bottom_units\":\"screen\",\"fill_alpha\":0.5,\"fill_color\":\"lightgrey\",\"left_units\":\"screen\",\"level\":\"overlay\",\"line_alpha\":1.0,\"line_color\":\"black\",\"line_dash\":[4,4],\"line_width\":2,\"right_units\":\"screen\",\"top_units\":\"screen\"},\"id\":\"1279\",\"type\":\"BoxAnnotation\"},{\"attributes\":{\"axis_label\":\"translation tokens\",\"formatter\":{\"id\":\"1322\"},\"major_label_overrides\":{\"0.5\":\"_EOS_\",\"1.5\":\".\",\"10.5\":\"a\",\"11.5\":\"also\",\"12.5\":\"units\",\"13.5\":\"conditioned\",\"14.5\":\"-\",\"15.5\":\"air\",\"16.5\":\",\",\"17.5\":\"garden\",\"18.5\":\"a\",\"19.5\":\",\",\"2.5\":\"terrace\",\"20.5\":\"pool\",\"21.5\":\"a\",\"22.5\":\"with\",\"23.5\":\"garden\",\"24.5\":\"a\",\"25.5\":\",\",\"26.5\":\"pool\",\"27.5\":\"outdoor\",\"28.5\":\"shared\",\"29.5\":\"a\",\"3.5\":\"sun\",\"30.5\":\"offering\",\"31.5\":\"_BOS_\",\"4.5\":\"a\",\"5.5\":\"and\",\"6.5\":\"garden\",\"7.5\":\"a\",\"8.5\":\"with\",\"9.5\":\"garden\"},\"ticker\":{\"id\":\"1296\"}},\"id\":\"1295\",\"type\":\"LinearAxis\"},{\"attributes\":{},\"id\":\"1268\",\"type\":\"ResetTool\"},{\"attributes\":{\"callback\":null},\"id\":\"1266\",\"type\":\"HoverTool\"},{\"attributes\":{\"ticks\":[0.5,1.5,2.5,3.5,4.5,5.5,6.5,7.5,8.5,9.5,10.5,11.5,12.5,13.5,14.5,15.5,16.5,17.5,18.5,19.5,20.5,21.5,22.5,23.5,24.5,25.5,26.5,27.5,28.5,29.5,30.5,31.5]},\"id\":\"1296\",\"type\":\"FixedTicker\"},{\"attributes\":{\"overlay\":{\"id\":\"1279\"}},\"id\":\"1267\",\"type\":\"BoxZoomTool\"},{\"attributes\":{\"data\":{\"image\":[{\"__ndarray__\":\"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\",\"dtype\":\"float32\",\"order\":\"little\",\"shape\":[32,32]}]},\"selected\":{\"id\":\"1324\"},\"selection_policy\":{\"id\":\"1325\"}},\"id\":\"1285\",\"type\":\"ColumnDataSource\"},{\"attributes\":{},\"id\":\"1275\",\"type\":\"LinearScale\"},{\"attributes\":{\"text\":\"\"},\"id\":\"1320\",\"type\":\"Title\"},{\"attributes\":{},\"id\":\"1322\",\"type\":\"BasicTickFormatter\"},{\"attributes\":{\"active_drag\":\"auto\",\"active_inspect\":\"auto\",\"active_multi\":null,\"active_scroll\":\"auto\",\"active_tap\":\"auto\",\"tools\":[{\"id\":\"1266\"},{\"id\":\"1267\"},{\"id\":\"1268\"},{\"id\":\"1269\"}]},\"id\":\"1280\",\"type\":\"Toolbar\"},{\"attributes\":{\"end\":32},\"id\":\"1273\",\"type\":\"Range1d\"},{\"attributes\":{\"color_mapper\":{\"id\":\"1287\"},\"dh\":{\"units\":\"data\",\"value\":32},\"dw\":{\"units\":\"data\",\"value\":32},\"image\":{\"field\":\"image\"},\"x\":{\"value\":0},\"y\":{\"value\":0}},\"id\":\"1286\",\"type\":\"Image\"},{\"attributes\":{},\"id\":\"1324\",\"type\":\"Selection\"},{\"attributes\":{\"ticks\":[0.5,1.5,2.5,3.5,4.5,5.5,6.5,7.5,8.5,9.5,10.5,11.5,12.5,13.5,14.5,15.5,16.5,17.5,18.5,19.5,20.5,21.5,22.5,23.5,24.5,25.5,26.5,27.5,28.5,29.5,30.5,31.5]},\"id\":\"1293\",\"type\":\"FixedTicker\"},{\"attributes\":{\"color_mapper\":{\"id\":\"1289\"},\"dh\":{\"units\":\"data\",\"value\":32},\"dw\":{\"units\":\"data\",\"value\":32},\"global_alpha\":0.1,\"image\":{\"field\":\"image\"},\"x\":{\"value\":0},\"y\":{\"value\":0}},\"id\":\"1288\",\"type\":\"Image\"},{\"attributes\":{\"palette\":[\"#000000\",\"#252525\",\"#525252\",\"#737373\",\"#969696\",\"#bdbdbd\",\"#d9d9d9\",\"#f0f0f0\",\"#ffffff\"]},\"id\":\"1287\",\"type\":\"LinearColorMapper\"},{\"attributes\":{\"end\":32},\"id\":\"1271\",\"type\":\"Range1d\"},{\"attributes\":{\"source\":{\"id\":\"1285\"}},\"id\":\"1291\",\"type\":\"CDSView\"},{\"attributes\":{},\"id\":\"1325\",\"type\":\"UnionRenderers\"},{\"attributes\":{},\"id\":\"1321\",\"type\":\"BasicTickFormatter\"},{\"attributes\":{\"palette\":[\"#000000\",\"#252525\",\"#525252\",\"#737373\",\"#969696\",\"#bdbdbd\",\"#d9d9d9\",\"#f0f0f0\",\"#ffffff\"]},\"id\":\"1289\",\"type\":\"LinearColorMapper\"},{\"attributes\":{},\"id\":\"1277\",\"type\":\"LinearScale\"},{\"attributes\":{\"axis_label\":\"source tokens\",\"formatter\":{\"id\":\"1321\"},\"major_label_orientation\":45,\"major_label_overrides\":{\"0.5\":\"_BOS_\",\"1.5\":\"\\u0430\\u043f\\u0430\\u0440\\u0442\\u0430\\u043c\\u0435\\u043d\\u0442\\u044b\",\"10.5\":\"\\u0441\\u0430\\u0434\\u043e\\u043c\",\"11.5\":\",\",\"12.5\":\"\\u043a\\u043e\\u043d\\u0434\\u0438\\u0446\\u0438\\u043e\\u043d\\u0435\\u0440\\u043e\\u043c\",\"13.5\":\"\\u0438\",\"14.5\":\"\\u0442\\u0435\\u0440\\u0440\\u0430\\u0441\\u043e\\u0439\",\"15.5\":\"\\u0434\\u043b\\u044f\",\"16.5\":\"\\u0437\\u0430\\u0433\\u0430\\u0440\\u0430\",\"17.5\":\"\\u0440\\u0430\\u0441\\u043f\\u043e\\u043b\\u043e\\u0436\\u0435\\u043d\\u044b\",\"18.5\":\"\\u0432\",\"19.5\":\"5\",\"2.5\":\"\\u0432\",\"20.5\":\"\\u043c\\u0438\\u043d\\u0443\\u0442\\u0430\\u0445\",\"21.5\":\"\\u0445\\u043e\\u0434\\u044c\\u0431\\u044b\",\"22.5\":\"\\u043e\\u0442\",\"23.5\":\"\\u043f\\u043b\\u044f\\u0436\\u0430\",\"24.5\":\"\\u043d\\u0430\",\"25.5\":\"\\u043a\\u0443\\u0440\\u043e\\u0440\\u0442\\u0435\",\"26.5\":\"\\u043a\\u0430@@\",\"27.5\":\"\\u0431\\u043e\",\"28.5\":\"-\",\"29.5\":\"\\u0440\\u043e\\u0439\",\"3.5\":\"\\u043f\\u0435\\u043d\\u0442@@\",\"30.5\":\".\",\"31.5\":\"_EOS_\",\"4.5\":\"\\u0445\\u0430\\u0443\\u0441\\u0435\",\"5.5\":\"\\u0441\",\"6.5\":\"\\u043e\\u0431\\u0449\\u0438\\u043c\",\"7.5\":\"\\u043e\\u0442\\u043a\\u0440\\u044b\\u0442\\u044b\\u043c\",\"8.5\":\"\\u0431\\u0430\\u0441\\u0441\\u0435\\u0439\\u043d\\u043e\\u043c\",\"9.5\":\",\"},\"ticker\":{\"id\":\"1293\"}},\"id\":\"1292\",\"type\":\"LinearAxis\"},{\"attributes\":{},\"id\":\"1269\",\"type\":\"SaveTool\"},{\"attributes\":{\"data_source\":{\"id\":\"1285\"},\"glyph\":{\"id\":\"1286\"},\"hover_glyph\":null,\"muted_glyph\":null,\"nonselection_glyph\":{\"id\":\"1288\"},\"selection_glyph\":null,\"view\":{\"id\":\"1291\"}},\"id\":\"1290\",\"type\":\"GlyphRenderer\"}],\"root_ids\":[\"1270\"]},\"title\":\"Bokeh Application\",\"version\":\"2.2.0\"}};\n",
       "  var render_items = [{\"docid\":\"78db9834-6cfa-4d4d-afc3-348fe25050f2\",\"root_ids\":[\"1270\"],\"roots\":{\"1270\":\"cbc99aa2-e26d-439a-9ead-19f369cedbf4\"}}];\n",
       "  root.Bokeh.embed.embed_items_notebook(docs_json, render_items);\n",
       "\n",
       "  }\n",
       "  if (root.Bokeh !== undefined) {\n",
       "    embed_document(root);\n",
       "  } else {\n",
       "    var attempts = 0;\n",
       "    var timer = setInterval(function(root) {\n",
       "      if (root.Bokeh !== undefined) {\n",
       "        clearInterval(timer);\n",
       "        embed_document(root);\n",
       "      } else {\n",
       "        attempts++;\n",
       "        if (attempts > 100) {\n",
       "          clearInterval(timer);\n",
       "          console.log(\"Bokeh: ERROR: Unable to run BokehJS code because BokehJS library is missing\");\n",
       "        }\n",
       "      }\n",
       "    }, 10, root)\n",
       "  }\n",
       "})(window);"
      ],
      "application/vnd.bokehjs_exec.v0+json": ""
     },
     "metadata": {
      "application/vnd.bokehjs_exec.v0+json": {
       "id": "1270"
      }
     },
     "output_type": "display_data"
    },
    {
     "data": {
      "text/html": [
       "\n",
       "\n",
       "\n",
       "\n",
       "\n",
       "\n",
       "  <div class=\"bk-root\" id=\"ee4959b0-dce0-4c85-bd2d-ff0c38307f94\" data-root-id=\"1372\"></div>\n"
      ]
     },
     "metadata": {},
     "output_type": "display_data"
    },
    {
     "data": {
      "application/javascript": [
       "(function(root) {\n",
       "  function embed_document(root) {\n",
       "    \n",
       "  var docs_json = {\"b00dee7d-530f-43da-83b2-1a3f3c443eb8\":{\"roots\":{\"references\":[{\"attributes\":{\"above\":[{\"id\":\"1394\"}],\"left\":[{\"id\":\"1397\"}],\"renderers\":[{\"id\":\"1392\"}],\"title\":{\"id\":\"1429\"},\"toolbar\":{\"id\":\"1382\"},\"toolbar_location\":\"above\",\"x_range\":{\"id\":\"1373\"},\"x_scale\":{\"id\":\"1377\"},\"y_range\":{\"id\":\"1375\"},\"y_scale\":{\"id\":\"1379\"}},\"id\":\"1372\",\"subtype\":\"Figure\",\"type\":\"Plot\"},{\"attributes\":{\"end\":29},\"id\":\"1375\",\"type\":\"Range1d\"},{\"attributes\":{\"color_mapper\":{\"id\":\"1389\"},\"dh\":{\"units\":\"data\",\"value\":29},\"dw\":{\"units\":\"data\",\"value\":23},\"image\":{\"field\":\"image\"},\"x\":{\"value\":0},\"y\":{\"value\":0}},\"id\":\"1388\",\"type\":\"Image\"},{\"attributes\":{},\"id\":\"1430\",\"type\":\"BasicTickFormatter\"},{\"attributes\":{\"color_mapper\":{\"id\":\"1391\"},\"dh\":{\"units\":\"data\",\"value\":29},\"dw\":{\"units\":\"data\",\"value\":23},\"global_alpha\":0.1,\"image\":{\"field\":\"image\"},\"x\":{\"value\":0},\"y\":{\"value\":0}},\"id\":\"1390\",\"type\":\"Image\"},{\"attributes\":{},\"id\":\"1371\",\"type\":\"SaveTool\"},{\"attributes\":{\"ticks\":[0.5,1.5,2.5,3.5,4.5,5.5,6.5,7.5,8.5,9.5,10.5,11.5,12.5,13.5,14.5,15.5,16.5,17.5,18.5,19.5,20.5,21.5,22.5]},\"id\":\"1395\",\"type\":\"FixedTicker\"},{\"attributes\":{\"data_source\":{\"id\":\"1387\"},\"glyph\":{\"id\":\"1388\"},\"hover_glyph\":null,\"muted_glyph\":null,\"nonselection_glyph\":{\"id\":\"1390\"},\"selection_glyph\":null,\"view\":{\"id\":\"1393\"}},\"id\":\"1392\",\"type\":\"GlyphRenderer\"},{\"attributes\":{\"bottom_units\":\"screen\",\"fill_alpha\":0.5,\"fill_color\":\"lightgrey\",\"left_units\":\"screen\",\"level\":\"overlay\",\"line_alpha\":1.0,\"line_color\":\"black\",\"line_dash\":[4,4],\"line_width\":2,\"right_units\":\"screen\",\"top_units\":\"screen\"},\"id\":\"1381\",\"type\":\"BoxAnnotation\"},{\"attributes\":{\"axis_label\":\"source tokens\",\"formatter\":{\"id\":\"1430\"},\"major_label_orientation\":45,\"major_label_overrides\":{\"0.5\":\"_BOS_\",\"1.5\":\"\\u0430\\u043f\\u0430\\u0440\\u0442\\u0430\\u043c\\u0435\\u043d\\u0442\\u044b\",\"10.5\":\"square\",\"11.5\":\"\\u043d\\u0430\\u0445\\u043e\\u0434\\u044f\\u0442\\u0441\\u044f\",\"12.5\":\"\\u0432\",\"13.5\":\"\\u043c\\u043e\\u0441\\u043a\\u0432\\u0435\",\"14.5\":\",\",\"15.5\":\"\\u0432\",\"16.5\":\"200\",\"17.5\":\"\\u043c\\u0435\\u0442\\u0440\\u0430\\u0445\",\"18.5\":\"\\u043e\\u0442\",\"19.5\":\"\\u0431\\u043e\\u043b\\u044c\\u0448\\u043e\\u0433\\u043e\",\"2.5\":\"mo@@\",\"20.5\":\"\\u0442\\u0435\\u0430\\u0442\\u0440\\u0430\",\"21.5\":\".\",\"22.5\":\"_EOS_\",\"3.5\":\"s@@\",\"4.5\":\"co@@\",\"5.5\":\"w\",\"6.5\":\"point\",\"7.5\":\"-\",\"8.5\":\"loft\",\"9.5\":\"red\"},\"ticker\":{\"id\":\"1395\"}},\"id\":\"1394\",\"type\":\"LinearAxis\"},{\"attributes\":{},\"id\":\"1370\",\"type\":\"ResetTool\"},{\"attributes\":{\"active_drag\":\"auto\",\"active_inspect\":\"auto\",\"active_multi\":null,\"active_scroll\":\"auto\",\"active_tap\":\"auto\",\"tools\":[{\"id\":\"1368\"},{\"id\":\"1369\"},{\"id\":\"1370\"},{\"id\":\"1371\"}]},\"id\":\"1382\",\"type\":\"Toolbar\"},{\"attributes\":{\"overlay\":{\"id\":\"1381\"}},\"id\":\"1369\",\"type\":\"BoxZoomTool\"},{\"attributes\":{},\"id\":\"1431\",\"type\":\"BasicTickFormatter\"},{\"attributes\":{\"palette\":[\"#000000\",\"#252525\",\"#525252\",\"#737373\",\"#969696\",\"#bdbdbd\",\"#d9d9d9\",\"#f0f0f0\",\"#ffffff\"]},\"id\":\"1391\",\"type\":\"LinearColorMapper\"},{\"attributes\":{\"axis_label\":\"translation tokens\",\"formatter\":{\"id\":\"1431\"},\"major_label_overrides\":{\"0.5\":\"_EOS_\",\"1.5\":\".\",\"10.5\":\"theatre\",\"11.5\":\"red\",\"12.5\":\"downtown\",\"13.5\":\"-\",\"14.5\":\"red\",\"15.5\":\"central\",\"16.5\":\"-\",\"17.5\":\"red\",\"18.5\":\"central\",\"19.5\":\"-\",\"2.5\":\"red\",\"20.5\":\"red\",\"21.5\":\"w\",\"22.5\":\"s@@\",\"23.5\":\"mo@@\",\"24.5\":\",\",\"25.5\":\"moscow\",\"26.5\":\"in\",\"27.5\":\"set\",\"28.5\":\"_BOS_\",\"3.5\":\"central\",\"4.5\":\"-\",\"5.5\":\"red\",\"6.5\":\"from\",\"7.5\":\"metres\",\"8.5\":\"200\",\"9.5\":\"is\"},\"ticker\":{\"id\":\"1398\"}},\"id\":\"1397\",\"type\":\"LinearAxis\"},{\"attributes\":{\"source\":{\"id\":\"1387\"}},\"id\":\"1393\",\"type\":\"CDSView\"},{\"attributes\":{\"ticks\":[0.5,1.5,2.5,3.5,4.5,5.5,6.5,7.5,8.5,9.5,10.5,11.5,12.5,13.5,14.5,15.5,16.5,17.5,18.5,19.5,20.5,21.5,22.5,23.5,24.5,25.5,26.5,27.5,28.5]},\"id\":\"1398\",\"type\":\"FixedTicker\"},{\"attributes\":{\"end\":23},\"id\":\"1373\",\"type\":\"Range1d\"},{\"attributes\":{},\"id\":\"1377\",\"type\":\"LinearScale\"},{\"attributes\":{\"callback\":null},\"id\":\"1368\",\"type\":\"HoverTool\"},{\"attributes\":{\"data\":{\"image\":[{\"__ndarray__\":\"Yto9MfGLBjPhAHI0yu0KNqvSADfITLQ2leP3NaPzqzWiLJ03SBPNOayqTDfWdXE2XxEONCPCwzQQLio1gxw6NRHGKTUg3zA2beGdNNAY+jgRqQI8+JYWPaRmdD9e3wY0RHW7NrNJ+jSL2ZU2r0kQOfJpuDmGtiw6mtBxOsrrxDpElw0/eKjAPRuJYj2zVAg3tlqlN6mgZDXavC43I4Z9OKLtjzgYbaE3GfSQPLLZfz5VDfw74bmXPHGQ4TbdeR02QhX8Nde3ujluYg47sLyAO27GUD3Cc/Q8VKZcPbVqCz9fx4c9Ka6hPIJ/4DaWL8w0igcDNF0wBjNfGDc1s4AcNilhjzeWC349oMUpPkJsJjn9emQ5MlvdMuhnjzZ/u4k2X5cWOi9hkDtb5bU8Q4+oOrYkxTqPV8A73aWAPg1R5z5FJCY6vycOOLi9vDi95pA17dcZM+3XSTetbkk3bLpmOJJqAjyOiVU+9fkrPXyY6DqTRmIz5yULNhIS0zfCrB86E1JjPJYsnD3E+d05rYXTOkR/lTyW5+g+OupjPoZ/lTrdUNw2uKSBN9CA/TKYXUY0e6xPOElYgjjgAVU4/C6OPVhK6D0tpKg8DzrcO81gAjWloDg2TGTlOrUEGTzhwtg6c6WLOf+Eeziuzhw6FRLTOmFSaD/6TE092xEgOaJp9TReIX05eK0GND9qIjKsMn03cJ0RObGXNTgdkyI8S+0IO5uZRDzQ6CI7L9AXL4PjgjTrews22coONr4fhTWVRRE28lwLNOAPxTaxZ9E2A2HPOjblXzk5vSo4MQRNOP2ZgTcSDZA1UMABN7QexDimPw86OAqqOV8FkjyIYoU7NKCYPlJXLT/FutA18YLMOKV/ojjnGp44PC5AN8npNDncKw83Xv5SODf4zjd3GYM728SLO9x0eDvnHFw7PPVMPQv5+jgTbfk6GZSEPfu1Vz8beXg73y/SOitVCDxSvdg783KNOxuuuy7smq82bxvyNQ+AFDVJ6Icw5NgINJhG4jLZnEIznuMANR8xWTeX+MU1hbp0N8u3xTnISKM8l30mNpUGEDmkc74+ZEkbPzRIxjdBgO44O5ZMNxfxOTr/JL04XkwLNVouozerNKk3jvBMNqj5PjZuPMc1CAmhNnNwkzULNdo3mVKkOF8ucjdMugY6Ttw1OarYuzt5+zw5s2Z7O7cCUT0a/Vs9LSTPOo+T4ju5McI9aFR/PY4QOD+YIdk3Ve0gOLcvojUnMkM3zSWEN8/vjzgfEtk6a3tKPGthCzt/Rg4/Bo8MPc8NhzuU23E2WnwaONKZsDTZ+wg3n4qfOHBnfTlLQVM4uoNnPO9Epj5NiCM99WkoPGVscDWOGsM4MGgtN+KgazguTOY2CIjDOj+40Ds1QgI+mz7wO0LPOj804b49aLjKOWbxoTaHRb45lDEcNfMe3TVFtS85iO0XOSAnhDiwI8U70MvVPHe6jjrrtDI5fjE0MqyIKDfNfJE2niJsOISmrDckbsw5DHRKOd1CiTvfpCU7cfhXPmRHHD9KpMQ6foVaOH14Mzk1qp0zpMu9NDVxkDgBHC45q5vzN5H9RztU85g92miLPSQLwDzQbXI5cgaGOXWRejclQs03s/KqOIlSNzlVigA6UM2kO4C+dTseqwY/1/puPKsSdTtqG3Q4ltN3OfHz1DZVv8A4iBpTOss8NjonRb44eROePZ6HcT7W+LU9iroqPUlN5DfsHbw2UWwjNw+yEzmk6Yw5suGuOoOOETzCy4s9Ip3nOx07OD8M+PU9dhj6OB5OiDWuJBQ1xn0ANMIXPjPkKhY1EUiCNSelBTgU54A8bfluPSBjTzcOlQ829nWXMrlg5TbHKgg3BZJuOCKVozci0FE6EC7gOeAduzsr+R07t+GIPoBBJj8gWHU6JrMzOGOkxjjkmKIzOTq2NMDObzhSjbk4V+kDN9L/CDsvxQ89IBvBPLQXQTxfz3U56GKzOX94ZTdyMYs3BxZNOEJstDk2NUA6E97nO/vq8jvqkE4/w1+4PMshkzyCH6E4KMxcOQ7w7DZKWIQ4cmmjOinsAzrHfBU4Fz74PG0+bz2q7sM8L0SxPMEp1jewC/w2JHwjOLpL6jkVVeY6BPENPLvJCD3ywAQ+Wn+sPEC2FT/86FM+6RgjOei1sTRPs9s0mtBnNHMtkzKJ2Sg07TMYNTbjJje4+T072CUmPLFWOza+0RA1Bv1ZNMn5djVBjpc21dRbOWGBIzqf+xU8wJvNOTPIEzub2hM9ZlKGPgdwLz9tANE5vyLBNqPKozjvun8yF1yZMkFQxjXZ02Y2LM58NLfd7DdbeAM7sOwzOiKd0zmHlgM2lCxfNye87DYwz1c28fG2NtiPhTlxewI7+F9WPOc3eDs3Wlo/9yK3PXXBNDyQ9Uw23MewNwWpnzVp2/Y1QZEvOGpxfTn99SY39TsHOyhmyzz7p804m5IZOfFg1jQ+Cw47VEtIOBai1znRLts443+POh01Izzj24s87g24PJlcQD+kNVA9rDj6PfJ7aDiuGC05oNopN0MMDTc/gyo6OSsKPGgsZjd0W2I4+ZiXO9txPDvpg687vbOiNWlKrTVP4q83xrnIO3XNaT1XAvc+XPGpPSDYEzwW2Oc8ouhLPZttkT6Amk85FIPSNcbouzR/wqUyLassMXGHYTHsM4kzPeAONTW7tTNvDUw2erriM6Z46zLahw03cYTmNGlX1jpPo+U+vD1BPThjrT1PLr46qxziOQbXKzrTML48U0HIPji4sjfySYo3x8+NOjb8ljUFctoz4yUfNbkQETZ+xFs0/AYRNGqhCTZfZIs0O3gzNCzkBTfnmsA6Q5pKPwDu/D0xMJU6XqcXO0t5XjgkBHI42aQqOWiwCzwHxsE6i02+NXH7rjU6pHA5rwlkN4QuRTkIUs48060uPTb0QDg9mHg29WhoNwkZNDnDIbQ63o2uNWLdRTjT7jg328wRN0nWejeD02w5j1nFOQaUpDzPa8g8FbfBPebKxD7Ydp09ZE1EPP4KhD60a+M4z6mCOQ5TaD1vZD0917oHOQdewjoNjSg7nx0YPELmSDxOoC8zO+b1MjQsozfryVg4LsOGNePkjzcz4kw2G6CSNsegpDZuCDI5eBh/OMMr2zbj9og4GFd/P3aBmjVlNRY2yOeiOqL2XTpLYCs4GoNzNUWnIDj+5cIzvPCsM18uQjgNXvk5acEaO7La7jrmuk03xUWkOjOl2jh2jYc6naaaOepJBj/JicI95fw+O/ofYzrW4ls+DuvXNTYujDf7xqE9GSaYPU831jly+2I4mVlNOCD8sDkv/8Q5xnVpNiLZhDqoYBM+124MPqXKsDuo2v48aC+uO96MZzzrk7s61zkMPxTYID2gv6o63LOIOYqPoTxyiAM5ZryUONbaQzzOsRU9CqQOO1gYWDgaIJU6ol0uN7/iGznnG2I34FjDOCRxUTkze+M5vkTXNvCDSTeUP6U2vZ76NyfZmDipc8A6xUrzOITTZDruWwE5jpOLOyx1EjgwrTE5s+8KOoJ58jq4OpU381ImOb0T/jlMVyY+cZxTPw==\",\"dtype\":\"float32\",\"order\":\"little\",\"shape\":[29,23]}]},\"selected\":{\"id\":\"1433\"},\"selection_policy\":{\"id\":\"1434\"}},\"id\":\"1387\",\"type\":\"ColumnDataSource\"},{\"attributes\":{},\"id\":\"1434\",\"type\":\"UnionRenderers\"},{\"attributes\":{},\"id\":\"1379\",\"type\":\"LinearScale\"},{\"attributes\":{},\"id\":\"1433\",\"type\":\"Selection\"},{\"attributes\":{\"text\":\"\"},\"id\":\"1429\",\"type\":\"Title\"},{\"attributes\":{\"palette\":[\"#000000\",\"#252525\",\"#525252\",\"#737373\",\"#969696\",\"#bdbdbd\",\"#d9d9d9\",\"#f0f0f0\",\"#ffffff\"]},\"id\":\"1389\",\"type\":\"LinearColorMapper\"}],\"root_ids\":[\"1372\"]},\"title\":\"Bokeh Application\",\"version\":\"2.2.0\"}};\n",
       "  var render_items = [{\"docid\":\"b00dee7d-530f-43da-83b2-1a3f3c443eb8\",\"root_ids\":[\"1372\"],\"roots\":{\"1372\":\"ee4959b0-dce0-4c85-bd2d-ff0c38307f94\"}}];\n",
       "  root.Bokeh.embed.embed_items_notebook(docs_json, render_items);\n",
       "\n",
       "  }\n",
       "  if (root.Bokeh !== undefined) {\n",
       "    embed_document(root);\n",
       "  } else {\n",
       "    var attempts = 0;\n",
       "    var timer = setInterval(function(root) {\n",
       "      if (root.Bokeh !== undefined) {\n",
       "        clearInterval(timer);\n",
       "        embed_document(root);\n",
       "      } else {\n",
       "        attempts++;\n",
       "        if (attempts > 100) {\n",
       "          clearInterval(timer);\n",
       "          console.log(\"Bokeh: ERROR: Unable to run BokehJS code because BokehJS library is missing\");\n",
       "        }\n",
       "      }\n",
       "    }, 10, root)\n",
       "  }\n",
       "})(window);"
      ],
      "application/vnd.bokehjs_exec.v0+json": ""
     },
     "metadata": {
      "application/vnd.bokehjs_exec.v0+json": {
       "id": "1372"
      }
     },
     "output_type": "display_data"
    }
   ],
   "source": [
    "for i in range(5):\n",
    "    draw_attention(inp[i], trans[i], attention_probs[i])\n",
    "    \n",
    "# Does it look fine already? don't forget to save images for anytask!"
   ]
  },
  {
   "cell_type": "markdown",
   "metadata": {},
   "source": [
    "__Note 1:__ If the attention maps are not iterpretable, try starting encoder from zeros (instead of dec_start), forcing model to use attention.\n",
    "\n",
    "__Note 2:__ If you're studying this course as a YSDA student, please submit __attention screenshots__ alongside your notebook."
   ]
  },
  {
   "cell_type": "markdown",
   "metadata": {
    "colab_type": "text",
    "id": "pbIIngNVlrtt"
   },
   "source": [
    "## Goind deeper (2++ points each)\n",
    "\n",
    "We want you to find the best model for the task. Use everything you know.\n",
    "\n",
    "* different recurrent units: rnn/gru/lstm; deeper architectures\n",
    "* bidirectional encoder, different attention methods for decoder (additive, dot-product, multi-head)\n",
    "* word dropout, training schedules, anything you can imagine\n",
    "* replace greedy inference with beam search\n",
    "\n",
    "For a better grasp of seq2seq We recommend you to conduct at least one experiment from one of the bullet-points or your alternative ideas. As usual, describe what you tried and what results you obtained in a short report."
   ]
  },
  {
   "cell_type": "markdown",
   "metadata": {
    "colab_type": "text",
    "collapsed": true,
    "id": "2rzAj_xtlrtt"
   },
   "source": [
    "`[your report/log here or anywhere you please]`"
   ]
  }
 ],
 "metadata": {
  "accelerator": "GPU",
  "colab": {
   "collapsed_sections": [
    "edk_oVg0lrtW"
   ],
   "name": "practice.ipynb",
   "provenance": []
  },
  "kernelspec": {
   "display_name": "Python 3",
   "language": "python",
   "name": "python3"
  },
  "language_info": {
   "codemirror_mode": {
    "name": "ipython",
    "version": 3
   },
   "file_extension": ".py",
   "mimetype": "text/x-python",
   "name": "python",
   "nbconvert_exporter": "python",
   "pygments_lexer": "ipython3",
   "version": "3.7.9"
  }
 },
 "nbformat": 4,
 "nbformat_minor": 1
}
